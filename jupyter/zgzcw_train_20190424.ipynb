{
 "cells": [
  {
   "cell_type": "code",
   "execution_count": 1,
   "metadata": {},
   "outputs": [],
   "source": [
    "import pandas as pd\n",
    "from sklearn import preprocessing"
   ]
  },
  {
   "cell_type": "markdown",
   "metadata": {},
   "source": [
    "## 处理feature表数据"
   ]
  },
  {
   "cell_type": "code",
   "execution_count": 2,
   "metadata": {},
   "outputs": [],
   "source": [
    "features_df = pd.read_csv('../data/breadt_football_feature_info_201904291909.csv')"
   ]
  },
  {
   "cell_type": "code",
   "execution_count": 3,
   "metadata": {},
   "outputs": [
    {
     "data": {
      "text/plain": [
       "array(['id', 'matchid', 'h_score', 'h_rank', 'h_perf_win', 'h_perf_draw',\n",
       "       'h_perf_lose', 'h_host_win', 'h_host_draw', 'h_host_lose',\n",
       "       'h_battle_with_front_10_win', 'h_battle_with_front_10_draw',\n",
       "       'h_battle_with_front_10_lose', 'h_battle_with_end_10_win',\n",
       "       'h_battle_with_end_10_draw', 'h_battle_with_end_10_lose',\n",
       "       'h_perf_gs', 'h_perf_gd', 'h_perf_avg_gs', 'h_perf_avg_gd',\n",
       "       'h_host_gs', 'h_host_gd', 'h_host_avg_gs', 'h_host_avg_gd',\n",
       "       'h_r3_gs', 'h_r3_gd', 'h_r3_avg_gs', 'h_r3_avg_gd',\n",
       "       'h_perf_bet_high', 'h_perf_bet_low', 'h_host_bet_high',\n",
       "       'h_host_bet_low', 'h_host_0_1_goal', 'h_host_2_3_goal',\n",
       "       'h_host_ab_4_goal', 'h_host_0_goal', 'h_host_1_goal',\n",
       "       'h_host_2_goal', 'h_host_3_goal', 'h_host_4_goal', 'h_host_5_goal',\n",
       "       'h_host_6_goal', 'h_host_7_goal', 'v_score', 'v_rank',\n",
       "       'v_perf_win', 'v_perf_draw', 'v_perf_lose', 'v_host_win',\n",
       "       'v_host_draw', 'v_host_lose', 'v_battle_with_front_10_win',\n",
       "       'v_battle_with_front_10_draw', 'v_battle_with_front_10_lose',\n",
       "       'v_battle_with_end_10_win', 'v_battle_with_end_10_draw',\n",
       "       'v_battle_with_end_10_lose', 'v_perf_gs', 'v_perf_gd',\n",
       "       'v_perf_avg_gs', 'v_perf_avg_gd', 'v_host_gs', 'v_host_gd',\n",
       "       'v_host_avg_gs', 'v_host_avg_gd', 'v_r3_gs', 'v_r3_gd',\n",
       "       'v_r3_avg_gs', 'v_r3_avg_gd', 'v_perf_bet_high', 'v_perf_bet_low',\n",
       "       'v_host_bet_high', 'v_host_bet_low', 'v_host_0_1_goal',\n",
       "       'v_host_2_3_goal', 'v_host_ab_4_goal', 'v_host_0_goal',\n",
       "       'v_host_1_goal', 'v_host_2_goal', 'v_host_3_goal', 'v_host_4_goal',\n",
       "       'v_host_5_goal', 'v_host_6_goal', 'v_host_7_goal'], dtype=object)"
      ]
     },
     "execution_count": 3,
     "metadata": {},
     "output_type": "execute_result"
    }
   ],
   "source": [
    "features_df.columns.values"
   ]
  },
  {
   "cell_type": "code",
   "execution_count": 4,
   "metadata": {},
   "outputs": [],
   "source": [
    "def get_count(col):\n",
    "    arr = col.split(' ')\n",
    "    if len(arr) == 2:\n",
    "        return int(arr[1])\n",
    "    \n",
    "    return int(arr[0])"
   ]
  },
  {
   "cell_type": "code",
   "execution_count": 5,
   "metadata": {},
   "outputs": [],
   "source": [
    "features_df['h_perf_win_count'] = features_df.apply(lambda row: get_count(row.h_perf_win), axis=1)\n",
    "features_df['h_perf_draw_count'] = features_df.apply(lambda row: get_count(row.h_perf_draw), axis=1)\n",
    "features_df['h_perf_lose_count'] = features_df.apply(lambda row: get_count(row.h_perf_lose), axis=1)\n",
    "\n",
    "features_df['h_count'] = features_df['h_perf_win_count'] + features_df['h_perf_draw_count'] + features_df['h_perf_lose_count']\n",
    "\n",
    "features_df['h_host_win_count'] = features_df.apply(lambda row: get_count(row.h_host_win), axis=1)\n",
    "features_df['h_host_draw_count'] = features_df.apply(lambda row: get_count(row.h_host_draw), axis=1)\n",
    "features_df['h_host_lose_count'] = features_df.apply(lambda row: get_count(row.h_host_lose), axis=1)\n",
    "features_df['h_battle_with_front_10_win_count'] = features_df.apply(lambda row: get_count(row.h_battle_with_front_10_win), axis=1)\n",
    "features_df['h_battle_with_front_10_draw_count'] = features_df.apply(lambda row: get_count(row.h_battle_with_front_10_draw), axis=1)\n",
    "features_df['h_battle_with_front_10_lose_count'] = features_df.apply(lambda row: get_count(row.h_battle_with_front_10_lose), axis=1)\n",
    "features_df['h_battle_with_end_10_win_count'] = features_df.apply(lambda row: get_count(row.h_battle_with_end_10_win), axis=1)\n",
    "features_df['h_battle_with_end_10_draw_count'] = features_df.apply(lambda row: get_count(row.h_battle_with_end_10_draw), axis=1)\n",
    "features_df['h_battle_with_end_10_lose_count'] = features_df.apply(lambda row: get_count(row.h_battle_with_end_10_lose), axis=1)\n",
    "\n",
    "features_df['v_perf_win_count'] = features_df.apply(lambda row: get_count(row.v_perf_win), axis=1)\n",
    "features_df['v_perf_draw_count'] = features_df.apply(lambda row: get_count(row.v_perf_draw), axis=1)\n",
    "features_df['v_perf_lose_count'] = features_df.apply(lambda row: get_count(row.v_perf_lose), axis=1)\n",
    "\n",
    "features_df['v_count'] = features_df['v_perf_win_count'] + features_df['v_perf_draw_count'] + features_df['v_perf_lose_count']\n",
    "\n",
    "features_df['v_host_win_count'] = features_df.apply(lambda row: get_count(row.v_host_win), axis=1)\n",
    "features_df['v_host_draw_count'] = features_df.apply(lambda row: get_count(row.v_host_draw), axis=1)\n",
    "features_df['v_host_lose_count'] = features_df.apply(lambda row: get_count(row.v_host_lose), axis=1)\n",
    "features_df['v_battle_with_front_10_win_count'] = features_df.apply(lambda row: get_count(row.v_battle_with_front_10_win), axis=1)\n",
    "features_df['v_battle_with_front_10_draw_count'] = features_df.apply(lambda row: get_count(row.v_battle_with_front_10_draw), axis=1)\n",
    "features_df['v_battle_with_front_10_lose_count'] = features_df.apply(lambda row: get_count(row.v_battle_with_front_10_lose), axis=1)\n",
    "features_df['v_battle_with_end_10_win_count'] = features_df.apply(lambda row: get_count(row.v_battle_with_end_10_win), axis=1)\n",
    "features_df['v_battle_with_end_10_draw_count'] = features_df.apply(lambda row: get_count(row.v_battle_with_end_10_draw), axis=1)\n",
    "features_df['v_battle_with_end_10_lose_count'] = features_df.apply(lambda row: get_count(row.v_battle_with_end_10_lose), axis=1)"
   ]
  },
  {
   "cell_type": "code",
   "execution_count": 6,
   "metadata": {},
   "outputs": [],
   "source": [
    "def get_count_rate(col, all_count):\n",
    "    arr = col.split(' ')\n",
    "    if len(arr) == 2:\n",
    "        return int(arr[1]) / int(all_count)\n",
    "    \n",
    "    return int(arr[0])  / int(all_count)"
   ]
  },
  {
   "cell_type": "code",
   "execution_count": 7,
   "metadata": {},
   "outputs": [],
   "source": [
    "features_df['h_perf_win_count_rate'] = features_df.apply(lambda row: get_count_rate(row.h_perf_win, row.h_count), axis=1)\n",
    "features_df['h_perf_draw_count_rate'] = features_df.apply(lambda row: get_count_rate(row.h_perf_draw, row.h_count), axis=1)\n",
    "features_df['h_perf_lose_count_rate'] = features_df.apply(lambda row: get_count_rate(row.h_perf_lose, row.h_count), axis=1)\n",
    "features_df['h_host_win_count_rate'] = features_df.apply(lambda row: get_count_rate(row.h_host_win, row.h_count), axis=1)\n",
    "features_df['h_host_draw_count_rate'] = features_df.apply(lambda row: get_count_rate(row.h_host_draw, row.h_count), axis=1)\n",
    "features_df['h_host_lose_count_rate'] = features_df.apply(lambda row: get_count_rate(row.h_host_lose, row.h_count), axis=1)\n",
    "features_df['h_battle_with_front_10_win_count_rate'] = features_df.apply(lambda row: get_count_rate(row.h_battle_with_front_10_win, row.h_count), axis=1)\n",
    "features_df['h_battle_with_front_10_draw_count_rate'] = features_df.apply(lambda row: get_count_rate(row.h_battle_with_front_10_draw, row.h_count), axis=1)\n",
    "features_df['h_battle_with_front_10_lose_count_rate'] = features_df.apply(lambda row: get_count_rate(row.h_battle_with_front_10_lose, row.h_count), axis=1)\n",
    "features_df['h_battle_with_end_10_win_count_rate'] = features_df.apply(lambda row: get_count_rate(row.h_battle_with_end_10_win, row.h_count), axis=1)\n",
    "features_df['h_battle_with_end_10_draw_count_rate'] = features_df.apply(lambda row: get_count_rate(row.h_battle_with_end_10_draw, row.h_count), axis=1)\n",
    "features_df['h_battle_with_end_10_lose_count_rate'] = features_df.apply(lambda row: get_count_rate(row.h_battle_with_end_10_lose, row.h_count), axis=1)\n",
    "\n",
    "features_df['v_perf_win_count_rate'] = features_df.apply(lambda row: get_count_rate(row.v_perf_win, row.v_count), axis=1)\n",
    "features_df['v_perf_draw_count_rate'] = features_df.apply(lambda row: get_count_rate(row.v_perf_draw, row.v_count), axis=1)\n",
    "features_df['v_perf_lose_count_rate'] = features_df.apply(lambda row: get_count_rate(row.v_perf_lose, row.v_count), axis=1)\n",
    "features_df['v_host_win_count_rate'] = features_df.apply(lambda row: get_count_rate(row.v_host_win, row.v_count), axis=1)\n",
    "features_df['v_host_draw_count_rate'] = features_df.apply(lambda row: get_count_rate(row.v_host_draw, row.v_count), axis=1)\n",
    "features_df['v_host_lose_count_rate'] = features_df.apply(lambda row: get_count_rate(row.v_host_lose, row.v_count), axis=1)\n",
    "features_df['v_battle_with_front_10_win_count_rate'] = features_df.apply(lambda row: get_count_rate(row.v_battle_with_front_10_win, row.v_count), axis=1)\n",
    "features_df['v_battle_with_front_10_draw_count_rate'] = features_df.apply(lambda row: get_count_rate(row.v_battle_with_front_10_draw, row.v_count), axis=1)\n",
    "features_df['v_battle_with_front_10_lose_count_rate'] = features_df.apply(lambda row: get_count_rate(row.v_battle_with_front_10_lose, row.v_count), axis=1)\n",
    "features_df['v_battle_with_end_10_win_count_rate'] = features_df.apply(lambda row: get_count_rate(row.v_battle_with_end_10_win, row.v_count), axis=1)\n",
    "features_df['v_battle_with_end_10_draw_count_rate'] = features_df.apply(lambda row: get_count_rate(row.v_battle_with_end_10_draw, row.v_count), axis=1)\n",
    "features_df['v_battle_with_end_10_lose_count_rate'] = features_df.apply(lambda row: get_count_rate(row.v_battle_with_end_10_lose, row.v_count), axis=1)"
   ]
  },
  {
   "cell_type": "code",
   "execution_count": 8,
   "metadata": {},
   "outputs": [],
   "source": [
    "def get_current_score(words, score, pos):\n",
    "    t = score.replace(words, '')\n",
    "    t = t.replace('胜', '')\n",
    "    t = t.replace('平', '')\n",
    "    t = t.replace('负', '')\n",
    "    t = t.replace('分', '')\n",
    "    \n",
    "    arr = t.split('  ')\n",
    "    \n",
    "    if len(arr) == 3 and len(arr[2].split(' ')) == 2:\n",
    "        arr = [arr[0], arr[1]] + arr[2].split(' ')\n",
    "    \n",
    "    if len(arr) != 4:\n",
    "        return None\n",
    "    \n",
    "    if arr[pos] != '':\n",
    "        return int(arr[pos])\n",
    "    else:\n",
    "        return None"
   ]
  },
  {
   "cell_type": "code",
   "execution_count": 9,
   "metadata": {},
   "outputs": [],
   "source": [
    "features_df['h_current_win_count'] = features_df.apply(lambda row: get_current_score('主队：', row.h_score, 0), axis=1)\n",
    "features_df['h_current_draw_count'] = features_df.apply(lambda row: get_current_score('主队：', row.h_score, 1), axis=1)\n",
    "features_df['h_current_lose_count'] = features_df.apply(lambda row: get_current_score('主队：', row.h_score, 2), axis=1)\n",
    "\n",
    "features_df['h_all_count'] = features_df['h_current_win_count'] + features_df['h_current_draw_count'] + features_df['h_current_lose_count']\n",
    "features_df['h_current_win_count_rate'] = features_df['h_current_win_count'] / features_df['h_all_count']\n",
    "features_df['h_current_draw_count_rate'] = features_df['h_current_draw_count'] / features_df['h_all_count']\n",
    "features_df['h_current_lose_count_rate'] = features_df['h_current_lose_count'] / features_df['h_all_count']\n",
    "\n",
    "features_df['h_current_score'] = features_df.apply(lambda row: get_current_score('主队：', row.h_score, 3), axis=1)\n",
    "\n",
    "features_df['v_current_win_count'] = features_df.apply(lambda row: get_current_score('客队：', row.v_score, 0), axis=1)\n",
    "features_df['v_current_draw_count'] = features_df.apply(lambda row: get_current_score('客队：', row.v_score, 1), axis=1)\n",
    "features_df['v_current_lose_count'] = features_df.apply(lambda row: get_current_score('客队：', row.v_score, 2), axis=1)\n",
    "\n",
    "features_df['v_all_count'] = features_df['v_current_win_count'] + features_df['v_current_draw_count'] + features_df['v_current_lose_count']\n",
    "features_df['v_current_win_count_rate'] = features_df['v_current_win_count'] / features_df['v_all_count']\n",
    "features_df['v_current_draw_count_rate'] = features_df['v_current_draw_count'] / features_df['v_all_count']\n",
    "features_df['v_current_lose_count_rate'] = features_df['v_current_lose_count'] / features_df['v_all_count']\n",
    "\n",
    "features_df['v_current_score'] = features_df.apply(lambda row: get_current_score('客队：', row.v_score, 3), axis=1)"
   ]
  },
  {
   "cell_type": "code",
   "execution_count": 10,
   "metadata": {},
   "outputs": [],
   "source": [
    "def get_current_rank(rank):\n",
    "    arr = rank.split('  ')\n",
    "    \n",
    "    if len(arr) == 2:\n",
    "        rank_str = arr[1].replace('本赛季排名：', '')\n",
    "        if rank_str != '':\n",
    "            return int(rank_str)\n",
    "    \n",
    "    return None"
   ]
  },
  {
   "cell_type": "code",
   "execution_count": 11,
   "metadata": {},
   "outputs": [],
   "source": [
    "features_df['h_current_rank'] = features_df.apply(lambda row: get_current_rank(row.h_rank), axis=1)\n",
    "features_df['v_current_rank'] = features_df.apply(lambda row: get_current_rank(row.v_rank), axis=1)"
   ]
  },
  {
   "cell_type": "code",
   "execution_count": 12,
   "metadata": {},
   "outputs": [],
   "source": [
    "target_cols = ['h_perf_gs', 'h_perf_gd', 'h_perf_avg_gs', 'h_perf_avg_gd',\n",
    "    'h_host_gs', 'h_host_gd', 'h_host_avg_gs', 'h_host_avg_gd',\n",
    "    'h_r3_gs', 'h_r3_gd', 'h_r3_avg_gs', 'h_r3_avg_gd',\n",
    "    'h_perf_bet_high', 'h_perf_bet_low', 'h_host_bet_high',\n",
    "    'h_host_bet_low', 'h_host_0_1_goal', 'h_host_2_3_goal',\n",
    "    'h_host_ab_4_goal', 'h_host_0_goal', 'h_host_1_goal',\n",
    "    'h_host_2_goal', 'h_host_3_goal', 'h_host_4_goal', 'h_host_5_goal',\n",
    "    'h_host_6_goal', 'h_host_7_goal']\n",
    "\n",
    "for k in target_cols:\n",
    "    features_df[k + '_rate'] = features_df[k] / features_df['h_count']"
   ]
  },
  {
   "cell_type": "code",
   "execution_count": 13,
   "metadata": {},
   "outputs": [],
   "source": [
    "target_cols = ['v_perf_gs', 'v_perf_gd',\n",
    "    'v_perf_avg_gs', 'v_perf_avg_gd', 'v_host_gs', 'v_host_gd',\n",
    "    'v_host_avg_gs', 'v_host_avg_gd', 'v_r3_gs', 'v_r3_gd',\n",
    "    'v_r3_avg_gs', 'v_r3_avg_gd', 'v_perf_bet_high', 'v_perf_bet_low',\n",
    "    'v_host_bet_high', 'v_host_bet_low', 'v_host_0_1_goal',\n",
    "    'v_host_2_3_goal', 'v_host_ab_4_goal', 'v_host_0_goal',\n",
    "    'v_host_1_goal', 'v_host_2_goal', 'v_host_3_goal', 'v_host_4_goal',\n",
    "    'v_host_5_goal', 'v_host_6_goal', 'v_host_7_goal']\n",
    "\n",
    "for k in target_cols:\n",
    "    features_df[k + '_rate'] = features_df[k] / features_df['v_count']"
   ]
  },
  {
   "cell_type": "markdown",
   "metadata": {},
   "source": [
    "## 处理list表数据"
   ]
  },
  {
   "cell_type": "code",
   "execution_count": 14,
   "metadata": {},
   "outputs": [
    {
     "name": "stdout",
     "output_type": "stream",
     "text": [
      "56553\n",
      "12177\n",
      "56809\n"
     ]
    },
    {
     "data": {
      "text/plain": [
       "43260"
      ]
     },
     "execution_count": 14,
     "metadata": {},
     "output_type": "execute_result"
    }
   ],
   "source": [
    "df = pd.read_csv('../data/breadt_football_game_list_201904291834.csv', parse_dates=['time'])\n",
    "print(len(df))\n",
    "lottery = pd.read_csv('../data/breadt_lottery_info_list.csv', parse_dates=['time'])\n",
    "lottery['matchid'] = abs(lottery['matchid'])\n",
    "print(len(lottery))\n",
    "\n",
    "df = pd.concat([df, lottery])\n",
    "df = df[['matchid', 'game', 'home_team',\n",
    "       'visit_team', 'gs', 'gd', 'gn', 'time', 'result', 'win_bet_return',\n",
    "       'draw_bet_return', 'lose_bet_return']]\n",
    "df = df.drop_duplicates(subset=['matchid'])\n",
    "print(len(df))\n",
    "\n",
    "# match_df = df\n",
    "match_group = ['澳超', '英超', '德甲', '德乙', '法甲', '西甲', '意甲', \n",
    "               '日职', '英甲', '英冠', '苏超', '法乙', '葡超', '荷甲', \n",
    "               '荷乙', '韩K联', '瑞典超', '挪超', '美职', '日乙', '俄超', \n",
    "               '比甲', '瑞典甲', '法丙', '挪甲', '英乙', '苏冠', '巴甲', '智利甲', '墨超', '智利乙', '阿甲']\n",
    "\n",
    "match_df = df[ (df['game'].isin(match_group) ) ]\n",
    "match_df = match_df.dropna()\n",
    "len(match_df)"
   ]
  },
  {
   "cell_type": "code",
   "execution_count": 15,
   "metadata": {},
   "outputs": [],
   "source": [
    "team_arr = list(set(df['home_team'].values) | set(df['visit_team'].values))\n",
    "\n",
    "team_encoder = preprocessing.LabelEncoder()\n",
    "team_encoder.fit(team_arr)\n",
    "\n",
    "match_df['home_team_encoder'] = team_encoder.transform(match_df['home_team'])\n",
    "match_df['visit_team_encoder'] = team_encoder.transform(match_df['visit_team'])"
   ]
  },
  {
   "cell_type": "code",
   "execution_count": 16,
   "metadata": {},
   "outputs": [],
   "source": [
    "game_arr = list(set(match_df['game'].values))\n",
    "\n",
    "game_encoder = preprocessing.LabelEncoder()\n",
    "game_encoder.fit(game_arr)\n",
    "\n",
    "match_df['game_encoder'] = game_encoder.transform(match_df['game'])"
   ]
  },
  {
   "cell_type": "code",
   "execution_count": 17,
   "metadata": {},
   "outputs": [],
   "source": [
    "match_df['year'] = match_df.apply(lambda row: row.time.year, axis=1)\n",
    "match_df['month'] = match_df.apply(lambda row: row.time.month, axis=1)\n",
    "match_df['day'] = match_df.apply(lambda row: row.time.day, axis=1)\n",
    "match_df['fix_result'] = match_df.apply(lambda row: int(row.result) if row.result < 3 else 2, axis=1)"
   ]
  },
  {
   "cell_type": "code",
   "execution_count": 18,
   "metadata": {},
   "outputs": [],
   "source": [
    "# turn_arr = list(set(match_df['turn'].values))\n",
    "\n",
    "# turn_encoder = preprocessing.LabelEncoder()\n",
    "# turn_encoder.fit(turn_arr)\n",
    "\n",
    "# match_df['turn_encoder'] = turn_encoder.transform(match_df['turn'])"
   ]
  },
  {
   "cell_type": "markdown",
   "metadata": {},
   "source": [
    "## 并表"
   ]
  },
  {
   "cell_type": "code",
   "execution_count": 19,
   "metadata": {},
   "outputs": [],
   "source": [
    "train_dataset_df = pd.merge(match_df, features_df, on='matchid', how='left')"
   ]
  },
  {
   "cell_type": "code",
   "execution_count": 20,
   "metadata": {},
   "outputs": [
    {
     "data": {
      "text/plain": [
       "39245"
      ]
     },
     "execution_count": 20,
     "metadata": {},
     "output_type": "execute_result"
    }
   ],
   "source": [
    "train_dataset_df = train_dataset_df.dropna()\n",
    "len(train_dataset_df)"
   ]
  },
  {
   "cell_type": "markdown",
   "metadata": {},
   "source": [
    "## 训练 xgb"
   ]
  },
  {
   "cell_type": "code",
   "execution_count": 22,
   "metadata": {},
   "outputs": [
    {
     "name": "stdout",
     "output_type": "stream",
     "text": [
      "[1417]\ttrain-merror:0.051932\tval-merror:0.216404\n",
      "[1418]\ttrain-merror:0.051797\tval-merror:0.216867\n",
      "[1419]\ttrain-merror:0.051635\tval-merror:0.217331\n",
      "[1420]\ttrain-merror:0.051554\tval-merror:0.216867\n",
      "[1421]\ttrain-merror:0.051447\tval-merror:0.217331\n",
      "[1422]\ttrain-merror:0.051447\tval-merror:0.217794\n",
      "[1423]\ttrain-merror:0.051501\tval-merror:0.217794\n",
      "[1424]\ttrain-merror:0.051285\tval-merror:0.217331\n",
      "[1425]\ttrain-merror:0.051312\tval-merror:0.217331\n",
      "[1426]\ttrain-merror:0.051096\tval-merror:0.217331\n",
      "[1427]\ttrain-merror:0.050934\tval-merror:0.217794\n",
      "[1428]\ttrain-merror:0.05088\tval-merror:0.217794\n",
      "[1429]\ttrain-merror:0.050907\tval-merror:0.217794\n",
      "[1430]\ttrain-merror:0.050746\tval-merror:0.217794\n",
      "[1431]\ttrain-merror:0.050746\tval-merror:0.218258\n",
      "[1432]\ttrain-merror:0.050611\tval-merror:0.218721\n",
      "[1433]\ttrain-merror:0.050584\tval-merror:0.218258\n",
      "[1434]\ttrain-merror:0.05053\tval-merror:0.217794\n",
      "[1435]\ttrain-merror:0.050368\tval-merror:0.217331\n",
      "[1436]\ttrain-merror:0.050368\tval-merror:0.217331\n",
      "[1437]\ttrain-merror:0.050233\tval-merror:0.216867\n",
      "[1438]\ttrain-merror:0.050206\tval-merror:0.216867\n",
      "[1439]\ttrain-merror:0.050018\tval-merror:0.216867\n",
      "[1440]\ttrain-merror:0.050044\tval-merror:0.216867\n",
      "[1441]\ttrain-merror:0.050018\tval-merror:0.216404\n",
      "[1442]\ttrain-merror:0.049748\tval-merror:0.215941\n",
      "[1443]\ttrain-merror:0.049721\tval-merror:0.216404\n",
      "[1444]\ttrain-merror:0.049694\tval-merror:0.217331\n",
      "[1445]\ttrain-merror:0.049613\tval-merror:0.215941\n",
      "[1446]\ttrain-merror:0.049505\tval-merror:0.216867\n",
      "[1447]\ttrain-merror:0.049397\tval-merror:0.216404\n",
      "[1448]\ttrain-merror:0.049343\tval-merror:0.216404\n",
      "[1449]\ttrain-merror:0.049316\tval-merror:0.216404\n",
      "[1450]\ttrain-merror:0.04929\tval-merror:0.215941\n",
      "[1451]\ttrain-merror:0.049182\tval-merror:0.215941\n",
      "[1452]\ttrain-merror:0.049182\tval-merror:0.215477\n",
      "[1453]\ttrain-merror:0.049128\tval-merror:0.215477\n",
      "[1454]\ttrain-merror:0.048912\tval-merror:0.215477\n",
      "[1455]\ttrain-merror:0.048858\tval-merror:0.215477\n",
      "[1456]\ttrain-merror:0.048831\tval-merror:0.216867\n",
      "[1457]\ttrain-merror:0.048804\tval-merror:0.216867\n",
      "[1458]\ttrain-merror:0.048615\tval-merror:0.216867\n",
      "[1459]\ttrain-merror:0.048615\tval-merror:0.216867\n",
      "[1460]\ttrain-merror:0.048535\tval-merror:0.216867\n",
      "[1461]\ttrain-merror:0.048481\tval-merror:0.216867\n",
      "[1462]\ttrain-merror:0.048265\tval-merror:0.216867\n",
      "[1463]\ttrain-merror:0.048238\tval-merror:0.216867\n",
      "[1464]\ttrain-merror:0.048076\tval-merror:0.216867\n",
      "[1465]\ttrain-merror:0.047941\tval-merror:0.216867\n",
      "[1466]\ttrain-merror:0.047807\tval-merror:0.216867\n",
      "[1467]\ttrain-merror:0.047807\tval-merror:0.216867\n",
      "[1468]\ttrain-merror:0.047699\tval-merror:0.216867\n",
      "[1469]\ttrain-merror:0.047564\tval-merror:0.216404\n",
      "[1470]\ttrain-merror:0.047618\tval-merror:0.216867\n",
      "[1471]\ttrain-merror:0.047483\tval-merror:0.217331\n",
      "[1472]\ttrain-merror:0.047294\tval-merror:0.216867\n",
      "[1473]\ttrain-merror:0.047159\tval-merror:0.216867\n",
      "[1474]\ttrain-merror:0.047025\tval-merror:0.216867\n",
      "[1475]\ttrain-merror:0.046971\tval-merror:0.216867\n",
      "[1476]\ttrain-merror:0.04689\tval-merror:0.216867\n",
      "[1477]\ttrain-merror:0.046863\tval-merror:0.216867\n",
      "[1478]\ttrain-merror:0.046593\tval-merror:0.216404\n",
      "[1479]\ttrain-merror:0.046512\tval-merror:0.216404\n",
      "[1480]\ttrain-merror:0.046431\tval-merror:0.216404\n",
      "[1481]\ttrain-merror:0.046377\tval-merror:0.216404\n",
      "[1482]\ttrain-merror:0.046324\tval-merror:0.216404\n",
      "[1483]\ttrain-merror:0.046324\tval-merror:0.216404\n",
      "[1484]\ttrain-merror:0.046162\tval-merror:0.216404\n",
      "[1485]\ttrain-merror:0.046162\tval-merror:0.216404\n",
      "[1486]\ttrain-merror:0.046027\tval-merror:0.215941\n",
      "[1487]\ttrain-merror:0.046\tval-merror:0.215941\n",
      "[1488]\ttrain-merror:0.045973\tval-merror:0.215941\n",
      "[1489]\ttrain-merror:0.045865\tval-merror:0.215941\n",
      "[1490]\ttrain-merror:0.045784\tval-merror:0.215941\n",
      "[1491]\ttrain-merror:0.045703\tval-merror:0.215941\n",
      "[1492]\ttrain-merror:0.045703\tval-merror:0.215941\n",
      "[1493]\ttrain-merror:0.045595\tval-merror:0.215941\n",
      "[1494]\ttrain-merror:0.045434\tval-merror:0.215941\n",
      "[1495]\ttrain-merror:0.045407\tval-merror:0.215941\n",
      "[1496]\ttrain-merror:0.04538\tval-merror:0.215941\n",
      "[1497]\ttrain-merror:0.045218\tval-merror:0.216404\n",
      "[1498]\ttrain-merror:0.04511\tval-merror:0.216404\n",
      "[1499]\ttrain-merror:0.045002\tval-merror:0.216404\n",
      "[1500]\ttrain-merror:0.045002\tval-merror:0.216404\n",
      "[1501]\ttrain-merror:0.044948\tval-merror:0.216404\n",
      "[1502]\ttrain-merror:0.044814\tval-merror:0.216404\n",
      "[1503]\ttrain-merror:0.044787\tval-merror:0.215941\n",
      "[1504]\ttrain-merror:0.044598\tval-merror:0.215941\n",
      "[1505]\ttrain-merror:0.044544\tval-merror:0.215941\n",
      "[1506]\ttrain-merror:0.044436\tval-merror:0.216404\n",
      "[1507]\ttrain-merror:0.044436\tval-merror:0.216404\n",
      "[1508]\ttrain-merror:0.044409\tval-merror:0.216404\n",
      "[1509]\ttrain-merror:0.044409\tval-merror:0.215941\n",
      "Stopping. Best iteration:\n",
      "[1209]\ttrain-merror:0.071534\tval-merror:0.214551\n",
      "\n",
      "1209\n"
     ]
    },
    {
     "data": {
      "text/plain": [
       "array([1., 2., 1., ..., 2., 2., 2.], dtype=float32)"
      ]
     },
     "execution_count": 22,
     "metadata": {},
     "output_type": "execute_result"
    }
   ],
   "source": [
    "import xgboost as xgb\n",
    "\n",
    "x_columns = [\n",
    "    'year', \n",
    "    'month', \n",
    "#     'day',\n",
    "    'win_bet_return', 'draw_bet_return','lose_bet_return', 'home_team_encoder', 'visit_team_encoder', 'game_encoder', \n",
    "    \n",
    "#     'turn_encoder',\n",
    "    \n",
    "    'h_perf_gs', 'h_perf_gd', 'h_perf_avg_gs', 'h_perf_avg_gd',\n",
    "    'h_host_gs', 'h_host_gd', 'h_host_avg_gs', 'h_host_avg_gd',\n",
    "    'h_r3_gs', 'h_r3_gd', 'h_r3_avg_gs', 'h_r3_avg_gd',\n",
    "    'h_perf_bet_high', 'h_perf_bet_low', 'h_host_bet_high',\n",
    "    'h_host_bet_low', 'h_host_0_1_goal', 'h_host_2_3_goal',\n",
    "    'h_host_ab_4_goal', 'h_host_0_goal', 'h_host_1_goal',\n",
    "    'h_host_2_goal', 'h_host_3_goal', 'h_host_4_goal', 'h_host_5_goal',\n",
    "    'h_host_6_goal', 'h_host_7_goal', \n",
    "    \n",
    "    'h_perf_gs_rate', 'h_perf_gd_rate', 'h_perf_avg_gs_rate', 'h_perf_avg_gd_rate',\n",
    "    'h_host_gs_rate', 'h_host_gd_rate', 'h_host_avg_gs_rate', 'h_host_avg_gd_rate',\n",
    "    'h_r3_gs_rate', 'h_r3_gd_rate', 'h_r3_avg_gs_rate', 'h_r3_avg_gd_rate',\n",
    "    'h_perf_bet_high_rate', 'h_perf_bet_low_rate', 'h_host_bet_high_rate',\n",
    "    'h_host_bet_low_rate', 'h_host_0_1_goal_rate', 'h_host_2_3_goal_rate',\n",
    "    'h_host_ab_4_goal_rate', 'h_host_0_goal_rate', 'h_host_1_goal_rate',\n",
    "    'h_host_2_goal_rate', 'h_host_3_goal_rate', 'h_host_4_goal_rate', 'h_host_5_goal_rate',\n",
    "    'h_host_6_goal_rate', 'h_host_7_goal_rate', \n",
    "    \n",
    "    'v_perf_gs', 'v_perf_gd',\n",
    "    'v_perf_avg_gs', 'v_perf_avg_gd', 'v_host_gs', 'v_host_gd',\n",
    "    'v_host_avg_gs', 'v_host_avg_gd', 'v_r3_gs', 'v_r3_gd',\n",
    "    'v_r3_avg_gs', 'v_r3_avg_gd', 'v_perf_bet_high', 'v_perf_bet_low',\n",
    "    'v_host_bet_high', 'v_host_bet_low', 'v_host_0_1_goal',\n",
    "    'v_host_2_3_goal', 'v_host_ab_4_goal', 'v_host_0_goal',\n",
    "    'v_host_1_goal', 'v_host_2_goal', 'v_host_3_goal', 'v_host_4_goal',\n",
    "    'v_host_5_goal', 'v_host_6_goal', 'v_host_7_goal',\n",
    "    \n",
    "    'v_perf_gs_rate', 'v_perf_gd_rate',\n",
    "    'v_perf_avg_gs_rate', 'v_perf_avg_gd_rate', 'v_host_gs_rate', 'v_host_gd_rate',\n",
    "    'v_host_avg_gs_rate', 'v_host_avg_gd_rate', 'v_r3_gs_rate', 'v_r3_gd_rate',\n",
    "    'v_r3_avg_gs_rate', 'v_r3_avg_gd_rate', 'v_perf_bet_high_rate', 'v_perf_bet_low_rate',\n",
    "    'v_host_bet_high_rate', 'v_host_bet_low_rate', 'v_host_0_1_goal_rate',\n",
    "    'v_host_2_3_goal_rate', 'v_host_ab_4_goal_rate', 'v_host_0_goal_rate',\n",
    "    'v_host_1_goal_rate', 'v_host_2_goal_rate', 'v_host_3_goal_rate', 'v_host_4_goal_rate',\n",
    "    'v_host_5_goal_rate', 'v_host_6_goal_rate', 'v_host_7_goal_rate',\n",
    "\n",
    "    'h_perf_win_count', 'h_perf_draw_count', 'h_perf_lose_count',\n",
    "    'h_host_win_count', 'h_host_draw_count', 'h_host_lose_count',\n",
    "    'h_battle_with_front_10_win_count',\n",
    "    'h_battle_with_front_10_draw_count',\n",
    "    'h_battle_with_front_10_lose_count',\n",
    "    'h_battle_with_end_10_win_count',\n",
    "    'h_battle_with_end_10_draw_count',\n",
    "    'h_battle_with_end_10_lose_count', 'v_perf_win_count',\n",
    "    'v_perf_draw_count', 'v_perf_lose_count', 'v_host_win_count',\n",
    "    'v_host_draw_count', 'v_host_lose_count',\n",
    "    'v_battle_with_front_10_win_count',\n",
    "    'v_battle_with_front_10_draw_count',\n",
    "    'v_battle_with_front_10_lose_count',\n",
    "    'v_battle_with_end_10_win_count',\n",
    "    'v_battle_with_end_10_draw_count',\n",
    "    'v_battle_with_end_10_lose_count',\n",
    "    \n",
    "    'h_perf_win_count_rate', 'h_perf_draw_count_rate', 'h_perf_lose_count_rate',\n",
    "    'h_host_win_count_rate', 'h_host_draw_count_rate', 'h_host_lose_count_rate',\n",
    "    'h_battle_with_front_10_win_count_rate',\n",
    "    'h_battle_with_front_10_draw_count_rate',\n",
    "    'h_battle_with_front_10_lose_count_rate',\n",
    "    'h_battle_with_end_10_win_count_rate',\n",
    "    'h_battle_with_end_10_draw_count_rate',\n",
    "    'h_battle_with_end_10_lose_count_rate', 'v_perf_win_count_rate',\n",
    "    'v_perf_draw_count_rate', 'v_perf_lose_count_rate', 'v_host_win_count_rate',\n",
    "    'v_host_draw_count_rate', 'v_host_lose_count_rate',\n",
    "    'v_battle_with_front_10_win_count_rate',\n",
    "    'v_battle_with_front_10_draw_count_rate',\n",
    "    'v_battle_with_front_10_lose_count_rate',\n",
    "    'v_battle_with_end_10_win_count_rate',\n",
    "    'v_battle_with_end_10_draw_count_rate',\n",
    "    'v_battle_with_end_10_lose_count_rate',\n",
    "    \n",
    "    'h_count', 'h_all_count',\n",
    "    'v_count', 'v_all_count',\n",
    "    \n",
    "    'h_current_win_count',\n",
    "    'h_current_draw_count', 'h_current_lose_count', \n",
    "    'h_current_win_count_rate',\n",
    "    'h_current_draw_count_rate', 'h_current_lose_count_rate', \n",
    "    \n",
    "    'h_current_score',\n",
    "    'v_current_win_count', 'v_current_draw_count',\n",
    "    'v_current_lose_count', \n",
    "    \n",
    "    'v_current_win_count_rate', 'v_current_draw_count_rate',\n",
    "    'v_current_lose_count_rate',\n",
    "    \n",
    "    'v_current_score',\n",
    "    'h_current_rank', 'v_current_rank']\n",
    "    \n",
    "params={\n",
    "    'booster':'gbtree',\n",
    "    # 这里手写数字是0-9，是一个多类的问题，因此采用了multisoft多分类器，\n",
    "    'objective': 'multi:softmax', \n",
    "    'num_class':3, # 类数，与 multisoftmax 并用\n",
    "    'gamma':0.1,  # 在树的叶子节点下一个分区的最小损失，越大算法模型越保守 。[0:]\n",
    "    'max_depth':8, # 构建树的深度 [1:]\n",
    "    #'lambda':450,  # L2 正则项权重\n",
    "    'subsample':0.7, # 采样训练数据，设置为0.5，随机选择一般的数据实例 (0:1]\n",
    "    'colsample_bytree':0.7, # 构建树树时的采样比率 (0:1]\n",
    "    #'min_child_weight':12, # 节点的最少特征数\n",
    "    'silent':1 ,\n",
    "    \n",
    "#     这部分需要调整\n",
    "#     'eta': 0.05, # 如同学习率\n",
    "    'eta': 0.01, # 如同学习率\n",
    "    \n",
    "    \n",
    "    'seed':710,\n",
    "    'nthread':4,# cpu 线程数,根据自己U的个数适当调整\n",
    "}\n",
    "\n",
    "train_dataset = train_dataset_df[train_dataset_df['year'] < 2019]\n",
    "test_dataset = train_dataset_df[train_dataset_df['year'] == 2019]\n",
    "\n",
    "xgtrain = xgb.DMatrix(train_dataset[x_columns], label=train_dataset['fix_result'])\n",
    "xgtest = xgb.DMatrix(test_dataset[x_columns], label=test_dataset['fix_result'])\n",
    "\n",
    "watchlist = [(xgtrain, 'train'),(xgtest, 'val')]\n",
    "\n",
    "# num_rounds = 10000\n",
    "# stop_rounds = 100\n",
    "\n",
    "num_rounds = 10000\n",
    "stop_rounds = 300\n",
    "# stop_rounds = 100\n",
    "\n",
    "\n",
    "model = xgb.train(params, xgtrain, num_rounds, watchlist,early_stopping_rounds=stop_rounds)\n",
    "print(model.best_iteration)\n",
    "\n",
    "preds = model.predict(xgtest, ntree_limit=model.best_iteration)\n",
    "preds"
   ]
  },
  {
   "cell_type": "code",
   "execution_count": 23,
   "metadata": {},
   "outputs": [
    {
     "data": {
      "text/plain": [
       "0.7849860982391103"
      ]
     },
     "execution_count": 23,
     "metadata": {},
     "output_type": "execute_result"
    }
   ],
   "source": [
    "from sklearn.metrics import accuracy_score\n",
    "accuracy_score(test_dataset['fix_result'], preds)"
   ]
  },
  {
   "cell_type": "code",
   "execution_count": 24,
   "metadata": {},
   "outputs": [],
   "source": [
    "submission = pd.DataFrame({\n",
    "    \"matchid\": test_dataset.matchid, \n",
    "    \"result\": test_dataset.fix_result,\n",
    "    \"pred\": preds\n",
    "})\n",
    "\n",
    "submission.to_csv('../data/submission_2019.csv', index=False)"
   ]
  },
  {
   "cell_type": "code",
   "execution_count": 25,
   "metadata": {},
   "outputs": [],
   "source": [
    "model.save_model('../model/xgb.model')"
   ]
  }
 ],
 "metadata": {
  "kernelspec": {
   "display_name": "Python 3",
   "language": "python",
   "name": "python3"
  },
  "language_info": {
   "codemirror_mode": {
    "name": "ipython",
    "version": 3
   },
   "file_extension": ".py",
   "mimetype": "text/x-python",
   "name": "python",
   "nbconvert_exporter": "python",
   "pygments_lexer": "ipython3",
   "version": "3.6.7"
  }
 },
 "nbformat": 4,
 "nbformat_minor": 2
}
