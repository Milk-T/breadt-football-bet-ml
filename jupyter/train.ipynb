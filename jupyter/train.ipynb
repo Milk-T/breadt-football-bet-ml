{
 "cells": [
  {
   "cell_type": "code",
   "execution_count": 3,
   "metadata": {},
   "outputs": [],
   "source": [
    "import pandas as pd\n",
    "import numpy as np"
   ]
  },
  {
   "cell_type": "code",
   "execution_count": 4,
   "metadata": {},
   "outputs": [
    {
     "data": {
      "text/html": [
       "<div>\n",
       "<style scoped>\n",
       "    .dataframe tbody tr th:only-of-type {\n",
       "        vertical-align: middle;\n",
       "    }\n",
       "\n",
       "    .dataframe tbody tr th {\n",
       "        vertical-align: top;\n",
       "    }\n",
       "\n",
       "    .dataframe thead th {\n",
       "        text-align: right;\n",
       "    }\n",
       "</style>\n",
       "<table border=\"1\" class=\"dataframe\">\n",
       "  <thead>\n",
       "    <tr style=\"text-align: right;\">\n",
       "      <th></th>\n",
       "      <th>id</th>\n",
       "      <th>fid</th>\n",
       "      <th>pos</th>\n",
       "      <th>gd</th>\n",
       "      <th>gs</th>\n",
       "      <th>gn</th>\n",
       "      <th>result</th>\n",
       "      <th>home_team</th>\n",
       "      <th>visit_team</th>\n",
       "      <th>name</th>\n",
       "      <th>date</th>\n",
       "    </tr>\n",
       "  </thead>\n",
       "  <tbody>\n",
       "    <tr>\n",
       "      <th>0</th>\n",
       "      <td>1</td>\n",
       "      <td>331954</td>\n",
       "      <td>hr10g</td>\n",
       "      <td>6</td>\n",
       "      <td>3</td>\n",
       "      <td>9</td>\n",
       "      <td>0</td>\n",
       "      <td>马来明星</td>\n",
       "      <td>利物浦</td>\n",
       "      <td>球会友谊</td>\n",
       "      <td>2011-07-16</td>\n",
       "    </tr>\n",
       "    <tr>\n",
       "      <th>1</th>\n",
       "      <td>2</td>\n",
       "      <td>331954</td>\n",
       "      <td>hr10g</td>\n",
       "      <td>2</td>\n",
       "      <td>0</td>\n",
       "      <td>2</td>\n",
       "      <td>0</td>\n",
       "      <td>马来明星</td>\n",
       "      <td>曼联</td>\n",
       "      <td>球会友谊</td>\n",
       "      <td>2009-07-20</td>\n",
       "    </tr>\n",
       "    <tr>\n",
       "      <th>2</th>\n",
       "      <td>3</td>\n",
       "      <td>331954</td>\n",
       "      <td>hr10g</td>\n",
       "      <td>4</td>\n",
       "      <td>0</td>\n",
       "      <td>4</td>\n",
       "      <td>0</td>\n",
       "      <td>马来明星</td>\n",
       "      <td>阿森纳</td>\n",
       "      <td>球会友谊</td>\n",
       "      <td>2011-07-13</td>\n",
       "    </tr>\n",
       "    <tr>\n",
       "      <th>3</th>\n",
       "      <td>4</td>\n",
       "      <td>331954</td>\n",
       "      <td>hr10g</td>\n",
       "      <td>3</td>\n",
       "      <td>2</td>\n",
       "      <td>5</td>\n",
       "      <td>0</td>\n",
       "      <td>马来明星</td>\n",
       "      <td>曼联</td>\n",
       "      <td>球会友谊</td>\n",
       "      <td>2009-07-18</td>\n",
       "    </tr>\n",
       "    <tr>\n",
       "      <th>4</th>\n",
       "      <td>5</td>\n",
       "      <td>331954</td>\n",
       "      <td>vr10g</td>\n",
       "      <td>1</td>\n",
       "      <td>0</td>\n",
       "      <td>1</td>\n",
       "      <td>0</td>\n",
       "      <td>朴茨茅</td>\n",
       "      <td>切尔西</td>\n",
       "      <td>球会友谊</td>\n",
       "      <td>2011-07-16</td>\n",
       "    </tr>\n",
       "  </tbody>\n",
       "</table>\n",
       "</div>"
      ],
      "text/plain": [
       "   id     fid    pos  gd  gs  gn  result home_team visit_team  name       date\n",
       "0   1  331954  hr10g   6   3   9       0      马来明星        利物浦  球会友谊 2011-07-16\n",
       "1   2  331954  hr10g   2   0   2       0      马来明星         曼联  球会友谊 2009-07-20\n",
       "2   3  331954  hr10g   4   0   4       0      马来明星        阿森纳  球会友谊 2011-07-13\n",
       "3   4  331954  hr10g   3   2   5       0      马来明星         曼联  球会友谊 2009-07-18\n",
       "4   5  331954  vr10g   1   0   1       0       朴茨茅        切尔西  球会友谊 2011-07-16"
      ]
     },
     "execution_count": 4,
     "metadata": {},
     "output_type": "execute_result"
    }
   ],
   "source": [
    "df = pd.read_csv('../data/breadt_football_game_list.csv', parse_dates=['time'])\n",
    "refer = pd.read_csv('../data/breadt_football_refer_games.csv', parse_dates=['date'])\n",
    "\n",
    "refer.head()"
   ]
  },
  {
   "cell_type": "code",
   "execution_count": 5,
   "metadata": {},
   "outputs": [
    {
     "data": {
      "text/plain": [
       "pos\n",
       "ex       375784\n",
       "hr10g    787006\n",
       "hrhg     785586\n",
       "vr10g    787058\n",
       "vrvg     785682\n",
       "dtype: int64"
      ]
     },
     "execution_count": 5,
     "metadata": {},
     "output_type": "execute_result"
    }
   ],
   "source": [
    "refer.groupby('pos').size()"
   ]
  },
  {
   "cell_type": "code",
   "execution_count": 6,
   "metadata": {},
   "outputs": [],
   "source": [
    "def fetch_data(df, refer, pos, result, col_name):\n",
    "    refer['fid'] = refer['fid'].astype(np.int64)\n",
    "    ex_lose = refer[(refer['pos'] == pos) & (refer['result'] == result)]\n",
    "    ex_lose = ex_lose.groupby(['fid'])['result'].size().to_frame()\n",
    "    ex_lose_group = pd.DataFrame({'fid': ex_lose.index.values, col_name: ex_lose['result'].values})\n",
    "\n",
    "    df = pd.merge(df, ex_lose_group, on=['fid'], how='left')\n",
    "    df[col_name] = df[col_name].fillna(0)\n",
    "    \n",
    "    return df"
   ]
  },
  {
   "cell_type": "code",
   "execution_count": 59,
   "metadata": {},
   "outputs": [],
   "source": [
    "def fetch_goal_data(df, refer, pos, prefix):\n",
    "    refer['fid'] = refer['fid'].astype(np.int64)\n",
    "    ex_lose = refer[(refer['pos'] == pos)]\n",
    "    \n",
    "    gd = ex_lose.groupby(['fid'])['gd'].sum().to_frame()\n",
    "    gs = ex_lose.groupby(['fid'])['gs'].sum().to_frame()\n",
    "    \n",
    "    ex_lose_group = pd.DataFrame({'fid': gd.index.values, prefix + '_gd': gd['gd'].values, prefix + '_gs': gs['gs'].values})\n",
    "\n",
    "    df = pd.merge(df, ex_lose_group, on=['fid'], how='left')\n",
    "    df[prefix + '_gd'] = df[prefix + '_gd'].fillna(0)\n",
    "    df[prefix + '_gs'] = df[prefix + '_gs'].fillna(0)\n",
    "    \n",
    "    return df"
   ]
  },
  {
   "cell_type": "code",
   "execution_count": 7,
   "metadata": {},
   "outputs": [],
   "source": [
    "df = fetch_data(df, refer, 'ex', 0, 'ex_lose_num')\n",
    "df = fetch_data(df, refer, 'ex', 1, 'ex_draw_num')\n",
    "df = fetch_data(df, refer, 'ex', 2, 'ex_win_num')"
   ]
  },
  {
   "cell_type": "code",
   "execution_count": 8,
   "metadata": {},
   "outputs": [],
   "source": [
    "df = fetch_data(df, refer, 'hr10g', 0, 'hr10g_lose_num')\n",
    "df = fetch_data(df, refer, 'hr10g', 1, 'hr10g_draw_num')\n",
    "df = fetch_data(df, refer, 'hr10g', 2, 'hr10g_win_num')"
   ]
  },
  {
   "cell_type": "code",
   "execution_count": 9,
   "metadata": {},
   "outputs": [],
   "source": [
    "df = fetch_data(df, refer, 'hrhg', 0, 'hrhg_lose_num')\n",
    "df = fetch_data(df, refer, 'hrhg', 1, 'hrhg_draw_num')\n",
    "df = fetch_data(df, refer, 'hrhg', 2, 'hrhg_win_num')"
   ]
  },
  {
   "cell_type": "code",
   "execution_count": 10,
   "metadata": {},
   "outputs": [],
   "source": [
    "df = fetch_data(df, refer, 'vr10g', 0, 'vr10g_lose_num')\n",
    "df = fetch_data(df, refer, 'vr10g', 1, 'vr10g_draw_num')\n",
    "df = fetch_data(df, refer, 'vr10g', 2, 'vr10g_win_num')"
   ]
  },
  {
   "cell_type": "code",
   "execution_count": 49,
   "metadata": {},
   "outputs": [],
   "source": [
    "df = fetch_data(df, refer, 'vrvg', 0, 'vrvg_lose_num')\n",
    "df = fetch_data(df, refer, 'vrvg', 1, 'vrvg_draw_num')\n",
    "df = fetch_data(df, refer, 'vrvg', 2, 'vrvg_win_num')"
   ]
  },
  {
   "cell_type": "code",
   "execution_count": 60,
   "metadata": {},
   "outputs": [],
   "source": [
    "df = fetch_goal_data(df, refer, 'ex', 'ex')\n",
    "df = fetch_goal_data(df, refer, 'hr10g', 'hr10g')\n",
    "df = fetch_goal_data(df, refer, 'hrhg', 'hrhg')\n",
    "df = fetch_goal_data(df, refer, 'vr10g', 'vr10g')\n",
    "df = fetch_goal_data(df, refer, 'vrvg', 'vrvg')"
   ]
  },
  {
   "cell_type": "code",
   "execution_count": 64,
   "metadata": {},
   "outputs": [],
   "source": [
    "df['ex_diff'] = df['ex_gs'] - df['ex_gd'] \n",
    "df['hr10g_diff'] = df['hr10g_gs'] - df['hr10g_gd'] \n",
    "df['hrhg_diff'] = df['hrhg_gs'] - df['hrhg_gd'] \n",
    "df['vr10g_diff'] = df['vr10g_gs'] - df['vr10g_gd'] \n",
    "df['vrvg_diff'] = df['vrvg_gs'] - df['vrvg_gd'] "
   ]
  },
  {
   "cell_type": "code",
   "execution_count": 65,
   "metadata": {},
   "outputs": [
    {
     "data": {
      "text/plain": [
       "Index(['id', 'fid', 'status', 'game', 'turn', 'home_team', 'visit_team', 'gs',\n",
       "       'gd', 'gn', 'offset', 'time', 'result', 'ex_lose_num', 'ex_draw_num',\n",
       "       'ex_win_num', 'hr10g_lose_num', 'hr10g_draw_num', 'hr10g_win_num',\n",
       "       'hrhg_lose_num', 'hrhg_draw_num', 'hrhg_win_num', 'vr10g_lose_num',\n",
       "       'vr10g_draw_num', 'vr10g_win_num', 'year', 'month', 'day',\n",
       "       'home_team_encoder', 'visit_team_encoder', 'game_encoder',\n",
       "       'vrvg_lose_num', 'vrvg_draw_num', 'vrvg_win_num', 'ex_gd', 'ex_gs',\n",
       "       'hr10g_gd', 'hr10g_gs', 'hrhg_gd', 'hrhg_gs', 'vr10g_gd', 'vr10g_gs',\n",
       "       'vrvg_gd', 'vrvg_gs', 'ex_diff', 'hr10g_diff', 'hrhg_diff',\n",
       "       'vr10g_diff', 'vrvg_diff'],\n",
       "      dtype='object')"
      ]
     },
     "execution_count": 65,
     "metadata": {},
     "output_type": "execute_result"
    }
   ],
   "source": [
    "df.columns"
   ]
  },
  {
   "cell_type": "code",
   "execution_count": 11,
   "metadata": {},
   "outputs": [],
   "source": [
    "df['year'] = df.apply(lambda row: row.time.year, axis=1)\n",
    "df['month'] = df.apply(lambda row: row.time.month, axis=1)\n",
    "df['day'] = df.apply(lambda row: row.time.day, axis=1)"
   ]
  },
  {
   "cell_type": "code",
   "execution_count": 12,
   "metadata": {},
   "outputs": [],
   "source": [
    "df = df[df['status'] == '完']"
   ]
  },
  {
   "cell_type": "code",
   "execution_count": 13,
   "metadata": {},
   "outputs": [],
   "source": [
    "from sklearn import preprocessing\n",
    "\n",
    "team_arr = list(set(df['home_team'].values) | set(df['visit_team'].values))\n",
    "\n",
    "team_encoder = preprocessing.LabelEncoder()\n",
    "team_encoder.fit(team_arr)\n",
    "\n",
    "df['home_team_encoder'] = team_encoder.transform(df['home_team'])\n",
    "df['visit_team_encoder'] = team_encoder.transform(df['visit_team'])"
   ]
  },
  {
   "cell_type": "code",
   "execution_count": 14,
   "metadata": {},
   "outputs": [],
   "source": [
    "game_arr = list(set(df['game'].values))\n",
    "\n",
    "game_encoder = preprocessing.LabelEncoder()\n",
    "game_encoder.fit(game_arr)\n",
    "\n",
    "df['game_encoder'] = game_encoder.transform(df['game'])"
   ]
  },
  {
   "cell_type": "markdown",
   "metadata": {},
   "source": [
    "# xgb"
   ]
  },
  {
   "cell_type": "code",
   "execution_count": 68,
   "metadata": {},
   "outputs": [
    {
     "name": "stdout",
     "output_type": "stream",
     "text": [
      "[0]\ttrain-merror:0.449308\tval-merror:0.56632\n",
      "Multiple eval metrics have been passed: 'val-merror' will be used for early stopping.\n",
      "\n",
      "Will train until val-merror hasn't improved in 50 rounds.\n",
      "[1]\ttrain-merror:0.417983\tval-merror:0.550715\n",
      "[2]\ttrain-merror:0.405549\tval-merror:0.550715\n",
      "[3]\ttrain-merror:0.400175\tval-merror:0.547464\n",
      "[4]\ttrain-merror:0.394789\tval-merror:0.544863\n",
      "[5]\ttrain-merror:0.391001\tval-merror:0.541613\n",
      "[6]\ttrain-merror:0.390266\tval-merror:0.542913\n",
      "[7]\ttrain-merror:0.389107\tval-merror:0.542263\n",
      "[8]\ttrain-merror:0.38765\tval-merror:0.536411\n",
      "[9]\ttrain-merror:0.386774\tval-merror:0.540962\n",
      "[10]\ttrain-merror:0.385769\tval-merror:0.539012\n",
      "[11]\ttrain-merror:0.384932\tval-merror:0.539662\n",
      "[12]\ttrain-merror:0.381362\tval-merror:0.537061\n",
      "[13]\ttrain-merror:0.37903\tval-merror:0.536411\n",
      "[14]\ttrain-merror:0.376221\tval-merror:0.53186\n",
      "[15]\ttrain-merror:0.374417\tval-merror:0.528609\n",
      "[16]\ttrain-merror:0.372239\tval-merror:0.538361\n",
      "[17]\ttrain-merror:0.370667\tval-merror:0.53186\n",
      "[18]\ttrain-merror:0.368219\tval-merror:0.537061\n",
      "[19]\ttrain-merror:0.36617\tval-merror:0.53381\n",
      "[20]\ttrain-merror:0.363374\tval-merror:0.53186\n",
      "[21]\ttrain-merror:0.362073\tval-merror:0.529259\n",
      "[22]\ttrain-merror:0.360024\tval-merror:0.527308\n",
      "[23]\ttrain-merror:0.357511\tval-merror:0.527958\n",
      "[24]\ttrain-merror:0.355475\tval-merror:0.527958\n",
      "[25]\ttrain-merror:0.353375\tval-merror:0.526658\n",
      "[26]\ttrain-merror:0.350939\tval-merror:0.527308\n",
      "[27]\ttrain-merror:0.349084\tval-merror:0.526658\n",
      "[28]\ttrain-merror:0.347538\tval-merror:0.526658\n",
      "[29]\ttrain-merror:0.344406\tval-merror:0.525358\n",
      "[30]\ttrain-merror:0.342177\tval-merror:0.527958\n",
      "[31]\ttrain-merror:0.340244\tval-merror:0.527958\n",
      "[32]\ttrain-merror:0.338286\tval-merror:0.529259\n",
      "[33]\ttrain-merror:0.33549\tval-merror:0.528609\n",
      "[34]\ttrain-merror:0.334201\tval-merror:0.528609\n",
      "[35]\ttrain-merror:0.331521\tval-merror:0.528609\n",
      "[36]\ttrain-merror:0.330194\tval-merror:0.528609\n",
      "[37]\ttrain-merror:0.328261\tval-merror:0.525358\n",
      "[38]\ttrain-merror:0.326624\tval-merror:0.528609\n",
      "[39]\ttrain-merror:0.323712\tval-merror:0.525358\n",
      "[40]\ttrain-merror:0.32214\tval-merror:0.524707\n",
      "[41]\ttrain-merror:0.319589\tval-merror:0.526008\n",
      "[42]\ttrain-merror:0.317579\tval-merror:0.528609\n",
      "[43]\ttrain-merror:0.314576\tval-merror:0.525358\n",
      "[44]\ttrain-merror:0.312244\tval-merror:0.527308\n",
      "[45]\ttrain-merror:0.309976\tval-merror:0.527958\n",
      "[46]\ttrain-merror:0.307064\tval-merror:0.525358\n",
      "[47]\ttrain-merror:0.305028\tval-merror:0.524057\n",
      "[48]\ttrain-merror:0.302953\tval-merror:0.524057\n",
      "[49]\ttrain-merror:0.301046\tval-merror:0.526008\n",
      "[50]\ttrain-merror:0.298521\tval-merror:0.527958\n",
      "[51]\ttrain-merror:0.295982\tval-merror:0.528609\n",
      "[52]\ttrain-merror:0.294191\tval-merror:0.529259\n",
      "[53]\ttrain-merror:0.292967\tval-merror:0.527308\n",
      "[54]\ttrain-merror:0.290738\tval-merror:0.526658\n",
      "[55]\ttrain-merror:0.288676\tval-merror:0.525358\n",
      "[56]\ttrain-merror:0.287323\tval-merror:0.526008\n",
      "[57]\ttrain-merror:0.284617\tval-merror:0.523407\n",
      "[58]\ttrain-merror:0.283432\tval-merror:0.525358\n",
      "[59]\ttrain-merror:0.282749\tval-merror:0.528609\n",
      "[60]\ttrain-merror:0.280494\tval-merror:0.526008\n",
      "[61]\ttrain-merror:0.278007\tval-merror:0.527308\n",
      "[62]\ttrain-merror:0.275301\tval-merror:0.530559\n",
      "[63]\ttrain-merror:0.273716\tval-merror:0.528609\n",
      "[64]\ttrain-merror:0.270688\tval-merror:0.526008\n",
      "[65]\ttrain-merror:0.268729\tval-merror:0.525358\n",
      "[66]\ttrain-merror:0.266977\tval-merror:0.524707\n",
      "[67]\ttrain-merror:0.264941\tval-merror:0.524057\n",
      "[68]\ttrain-merror:0.262557\tval-merror:0.525358\n",
      "[69]\ttrain-merror:0.260405\tval-merror:0.523407\n",
      "[70]\ttrain-merror:0.257957\tval-merror:0.520806\n",
      "[71]\ttrain-merror:0.255947\tval-merror:0.520806\n",
      "[72]\ttrain-merror:0.253382\tval-merror:0.521456\n",
      "[73]\ttrain-merror:0.251321\tval-merror:0.520156\n",
      "[74]\ttrain-merror:0.249723\tval-merror:0.521456\n",
      "[75]\ttrain-merror:0.249066\tval-merror:0.521456\n",
      "[76]\ttrain-merror:0.24712\tval-merror:0.518856\n",
      "[77]\ttrain-merror:0.24529\tval-merror:0.520156\n",
      "[78]\ttrain-merror:0.243203\tval-merror:0.517555\n",
      "[79]\ttrain-merror:0.241747\tval-merror:0.517555\n",
      "[80]\ttrain-merror:0.240432\tval-merror:0.516905\n",
      "[81]\ttrain-merror:0.238976\tval-merror:0.517555\n",
      "[82]\ttrain-merror:0.23676\tval-merror:0.519506\n",
      "[83]\ttrain-merror:0.235072\tval-merror:0.518205\n",
      "[84]\ttrain-merror:0.232869\tval-merror:0.518205\n",
      "[85]\ttrain-merror:0.231103\tval-merror:0.517555\n",
      "[86]\ttrain-merror:0.229364\tval-merror:0.520806\n",
      "[87]\ttrain-merror:0.227354\tval-merror:0.518856\n",
      "[88]\ttrain-merror:0.22555\tval-merror:0.518205\n",
      "[89]\ttrain-merror:0.223423\tval-merror:0.517555\n",
      "[90]\ttrain-merror:0.222174\tval-merror:0.518856\n",
      "[91]\ttrain-merror:0.219944\tval-merror:0.519506\n",
      "[92]\ttrain-merror:0.21872\tval-merror:0.520156\n",
      "[93]\ttrain-merror:0.21662\tval-merror:0.520156\n",
      "[94]\ttrain-merror:0.214713\tval-merror:0.519506\n",
      "[95]\ttrain-merror:0.213308\tval-merror:0.519506\n",
      "[96]\ttrain-merror:0.212149\tval-merror:0.515605\n",
      "[97]\ttrain-merror:0.210847\tval-merror:0.520156\n",
      "[98]\ttrain-merror:0.209314\tval-merror:0.519506\n",
      "[99]\ttrain-merror:0.208437\tval-merror:0.522107\n",
      "[100]\ttrain-merror:0.206801\tval-merror:0.519506\n",
      "[101]\ttrain-merror:0.204971\tval-merror:0.518856\n",
      "[102]\ttrain-merror:0.20327\tval-merror:0.520806\n",
      "[103]\ttrain-merror:0.200925\tval-merror:0.522107\n",
      "[104]\ttrain-merror:0.199173\tval-merror:0.522107\n",
      "[105]\ttrain-merror:0.197279\tval-merror:0.521456\n",
      "[106]\ttrain-merror:0.195913\tval-merror:0.523407\n",
      "[107]\ttrain-merror:0.194134\tval-merror:0.523407\n",
      "[108]\ttrain-merror:0.19206\tval-merror:0.522757\n",
      "[109]\ttrain-merror:0.190282\tval-merror:0.520806\n",
      "[110]\ttrain-merror:0.188581\tval-merror:0.521456\n",
      "[111]\ttrain-merror:0.186725\tval-merror:0.524707\n",
      "[112]\ttrain-merror:0.184986\tval-merror:0.524707\n",
      "[113]\ttrain-merror:0.184277\tval-merror:0.524707\n",
      "[114]\ttrain-merror:0.183169\tval-merror:0.523407\n",
      "[115]\ttrain-merror:0.181339\tval-merror:0.523407\n",
      "[116]\ttrain-merror:0.17978\tval-merror:0.521456\n",
      "[117]\ttrain-merror:0.177473\tval-merror:0.522757\n",
      "[118]\ttrain-merror:0.176146\tval-merror:0.522757\n",
      "[119]\ttrain-merror:0.173943\tval-merror:0.525358\n",
      "[120]\ttrain-merror:0.172564\tval-merror:0.526008\n",
      "[121]\ttrain-merror:0.171134\tval-merror:0.523407\n",
      "[122]\ttrain-merror:0.169871\tval-merror:0.522757\n",
      "[123]\ttrain-merror:0.167977\tval-merror:0.522107\n",
      "[124]\ttrain-merror:0.166778\tval-merror:0.524057\n",
      "[125]\ttrain-merror:0.165438\tval-merror:0.524707\n",
      "[126]\ttrain-merror:0.16482\tval-merror:0.526658\n",
      "[127]\ttrain-merror:0.163467\tval-merror:0.527958\n",
      "[128]\ttrain-merror:0.160941\tval-merror:0.526008\n",
      "[129]\ttrain-merror:0.159485\tval-merror:0.526008\n",
      "[130]\ttrain-merror:0.158763\tval-merror:0.526008\n",
      "[131]\ttrain-merror:0.157539\tval-merror:0.525358\n",
      "[132]\ttrain-merror:0.15571\tval-merror:0.526658\n",
      "[133]\ttrain-merror:0.153957\tval-merror:0.523407\n",
      "[134]\ttrain-merror:0.152385\tval-merror:0.524707\n",
      "[135]\ttrain-merror:0.150968\tval-merror:0.524057\n",
      "[136]\ttrain-merror:0.149512\tval-merror:0.522107\n",
      "[137]\ttrain-merror:0.148945\tval-merror:0.521456\n",
      "[138]\ttrain-merror:0.147424\tval-merror:0.522757\n",
      "[139]\ttrain-merror:0.146831\tval-merror:0.525358\n",
      "[140]\ttrain-merror:0.145118\tval-merror:0.525358\n",
      "[141]\ttrain-merror:0.143133\tval-merror:0.527308\n",
      "[142]\ttrain-merror:0.141561\tval-merror:0.525358\n",
      "[143]\ttrain-merror:0.140608\tval-merror:0.526008\n",
      "[144]\ttrain-merror:0.139049\tval-merror:0.525358\n",
      "[145]\ttrain-merror:0.137386\tval-merror:0.524057\n",
      "[146]\ttrain-merror:0.135904\tval-merror:0.524707\n",
      "Stopping. Best iteration:\n",
      "[96]\ttrain-merror:0.212149\tval-merror:0.515605\n",
      "\n",
      "96\n"
     ]
    },
    {
     "data": {
      "text/plain": [
       "array([2., 0., 2., ..., 2., 0., 2.], dtype=float32)"
      ]
     },
     "execution_count": 68,
     "metadata": {},
     "output_type": "execute_result"
    }
   ],
   "source": [
    "import xgboost as xgb\n",
    "\n",
    "# x_columns = ['fid', 'year', 'month', 'day', 'game_encoder', 'visit_team_encoder', 'home_team_encoder', 'ex_lose_num', 'ex_draw_num', 'ex_win_num', 'hr10g_lose_num', 'hr10g_draw_num', 'hr10g_win_num', 'hrhg_lose_num', 'hrhg_draw_num', 'hrhg_win_num','vr10g_lose_num', 'vr10g_draw_num','vr10g_win_num', 'vrvg_lose_num', 'vrvg_draw_num', 'vrvg_win_num']\n",
    "x_columns = ['game_encoder', 'visit_team_encoder', 'home_team_encoder', 'ex_lose_num', 'ex_draw_num', 'ex_win_num', 'hr10g_lose_num', 'hr10g_draw_num', 'hr10g_win_num', 'hrhg_lose_num', 'hrhg_draw_num', 'hrhg_win_num','vr10g_lose_num', 'vr10g_draw_num','vr10g_win_num', 'vrvg_lose_num', 'vrvg_draw_num', 'vrvg_win_num', 'ex_gd', 'ex_gs',\n",
    "       'hr10g_gd', 'hr10g_gs', 'hrhg_gd', 'hrhg_gs', 'vr10g_gd', 'vr10g_gs',\n",
    "       'vrvg_gd', 'vrvg_gs', ]\n",
    "             \n",
    "#              'ex_diff', 'hr10g_diff', 'hrhg_diff',\n",
    "#        'vr10g_diff', 'vrvg_diff']\n",
    "\n",
    "\n",
    "params={\n",
    "'booster':'gbtree',\n",
    "# 这里手写数字是0-9，是一个多类的问题，因此采用了multisoft多分类器，\n",
    "'objective': 'multi:softmax', \n",
    "'num_class':3, # 类数，与 multisoftmax 并用\n",
    "'gamma':0.1,  # 在树的叶子节点下一个分区的最小损失，越大算法模型越保守 。[0:]\n",
    "'max_depth':12, # 构建树的深度 [1:]\n",
    "#'lambda':450,  # L2 正则项权重\n",
    "'subsample':0.7, # 采样训练数据，设置为0.5，随机选择一般的数据实例 (0:1]\n",
    "'colsample_bytree':0.7, # 构建树树时的采样比率 (0:1]\n",
    "#'min_child_weight':12, # 节点的最少特征数\n",
    "'silent':1 ,\n",
    "'eta': 0.05, # 如同学习率\n",
    "'seed':710,\n",
    "'nthread':4,# cpu 线程数,根据自己U的个数适当调整\n",
    "}\n",
    "\n",
    "train_dataset = df[df['year'] < 2019]\n",
    "test_dataset = df[df['year'] == 2019]\n",
    "\n",
    "xgtrain = xgb.DMatrix(train_dataset[x_columns], label=train_dataset['result'])\n",
    "xgtest = xgb.DMatrix(test_dataset[x_columns], label=test_dataset['result'])\n",
    "\n",
    "watchlist = [(xgtrain, 'train'),(xgtest, 'val')]\n",
    "\n",
    "# num_rounds = 10000\n",
    "# stop_rounds = 100\n",
    "\n",
    "num_rounds = 500\n",
    "stop_rounds = 50\n",
    "\n",
    "model = xgb.train(params, xgtrain, num_rounds, watchlist,early_stopping_rounds=stop_rounds)\n",
    "print(model.best_iteration)\n",
    "\n",
    "preds = model.predict(xgtest, ntree_limit=model.best_iteration)\n",
    "preds"
   ]
  },
  {
   "cell_type": "code",
   "execution_count": 67,
   "metadata": {},
   "outputs": [
    {
     "data": {
      "text/plain": [
       "0.4687906371911573"
      ]
     },
     "execution_count": 67,
     "metadata": {},
     "output_type": "execute_result"
    }
   ],
   "source": [
    "from sklearn.metrics import accuracy_score\n",
    "accuracy_score(test_dataset['result'], preds)"
   ]
  },
  {
   "cell_type": "code",
   "execution_count": null,
   "metadata": {},
   "outputs": [],
   "source": []
  }
 ],
 "metadata": {
  "kernelspec": {
   "display_name": "Python 3",
   "language": "python",
   "name": "python3"
  },
  "language_info": {
   "codemirror_mode": {
    "name": "ipython",
    "version": 3
   },
   "file_extension": ".py",
   "mimetype": "text/x-python",
   "name": "python",
   "nbconvert_exporter": "python",
   "pygments_lexer": "ipython3",
   "version": "3.6.7"
  }
 },
 "nbformat": 4,
 "nbformat_minor": 2
}
