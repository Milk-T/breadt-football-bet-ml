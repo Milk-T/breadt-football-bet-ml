{
 "cells": [
  {
   "cell_type": "markdown",
   "metadata": {},
   "source": [
    "# 结论\n",
    "\n",
    "+ 该方案可以直接适用于新的数据源，可以在更大的数据结果里进行尝试\n",
    "+ 77%的成果率，数据非常稳定"
   ]
  },
  {
   "cell_type": "code",
   "execution_count": 1,
   "metadata": {},
   "outputs": [],
   "source": [
    "import pymysql.cursors\n",
    "import pandas as pd\n",
    "from sklearn import preprocessing\n",
    "import numpy as np\n",
    "import re\n",
    "import datetime\n",
    "from sklearn.metrics import accuracy_score\n",
    "import xgboost as xgb\n",
    "from sklearn.svm import SVC\n",
    "from sklearn import preprocessing\n",
    "from sklearn.preprocessing import StandardScaler\n",
    "from sklearn.model_selection import cross_val_score, GridSearchCV"
   ]
  },
  {
   "cell_type": "markdown",
   "metadata": {},
   "source": [
    "# 训练"
   ]
  },
  {
   "cell_type": "markdown",
   "metadata": {},
   "source": [
    "## 获取全量的竞彩比赛列表"
   ]
  },
  {
   "cell_type": "code",
   "execution_count": 2,
   "metadata": {},
   "outputs": [],
   "source": [
    "connection = pymysql.connect(host='localhost', user='root', password='breadt@2019', db='breadt-football-ml', charset='utf8mb4', cursorclass=pymysql.cursors.DictCursor)\n",
    "with connection.cursor() as cursor:\n",
    "    sql = 'select * from `breadt_football_game_list`;'\n",
    "    cursor.execute(sql)\n",
    "    rows = cursor.fetchall()\n",
    "    \n",
    "    train_game_list_df = pd.DataFrame(rows)\n",
    "    \n",
    "    connection.close()\n",
    "\n",
    "train_game_list_df['source'] = 'jc'"
   ]
  },
  {
   "cell_type": "markdown",
   "metadata": {},
   "source": [
    "## 获取全量的胜负彩比赛列表"
   ]
  },
  {
   "cell_type": "code",
   "execution_count": 3,
   "metadata": {},
   "outputs": [],
   "source": [
    "connection = pymysql.connect(host='localhost', user='root', password='breadt@2019', db='breadt-football-ml', charset='utf8mb4', cursorclass=pymysql.cursors.DictCursor)\n",
    "with connection.cursor() as cursor:\n",
    "    sql = 'select * from `breadt_lottery_info`;'\n",
    "    cursor.execute(sql)\n",
    "    rows = cursor.fetchall()\n",
    "    \n",
    "    train_lottery_game_list_df = pd.DataFrame(rows)\n",
    "    \n",
    "    connection.close()\n",
    "\n",
    "train_lottery_game_list_df['source'] = 'lottery'"
   ]
  },
  {
   "cell_type": "markdown",
   "metadata": {},
   "source": [
    "## 合并竞彩比赛列表和胜负彩比赛列表"
   ]
  },
  {
   "cell_type": "code",
   "execution_count": 18,
   "metadata": {},
   "outputs": [],
   "source": [
    "tmp = train_lottery_game_list_df.drop(['issue'], axis=1)\n",
    "df = pd.concat([train_game_list_df, tmp])\n",
    "df = df[['matchid', 'game', 'home_team', 'visit_team', 'gs', 'gd', 'gn', 'time', 'result', 'win_bet_return', 'draw_bet_return', 'lose_bet_return', 'source']]\n",
    "df = df.drop_duplicates(subset=['matchid'])"
   ]
  },
  {
   "cell_type": "code",
   "execution_count": 19,
   "metadata": {},
   "outputs": [
    {
     "data": {
      "text/plain": [
       "LabelEncoder()"
      ]
     },
     "execution_count": 19,
     "metadata": {},
     "output_type": "execute_result"
    }
   ],
   "source": [
    "# 对team做encode 这个encoder后面预测的时候还会用到\n",
    "teams = list(set(df['home_team'].values) | set(df['visit_team'].values))\n",
    "team_encoder = preprocessing.LabelEncoder()\n",
    "team_encoder.fit(teams)"
   ]
  },
  {
   "cell_type": "code",
   "execution_count": 20,
   "metadata": {},
   "outputs": [],
   "source": [
    "def encode_team(df):\n",
    "    df['home_team_encoder'] = team_encoder.transform(df['home_team'])\n",
    "    df['visit_team_encoder'] = team_encoder.transform(df['visit_team'])\n",
    "    return df"
   ]
  },
  {
   "cell_type": "code",
   "execution_count": 23,
   "metadata": {},
   "outputs": [
    {
     "data": {
      "text/plain": [
       "LabelEncoder()"
      ]
     },
     "execution_count": 23,
     "metadata": {},
     "output_type": "execute_result"
    }
   ],
   "source": [
    "# 比赛名称encode\n",
    "games = list(set(df['game'].values))\n",
    "game_encoder = preprocessing.LabelEncoder()\n",
    "game_encoder.fit(games)"
   ]
  },
  {
   "cell_type": "code",
   "execution_count": 24,
   "metadata": {},
   "outputs": [],
   "source": [
    "def encode_game(df):\n",
    "    df['game_encoder'] = game_encoder.transform(df['game'])\n",
    "    return df"
   ]
  },
  {
   "cell_type": "code",
   "execution_count": 26,
   "metadata": {},
   "outputs": [],
   "source": [
    "df['year'] = df.apply(lambda row: row.time.year, axis=1)\n",
    "df['month'] = df.apply(lambda row: row.time.month, axis=1)\n",
    "df['day'] = df.apply(lambda row: row.time.day, axis=1)\n",
    "df['fix_result'] = df.apply(lambda row: int(row.result) if row.result < 3 else 2, axis=1)"
   ]
  },
  {
   "cell_type": "code",
   "execution_count": 27,
   "metadata": {},
   "outputs": [],
   "source": [
    "df = encode_team(df)\n",
    "df = encode_game(df)"
   ]
  },
  {
   "cell_type": "code",
   "execution_count": 28,
   "metadata": {},
   "outputs": [
    {
     "name": "stdout",
     "output_type": "stream",
     "text": [
      "<class 'pandas.core.frame.DataFrame'>\n",
      "Int64Index: 57053 entries, 0 to 12650\n",
      "Data columns (total 20 columns):\n",
      "matchid               57053 non-null int64\n",
      "game                  57053 non-null object\n",
      "home_team             57053 non-null object\n",
      "visit_team            57053 non-null object\n",
      "gs                    57053 non-null int64\n",
      "gd                    57053 non-null int64\n",
      "gn                    57053 non-null int64\n",
      "time                  57053 non-null datetime64[ns]\n",
      "result                57053 non-null int64\n",
      "win_bet_return        57053 non-null float64\n",
      "draw_bet_return       57053 non-null float64\n",
      "lose_bet_return       57053 non-null float64\n",
      "source                57053 non-null object\n",
      "year                  57053 non-null int64\n",
      "month                 57053 non-null int64\n",
      "day                   57053 non-null int64\n",
      "fix_result            57053 non-null int64\n",
      "home_team_encoder     57053 non-null int64\n",
      "visit_team_encoder    57053 non-null int64\n",
      "game_encoder          57053 non-null int64\n",
      "dtypes: datetime64[ns](1), float64(3), int64(12), object(4)\n",
      "memory usage: 9.1+ MB\n"
     ]
    }
   ],
   "source": [
    "df.info()"
   ]
  },
  {
   "cell_type": "markdown",
   "metadata": {},
   "source": [
    "## 获取赔率信息"
   ]
  },
  {
   "cell_type": "code",
   "execution_count": 29,
   "metadata": {},
   "outputs": [],
   "source": [
    "connection = pymysql.connect(host='localhost', user='root', password='breadt@2019', db='breadt-football-ml', charset='utf8mb4', cursorclass=pymysql.cursors.DictCursor)\n",
    "with connection.cursor() as cursor:\n",
    "    sql = 'select * from `breadt_match_odd_info`;'\n",
    "    cursor.execute(sql)\n",
    "    rows = cursor.fetchall()\n",
    "    \n",
    "    train_match_odd_df = pd.DataFrame(rows)\n",
    "    \n",
    "    connection.close()"
   ]
  },
  {
   "cell_type": "code",
   "execution_count": 30,
   "metadata": {},
   "outputs": [],
   "source": [
    "train_match_odd_df['avg_win_odd_change'] = (train_match_odd_df['avg_new_win_odd'] - train_match_odd_df['avg_init_win_odd'])/train_match_odd_df['avg_init_win_odd']\n",
    "train_match_odd_df['avg_draw_odd_change'] = (train_match_odd_df['avg_new_draw_odd'] - train_match_odd_df['avg_init_draw_odd'])/train_match_odd_df['avg_init_draw_odd']\n",
    "train_match_odd_df['avg_lose_odd_change'] = (train_match_odd_df['avg_new_lose_odd'] - train_match_odd_df['avg_init_lose_odd'])/train_match_odd_df['avg_init_lose_odd']"
   ]
  },
  {
   "cell_type": "markdown",
   "metadata": {},
   "source": [
    "## 合并训练数据"
   ]
  },
  {
   "cell_type": "code",
   "execution_count": 31,
   "metadata": {},
   "outputs": [
    {
     "name": "stdout",
     "output_type": "stream",
     "text": [
      "<class 'pandas.core.frame.DataFrame'>\n",
      "Int64Index: 42622 entries, 0 to 56503\n",
      "Data columns (total 69 columns):\n",
      "matchid                42622 non-null int64\n",
      "game                   42622 non-null object\n",
      "home_team              42622 non-null object\n",
      "visit_team             42622 non-null object\n",
      "gs                     42622 non-null int64\n",
      "gd                     42622 non-null int64\n",
      "gn                     42622 non-null int64\n",
      "time                   42622 non-null datetime64[ns]\n",
      "result                 42622 non-null int64\n",
      "win_bet_return         42622 non-null float64\n",
      "draw_bet_return        42622 non-null float64\n",
      "lose_bet_return        42622 non-null float64\n",
      "source                 42622 non-null object\n",
      "year                   42622 non-null int64\n",
      "month                  42622 non-null int64\n",
      "day                    42622 non-null int64\n",
      "fix_result             42622 non-null int64\n",
      "home_team_encoder      42622 non-null int64\n",
      "visit_team_encoder     42622 non-null int64\n",
      "game_encoder           42622 non-null int64\n",
      "avg_init_draw_odd      42622 non-null float64\n",
      "avg_init_lose_odd      42622 non-null float64\n",
      "avg_init_win_odd       42622 non-null float64\n",
      "avg_new_draw_kelly     42622 non-null float64\n",
      "avg_new_draw_odd       42622 non-null float64\n",
      "avg_new_draw_rate      42622 non-null float64\n",
      "avg_new_lose_kelly     42622 non-null float64\n",
      "avg_new_lose_odd       42622 non-null float64\n",
      "avg_new_lose_rate      42622 non-null float64\n",
      "avg_new_win_kelly      42622 non-null float64\n",
      "avg_new_win_odd        42622 non-null float64\n",
      "avg_new_win_rate       42622 non-null float64\n",
      "avg_pay_rate           42622 non-null float64\n",
      "dispersion_draw        42622 non-null float64\n",
      "dispersion_lose        42622 non-null float64\n",
      "dispersion_win         42622 non-null float64\n",
      "id                     42622 non-null float64\n",
      "max_init_draw_odd      42622 non-null float64\n",
      "max_init_lose_odd      42622 non-null float64\n",
      "max_init_win_odd       42622 non-null float64\n",
      "max_new_draw_kelly     42622 non-null float64\n",
      "max_new_draw_odd       42622 non-null float64\n",
      "max_new_draw_rate      42622 non-null float64\n",
      "max_new_lose_kelly     42622 non-null float64\n",
      "max_new_lose_odd       42622 non-null float64\n",
      "max_new_lose_rate      42622 non-null float64\n",
      "max_new_win_kelly      42622 non-null float64\n",
      "max_new_win_odd        42622 non-null float64\n",
      "max_new_win_rate       42622 non-null float64\n",
      "max_pay_rate           42622 non-null float64\n",
      "min_init_draw_odd      42622 non-null float64\n",
      "min_init_lose_odd      42622 non-null float64\n",
      "min_init_win_odd       42622 non-null float64\n",
      "min_new_draw_kelly     42622 non-null float64\n",
      "min_new_draw_odd       42622 non-null float64\n",
      "min_new_draw_rate      42622 non-null float64\n",
      "min_new_lose_kelly     42622 non-null float64\n",
      "min_new_lose_odd       42622 non-null float64\n",
      "min_new_lose_rate      42622 non-null float64\n",
      "min_new_win_kelly      42622 non-null float64\n",
      "min_new_win_odd        42622 non-null float64\n",
      "min_new_win_rate       42622 non-null float64\n",
      "min_pay_rate           42622 non-null float64\n",
      "std_draw               42622 non-null float64\n",
      "std_lose               42622 non-null float64\n",
      "std_win                42622 non-null float64\n",
      "avg_win_odd_change     42622 non-null float64\n",
      "avg_draw_odd_change    42622 non-null float64\n",
      "avg_lose_odd_change    42622 non-null float64\n",
      "dtypes: datetime64[ns](1), float64(52), int64(12), object(4)\n",
      "memory usage: 22.8+ MB\n"
     ]
    }
   ],
   "source": [
    "train_dataset_df = pd.merge(df, train_match_odd_df, on='matchid', how='left')\n",
    "train_dataset_df = train_dataset_df.dropna()\n",
    "train_dataset_df.info()"
   ]
  },
  {
   "cell_type": "code",
   "execution_count": 32,
   "metadata": {},
   "outputs": [
    {
     "data": {
      "text/plain": [
       "array(['matchid', 'game', 'home_team', 'visit_team', 'gs', 'gd', 'gn',\n",
       "       'time', 'result', 'win_bet_return', 'draw_bet_return',\n",
       "       'lose_bet_return', 'source', 'year', 'month', 'day', 'fix_result',\n",
       "       'home_team_encoder', 'visit_team_encoder', 'game_encoder',\n",
       "       'avg_init_draw_odd', 'avg_init_lose_odd', 'avg_init_win_odd',\n",
       "       'avg_new_draw_kelly', 'avg_new_draw_odd', 'avg_new_draw_rate',\n",
       "       'avg_new_lose_kelly', 'avg_new_lose_odd', 'avg_new_lose_rate',\n",
       "       'avg_new_win_kelly', 'avg_new_win_odd', 'avg_new_win_rate',\n",
       "       'avg_pay_rate', 'dispersion_draw', 'dispersion_lose',\n",
       "       'dispersion_win', 'id', 'max_init_draw_odd', 'max_init_lose_odd',\n",
       "       'max_init_win_odd', 'max_new_draw_kelly', 'max_new_draw_odd',\n",
       "       'max_new_draw_rate', 'max_new_lose_kelly', 'max_new_lose_odd',\n",
       "       'max_new_lose_rate', 'max_new_win_kelly', 'max_new_win_odd',\n",
       "       'max_new_win_rate', 'max_pay_rate', 'min_init_draw_odd',\n",
       "       'min_init_lose_odd', 'min_init_win_odd', 'min_new_draw_kelly',\n",
       "       'min_new_draw_odd', 'min_new_draw_rate', 'min_new_lose_kelly',\n",
       "       'min_new_lose_odd', 'min_new_lose_rate', 'min_new_win_kelly',\n",
       "       'min_new_win_odd', 'min_new_win_rate', 'min_pay_rate', 'std_draw',\n",
       "       'std_lose', 'std_win', 'avg_win_odd_change', 'avg_draw_odd_change',\n",
       "       'avg_lose_odd_change'], dtype=object)"
      ]
     },
     "execution_count": 32,
     "metadata": {},
     "output_type": "execute_result"
    }
   ],
   "source": [
    "train_dataset_df.columns.values"
   ]
  },
  {
   "cell_type": "markdown",
   "metadata": {},
   "source": [
    "# xgb训练"
   ]
  },
  {
   "cell_type": "code",
   "execution_count": 57,
   "metadata": {},
   "outputs": [],
   "source": [
    "x_columns = [\n",
    "#     'year', 'month',\n",
    "#     'home_team_encoder', 'visit_team_encoder', \n",
    "#     'game_encoder',\n",
    "    'avg_init_draw_odd',\n",
    "    'avg_init_lose_odd', 'avg_init_win_odd', 'avg_new_draw_kelly',\n",
    "    'avg_new_draw_odd', 'avg_new_draw_rate', 'avg_new_lose_kelly',\n",
    "    'avg_new_lose_odd', 'avg_new_lose_rate', 'avg_new_win_kelly',\n",
    "    'avg_new_win_odd', 'avg_new_win_rate', 'avg_pay_rate',\n",
    "    'dispersion_draw', 'dispersion_lose', 'dispersion_win', \n",
    "    'max_init_draw_odd', 'max_init_lose_odd', 'max_init_win_odd',\n",
    "    'max_new_draw_kelly', 'max_new_draw_odd', 'max_new_draw_rate',\n",
    "    'max_new_lose_kelly', 'max_new_lose_odd', 'max_new_lose_rate',\n",
    "    'max_new_win_kelly', 'max_new_win_odd', 'max_new_win_rate',\n",
    "    'max_pay_rate', 'min_init_draw_odd', 'min_init_lose_odd',\n",
    "    'min_init_win_odd', 'min_new_draw_kelly', 'min_new_draw_odd',\n",
    "    'min_new_draw_rate', 'min_new_lose_kelly', 'min_new_lose_odd',\n",
    "    'min_new_lose_rate', 'min_new_win_kelly', 'min_new_win_odd',\n",
    "    'min_new_win_rate', 'min_pay_rate', 'std_draw', 'std_lose',\n",
    "    'std_win', 'avg_win_odd_change', 'avg_draw_odd_change',\n",
    "    'avg_lose_odd_change'\n",
    "]"
   ]
  },
  {
   "cell_type": "code",
   "execution_count": 65,
   "metadata": {},
   "outputs": [
    {
     "name": "stderr",
     "output_type": "stream",
     "text": [
      "/home/leewind/.local/lib/python3.6/site-packages/xgboost/core.py:587: FutureWarning: Series.base is deprecated and will be removed in a future version\n",
      "  if getattr(data, 'base', None) is not None and \\\n",
      "/home/leewind/.local/lib/python3.6/site-packages/xgboost/core.py:588: FutureWarning: Series.base is deprecated and will be removed in a future version\n",
      "  data.base is not None and isinstance(data, np.ndarray) \\\n",
      "/home/leewind/.local/lib/python3.6/site-packages/xgboost/core.py:587: FutureWarning: Series.base is deprecated and will be removed in a future version\n",
      "  if getattr(data, 'base', None) is not None and \\\n",
      "/home/leewind/.local/lib/python3.6/site-packages/xgboost/core.py:588: FutureWarning: Series.base is deprecated and will be removed in a future version\n",
      "  data.base is not None and isinstance(data, np.ndarray) \\\n",
      "/home/leewind/.local/lib/python3.6/site-packages/xgboost/core.py:587: FutureWarning: Series.base is deprecated and will be removed in a future version\n",
      "  if getattr(data, 'base', None) is not None and \\\n",
      "/home/leewind/.local/lib/python3.6/site-packages/xgboost/core.py:588: FutureWarning: Series.base is deprecated and will be removed in a future version\n",
      "  data.base is not None and isinstance(data, np.ndarray) \\\n"
     ]
    }
   ],
   "source": [
    "params={\n",
    "    'booster':'gbtree',\n",
    "    # 这里手写数字是0-9，是一个多类的问题，因此采用了multisoft多分类器，\n",
    "    'objective': 'multi:softmax', \n",
    "#     'objective': 'multi:softprob',\n",
    "    'num_class':3, # 类数，与 multisoftmax 并用\n",
    "    'gamma':0.01,  # 在树的叶子节点下一个分区的最小损失，越大算法模型越保守 。[0:]\n",
    "    'max_depth':10, # 构建树的深度 [1:]\n",
    "    #'lambda':450,  # L2 正则项权重\n",
    "    'subsample':0.7, # 采样训练数据，设置为0.5，随机选择一般的数据实例 (0:1]\n",
    "    'colsample_bytree':0.7, # 构建树树时的采样比率 (0:1]\n",
    "    #'min_child_weight':12, # 节点的最少特征数\n",
    "    'silent':1 ,\n",
    "    'eta': 0.01, # 如同学习率\n",
    "    'seed':2018,\n",
    "    'nthread':4,# cpu 线程数,根据自己U的个数适当调整\n",
    "}\n",
    "\n",
    "t = train_dataset_df\n",
    "\n",
    "scaler = StandardScaler()\n",
    "scaler.fit(t[x_columns])\n",
    "\n",
    "train_dataset = t[t['year'] < 2019]\n",
    "test_dataset = t[t['year'] == 2019]\n",
    "\n",
    "valid_dataset = test_dataset[test_dataset['month'] < 3]\n",
    "test_dataset = test_dataset[test_dataset['month'] >= 3]\n",
    "\n",
    "xgtrain = xgb.DMatrix(scaler.transform(train_dataset[x_columns]), label=train_dataset['fix_result'])\n",
    "xgtest = xgb.DMatrix(scaler.transform(test_dataset[x_columns]), label=test_dataset['fix_result'])\n",
    "xgvalid = xgb.DMatrix(scaler.transform(valid_dataset[x_columns]), label=valid_dataset['fix_result'])\n",
    "\n",
    "watchlist = [(xgtrain, 'train'),(xgvalid, 'val')]\n",
    "\n",
    "num_rounds = 10000\n",
    "stop_rounds = 300"
   ]
  },
  {
   "cell_type": "markdown",
   "metadata": {},
   "source": [
    "## 单场正确性预测"
   ]
  },
  {
   "cell_type": "code",
   "execution_count": 66,
   "metadata": {},
   "outputs": [
    {
     "name": "stdout",
     "output_type": "stream",
     "text": [
      "[0]\ttrain-merror:0.440715\tval-merror:0.495475\n",
      "Multiple eval metrics have been passed: 'val-merror' will be used for early stopping.\n",
      "\n",
      "Will train until val-merror hasn't improved in 300 rounds.\n",
      "[1]\ttrain-merror:0.426444\tval-merror:0.480769\n",
      "[2]\ttrain-merror:0.420162\tval-merror:0.49095\n",
      "[3]\ttrain-merror:0.41477\tval-merror:0.479638\n",
      "[4]\ttrain-merror:0.415958\tval-merror:0.478507\n",
      "[5]\ttrain-merror:0.414301\tval-merror:0.486425\n",
      "[6]\ttrain-merror:0.412643\tval-merror:0.488688\n",
      "[7]\ttrain-merror:0.414301\tval-merror:0.49095\n",
      "[8]\ttrain-merror:0.414523\tval-merror:0.488688\n",
      "[9]\ttrain-merror:0.415191\tval-merror:0.492081\n",
      "[10]\ttrain-merror:0.415315\tval-merror:0.489819\n",
      "[11]\ttrain-merror:0.413905\tval-merror:0.493213\n",
      "[12]\ttrain-merror:0.414152\tval-merror:0.493213\n",
      "[13]\ttrain-merror:0.415488\tval-merror:0.493213\n",
      "[14]\ttrain-merror:0.416329\tval-merror:0.492081\n",
      "[15]\ttrain-merror:0.41623\tval-merror:0.488688\n",
      "[16]\ttrain-merror:0.416724\tval-merror:0.494344\n",
      "[17]\ttrain-merror:0.415587\tval-merror:0.493213\n",
      "[18]\ttrain-merror:0.415785\tval-merror:0.492081\n",
      "[19]\ttrain-merror:0.415636\tval-merror:0.492081\n",
      "[20]\ttrain-merror:0.416106\tval-merror:0.492081\n",
      "[21]\ttrain-merror:0.416576\tval-merror:0.489819\n",
      "[22]\ttrain-merror:0.416996\tval-merror:0.492081\n",
      "[23]\ttrain-merror:0.417442\tval-merror:0.489819\n",
      "[24]\ttrain-merror:0.416403\tval-merror:0.488688\n",
      "[25]\ttrain-merror:0.417046\tval-merror:0.488688\n",
      "[26]\ttrain-merror:0.416799\tval-merror:0.488688\n",
      "[27]\ttrain-merror:0.416477\tval-merror:0.49095\n",
      "[28]\ttrain-merror:0.416625\tval-merror:0.493213\n",
      "[29]\ttrain-merror:0.416625\tval-merror:0.493213\n",
      "[30]\ttrain-merror:0.415785\tval-merror:0.493213\n",
      "[31]\ttrain-merror:0.415809\tval-merror:0.49095\n",
      "[32]\ttrain-merror:0.415092\tval-merror:0.494344\n",
      "[33]\ttrain-merror:0.415166\tval-merror:0.494344\n",
      "[34]\ttrain-merror:0.414845\tval-merror:0.49095\n",
      "[35]\ttrain-merror:0.415389\tval-merror:0.49095\n",
      "[36]\ttrain-merror:0.415339\tval-merror:0.489819\n",
      "[37]\ttrain-merror:0.41477\tval-merror:0.488688\n",
      "[38]\ttrain-merror:0.414869\tval-merror:0.488688\n",
      "[39]\ttrain-merror:0.414597\tval-merror:0.49095\n",
      "[40]\ttrain-merror:0.414375\tval-merror:0.489819\n",
      "[41]\ttrain-merror:0.414325\tval-merror:0.489819\n",
      "[42]\ttrain-merror:0.414523\tval-merror:0.489819\n",
      "[43]\ttrain-merror:0.414325\tval-merror:0.487557\n",
      "[44]\ttrain-merror:0.413608\tval-merror:0.489819\n",
      "[45]\ttrain-merror:0.413385\tval-merror:0.49095\n",
      "[46]\ttrain-merror:0.413361\tval-merror:0.488688\n",
      "[47]\ttrain-merror:0.41341\tval-merror:0.488688\n",
      "[48]\ttrain-merror:0.412866\tval-merror:0.488688\n",
      "[49]\ttrain-merror:0.412792\tval-merror:0.487557\n",
      "[50]\ttrain-merror:0.412198\tval-merror:0.487557\n",
      "[51]\ttrain-merror:0.41158\tval-merror:0.486425\n",
      "[52]\ttrain-merror:0.411209\tval-merror:0.485294\n",
      "[53]\ttrain-merror:0.411407\tval-merror:0.480769\n",
      "[54]\ttrain-merror:0.41111\tval-merror:0.4819\n",
      "[55]\ttrain-merror:0.41069\tval-merror:0.486425\n",
      "[56]\ttrain-merror:0.410838\tval-merror:0.486425\n",
      "[57]\ttrain-merror:0.410244\tval-merror:0.485294\n",
      "[58]\ttrain-merror:0.41022\tval-merror:0.486425\n",
      "[59]\ttrain-merror:0.410022\tval-merror:0.488688\n",
      "[60]\ttrain-merror:0.409799\tval-merror:0.487557\n",
      "[61]\ttrain-merror:0.410145\tval-merror:0.488688\n",
      "[62]\ttrain-merror:0.410022\tval-merror:0.488688\n",
      "[63]\ttrain-merror:0.40975\tval-merror:0.489819\n",
      "[64]\ttrain-merror:0.409725\tval-merror:0.489819\n",
      "[65]\ttrain-merror:0.409799\tval-merror:0.488688\n",
      "[66]\ttrain-merror:0.409725\tval-merror:0.487557\n",
      "[67]\ttrain-merror:0.409255\tval-merror:0.484163\n",
      "[68]\ttrain-merror:0.408835\tval-merror:0.483032\n",
      "[69]\ttrain-merror:0.408414\tval-merror:0.486425\n",
      "[70]\ttrain-merror:0.408612\tval-merror:0.485294\n",
      "[71]\ttrain-merror:0.408661\tval-merror:0.484163\n",
      "[72]\ttrain-merror:0.408859\tval-merror:0.485294\n",
      "[73]\ttrain-merror:0.408612\tval-merror:0.486425\n",
      "[74]\ttrain-merror:0.408414\tval-merror:0.487557\n",
      "[75]\ttrain-merror:0.408389\tval-merror:0.486425\n",
      "[76]\ttrain-merror:0.407944\tval-merror:0.487557\n",
      "[77]\ttrain-merror:0.407919\tval-merror:0.487557\n",
      "[78]\ttrain-merror:0.407722\tval-merror:0.485294\n",
      "[79]\ttrain-merror:0.407647\tval-merror:0.487557\n",
      "[80]\ttrain-merror:0.407919\tval-merror:0.488688\n",
      "[81]\ttrain-merror:0.407821\tval-merror:0.492081\n",
      "[82]\ttrain-merror:0.407326\tval-merror:0.489819\n",
      "[83]\ttrain-merror:0.407474\tval-merror:0.489819\n",
      "[84]\ttrain-merror:0.406881\tval-merror:0.489819\n",
      "[85]\ttrain-merror:0.407054\tval-merror:0.489819\n",
      "[86]\ttrain-merror:0.406806\tval-merror:0.488688\n",
      "[87]\ttrain-merror:0.406633\tval-merror:0.489819\n",
      "[88]\ttrain-merror:0.40646\tval-merror:0.49095\n",
      "[89]\ttrain-merror:0.406262\tval-merror:0.49095\n",
      "[90]\ttrain-merror:0.405867\tval-merror:0.492081\n",
      "[91]\ttrain-merror:0.40599\tval-merror:0.489819\n",
      "[92]\ttrain-merror:0.405867\tval-merror:0.489819\n",
      "[93]\ttrain-merror:0.405595\tval-merror:0.489819\n",
      "[94]\ttrain-merror:0.405694\tval-merror:0.489819\n",
      "[95]\ttrain-merror:0.404976\tval-merror:0.49095\n",
      "[96]\ttrain-merror:0.404581\tval-merror:0.49095\n",
      "[97]\ttrain-merror:0.404407\tval-merror:0.49095\n",
      "[98]\ttrain-merror:0.404457\tval-merror:0.49095\n",
      "[99]\ttrain-merror:0.404308\tval-merror:0.492081\n",
      "[100]\ttrain-merror:0.403715\tval-merror:0.492081\n",
      "[101]\ttrain-merror:0.403616\tval-merror:0.492081\n",
      "[102]\ttrain-merror:0.403789\tval-merror:0.49095\n",
      "[103]\ttrain-merror:0.403665\tval-merror:0.489819\n",
      "[104]\ttrain-merror:0.403641\tval-merror:0.489819\n",
      "[105]\ttrain-merror:0.403097\tval-merror:0.488688\n",
      "[106]\ttrain-merror:0.403022\tval-merror:0.489819\n",
      "[107]\ttrain-merror:0.402824\tval-merror:0.489819\n",
      "[108]\ttrain-merror:0.402577\tval-merror:0.488688\n",
      "[109]\ttrain-merror:0.40233\tval-merror:0.486425\n",
      "[110]\ttrain-merror:0.402305\tval-merror:0.488688\n",
      "[111]\ttrain-merror:0.402083\tval-merror:0.487557\n",
      "[112]\ttrain-merror:0.402033\tval-merror:0.487557\n",
      "[113]\ttrain-merror:0.402058\tval-merror:0.487557\n",
      "[114]\ttrain-merror:0.401885\tval-merror:0.487557\n",
      "[115]\ttrain-merror:0.401439\tval-merror:0.488688\n",
      "[116]\ttrain-merror:0.401068\tval-merror:0.486425\n",
      "[117]\ttrain-merror:0.401167\tval-merror:0.486425\n",
      "[118]\ttrain-merror:0.400796\tval-merror:0.486425\n",
      "[119]\ttrain-merror:0.400524\tval-merror:0.486425\n",
      "[120]\ttrain-merror:0.400549\tval-merror:0.485294\n",
      "[121]\ttrain-merror:0.400623\tval-merror:0.485294\n",
      "[122]\ttrain-merror:0.400648\tval-merror:0.486425\n",
      "[123]\ttrain-merror:0.400648\tval-merror:0.486425\n",
      "[124]\ttrain-merror:0.400623\tval-merror:0.486425\n",
      "[125]\ttrain-merror:0.400277\tval-merror:0.486425\n",
      "[126]\ttrain-merror:0.400178\tval-merror:0.486425\n",
      "[127]\ttrain-merror:0.400005\tval-merror:0.485294\n",
      "[128]\ttrain-merror:0.40003\tval-merror:0.485294\n",
      "[129]\ttrain-merror:0.399733\tval-merror:0.485294\n",
      "[130]\ttrain-merror:0.399832\tval-merror:0.485294\n",
      "[131]\ttrain-merror:0.399634\tval-merror:0.485294\n",
      "[132]\ttrain-merror:0.399213\tval-merror:0.485294\n",
      "[133]\ttrain-merror:0.399164\tval-merror:0.485294\n",
      "[134]\ttrain-merror:0.39904\tval-merror:0.485294\n",
      "[135]\ttrain-merror:0.398941\tval-merror:0.485294\n",
      "[136]\ttrain-merror:0.39909\tval-merror:0.485294\n",
      "[137]\ttrain-merror:0.398645\tval-merror:0.485294\n",
      "[138]\ttrain-merror:0.398323\tval-merror:0.485294\n",
      "[139]\ttrain-merror:0.398051\tval-merror:0.484163\n",
      "[140]\ttrain-merror:0.397655\tval-merror:0.484163\n",
      "[141]\ttrain-merror:0.39721\tval-merror:0.484163\n",
      "[142]\ttrain-merror:0.397185\tval-merror:0.484163\n",
      "[143]\ttrain-merror:0.396963\tval-merror:0.484163\n",
      "[144]\ttrain-merror:0.396419\tval-merror:0.484163\n",
      "[145]\ttrain-merror:0.396419\tval-merror:0.484163\n",
      "[146]\ttrain-merror:0.396122\tval-merror:0.484163\n",
      "[147]\ttrain-merror:0.395949\tval-merror:0.485294\n",
      "[148]\ttrain-merror:0.396122\tval-merror:0.485294\n",
      "[149]\ttrain-merror:0.396023\tval-merror:0.484163\n",
      "[150]\ttrain-merror:0.3958\tval-merror:0.484163\n",
      "[151]\ttrain-merror:0.395652\tval-merror:0.484163\n",
      "[152]\ttrain-merror:0.395306\tval-merror:0.484163\n",
      "[153]\ttrain-merror:0.394836\tval-merror:0.485294\n",
      "[154]\ttrain-merror:0.394465\tval-merror:0.485294\n",
      "[155]\ttrain-merror:0.394044\tval-merror:0.483032\n",
      "[156]\ttrain-merror:0.394193\tval-merror:0.485294\n",
      "[157]\ttrain-merror:0.394143\tval-merror:0.486425\n",
      "[158]\ttrain-merror:0.393698\tval-merror:0.485294\n",
      "[159]\ttrain-merror:0.393698\tval-merror:0.485294\n",
      "[160]\ttrain-merror:0.393624\tval-merror:0.486425\n",
      "[161]\ttrain-merror:0.393253\tval-merror:0.486425\n",
      "[162]\ttrain-merror:0.392907\tval-merror:0.486425\n",
      "[163]\ttrain-merror:0.392659\tval-merror:0.485294\n",
      "[164]\ttrain-merror:0.392362\tval-merror:0.485294\n",
      "[165]\ttrain-merror:0.391917\tval-merror:0.484163\n",
      "[166]\ttrain-merror:0.392066\tval-merror:0.484163\n",
      "[167]\ttrain-merror:0.391818\tval-merror:0.484163\n",
      "[168]\ttrain-merror:0.392016\tval-merror:0.484163\n",
      "[169]\ttrain-merror:0.391324\tval-merror:0.484163\n",
      "[170]\ttrain-merror:0.391052\tval-merror:0.484163\n",
      "[171]\ttrain-merror:0.390582\tval-merror:0.485294\n",
      "[172]\ttrain-merror:0.390458\tval-merror:0.485294\n",
      "[173]\ttrain-merror:0.390606\tval-merror:0.484163\n",
      "[174]\ttrain-merror:0.390235\tval-merror:0.486425\n",
      "[175]\ttrain-merror:0.390038\tval-merror:0.486425\n",
      "[176]\ttrain-merror:0.389815\tval-merror:0.485294\n",
      "[177]\ttrain-merror:0.389667\tval-merror:0.485294\n",
      "[178]\ttrain-merror:0.389568\tval-merror:0.486425\n",
      "[179]\ttrain-merror:0.389667\tval-merror:0.486425\n",
      "[180]\ttrain-merror:0.389642\tval-merror:0.486425\n",
      "[181]\ttrain-merror:0.389766\tval-merror:0.486425\n",
      "[182]\ttrain-merror:0.389469\tval-merror:0.486425\n",
      "[183]\ttrain-merror:0.38937\tval-merror:0.486425\n",
      "[184]\ttrain-merror:0.389221\tval-merror:0.486425\n",
      "[185]\ttrain-merror:0.389172\tval-merror:0.486425\n",
      "[186]\ttrain-merror:0.388776\tval-merror:0.486425\n",
      "[187]\ttrain-merror:0.388776\tval-merror:0.486425\n",
      "[188]\ttrain-merror:0.388653\tval-merror:0.485294\n",
      "[189]\ttrain-merror:0.388529\tval-merror:0.485294\n",
      "[190]\ttrain-merror:0.388504\tval-merror:0.486425\n",
      "[191]\ttrain-merror:0.388257\tval-merror:0.486425\n",
      "[192]\ttrain-merror:0.387762\tval-merror:0.486425\n",
      "[193]\ttrain-merror:0.387441\tval-merror:0.485294\n",
      "[194]\ttrain-merror:0.387342\tval-merror:0.486425\n",
      "[195]\ttrain-merror:0.387292\tval-merror:0.486425\n",
      "[196]\ttrain-merror:0.387342\tval-merror:0.486425\n",
      "[197]\ttrain-merror:0.38707\tval-merror:0.487557\n",
      "[198]\ttrain-merror:0.386946\tval-merror:0.487557\n",
      "[199]\ttrain-merror:0.386773\tval-merror:0.486425\n",
      "[200]\ttrain-merror:0.38655\tval-merror:0.487557\n",
      "[201]\ttrain-merror:0.386006\tval-merror:0.486425\n",
      "[202]\ttrain-merror:0.385734\tval-merror:0.487557\n",
      "[203]\ttrain-merror:0.385635\tval-merror:0.488688\n",
      "[204]\ttrain-merror:0.385709\tval-merror:0.487557\n",
      "[205]\ttrain-merror:0.385462\tval-merror:0.487557\n",
      "[206]\ttrain-merror:0.385314\tval-merror:0.487557\n",
      "[207]\ttrain-merror:0.385116\tval-merror:0.486425\n",
      "[208]\ttrain-merror:0.384794\tval-merror:0.486425\n",
      "[209]\ttrain-merror:0.384596\tval-merror:0.485294\n",
      "[210]\ttrain-merror:0.384596\tval-merror:0.486425\n",
      "[211]\ttrain-merror:0.38472\tval-merror:0.486425\n",
      "[212]\ttrain-merror:0.384596\tval-merror:0.486425\n",
      "[213]\ttrain-merror:0.384572\tval-merror:0.486425\n",
      "[214]\ttrain-merror:0.384052\tval-merror:0.486425\n",
      "[215]\ttrain-merror:0.383953\tval-merror:0.487557\n",
      "[216]\ttrain-merror:0.383879\tval-merror:0.487557\n",
      "[217]\ttrain-merror:0.383632\tval-merror:0.487557\n",
      "[218]\ttrain-merror:0.383483\tval-merror:0.487557\n",
      "[219]\ttrain-merror:0.383112\tval-merror:0.487557\n",
      "[220]\ttrain-merror:0.382717\tval-merror:0.487557\n",
      "[221]\ttrain-merror:0.38237\tval-merror:0.487557\n",
      "[222]\ttrain-merror:0.382296\tval-merror:0.486425\n",
      "[223]\ttrain-merror:0.382321\tval-merror:0.487557\n",
      "[224]\ttrain-merror:0.381925\tval-merror:0.486425\n",
      "[225]\ttrain-merror:0.381925\tval-merror:0.485294\n",
      "[226]\ttrain-merror:0.381604\tval-merror:0.484163\n",
      "[227]\ttrain-merror:0.381233\tval-merror:0.485294\n",
      "[228]\ttrain-merror:0.381134\tval-merror:0.486425\n",
      "[229]\ttrain-merror:0.381084\tval-merror:0.485294\n",
      "[230]\ttrain-merror:0.380639\tval-merror:0.486425\n",
      "[231]\ttrain-merror:0.380441\tval-merror:0.486425\n",
      "[232]\ttrain-merror:0.380392\tval-merror:0.486425\n",
      "[233]\ttrain-merror:0.379947\tval-merror:0.486425\n",
      "[234]\ttrain-merror:0.379848\tval-merror:0.486425\n",
      "[235]\ttrain-merror:0.379007\tval-merror:0.486425\n",
      "[236]\ttrain-merror:0.378883\tval-merror:0.487557\n",
      "[237]\ttrain-merror:0.378636\tval-merror:0.487557\n",
      "[238]\ttrain-merror:0.378191\tval-merror:0.487557\n",
      "[239]\ttrain-merror:0.37782\tval-merror:0.487557\n",
      "[240]\ttrain-merror:0.377795\tval-merror:0.486425\n",
      "[241]\ttrain-merror:0.377597\tval-merror:0.485294\n",
      "[242]\ttrain-merror:0.377572\tval-merror:0.486425\n",
      "[243]\ttrain-merror:0.377399\tval-merror:0.488688\n",
      "[244]\ttrain-merror:0.377275\tval-merror:0.488688\n",
      "[245]\ttrain-merror:0.377028\tval-merror:0.486425\n",
      "[246]\ttrain-merror:0.376756\tval-merror:0.486425\n",
      "[247]\ttrain-merror:0.376336\tval-merror:0.486425\n",
      "[248]\ttrain-merror:0.376113\tval-merror:0.486425\n",
      "[249]\ttrain-merror:0.37594\tval-merror:0.485294\n",
      "[250]\ttrain-merror:0.376064\tval-merror:0.485294\n",
      "[251]\ttrain-merror:0.375791\tval-merror:0.485294\n",
      "[252]\ttrain-merror:0.375767\tval-merror:0.485294\n",
      "[253]\ttrain-merror:0.375495\tval-merror:0.486425\n",
      "[254]\ttrain-merror:0.374901\tval-merror:0.486425\n",
      "[255]\ttrain-merror:0.374802\tval-merror:0.486425\n",
      "[256]\ttrain-merror:0.375\tval-merror:0.486425\n",
      "[257]\ttrain-merror:0.374876\tval-merror:0.485294\n",
      "[258]\ttrain-merror:0.374703\tval-merror:0.485294\n",
      "[259]\ttrain-merror:0.374629\tval-merror:0.485294\n",
      "[260]\ttrain-merror:0.374332\tval-merror:0.485294\n",
      "[261]\ttrain-merror:0.374258\tval-merror:0.485294\n",
      "[262]\ttrain-merror:0.373714\tval-merror:0.485294\n",
      "[263]\ttrain-merror:0.373417\tval-merror:0.485294\n",
      "[264]\ttrain-merror:0.373467\tval-merror:0.483032\n",
      "[265]\ttrain-merror:0.373392\tval-merror:0.484163\n",
      "[266]\ttrain-merror:0.373293\tval-merror:0.484163\n",
      "[267]\ttrain-merror:0.372997\tval-merror:0.484163\n",
      "[268]\ttrain-merror:0.372551\tval-merror:0.484163\n",
      "[269]\ttrain-merror:0.372205\tval-merror:0.484163\n",
      "[270]\ttrain-merror:0.371958\tval-merror:0.484163\n",
      "[271]\ttrain-merror:0.371636\tval-merror:0.484163\n",
      "[272]\ttrain-merror:0.37134\tval-merror:0.485294\n",
      "[273]\ttrain-merror:0.371092\tval-merror:0.484163\n",
      "[274]\ttrain-merror:0.370771\tval-merror:0.485294\n",
      "[275]\ttrain-merror:0.370548\tval-merror:0.485294\n",
      "[276]\ttrain-merror:0.370499\tval-merror:0.485294\n",
      "[277]\ttrain-merror:0.369905\tval-merror:0.485294\n",
      "[278]\ttrain-merror:0.369287\tval-merror:0.485294\n",
      "[279]\ttrain-merror:0.368693\tval-merror:0.485294\n",
      "[280]\ttrain-merror:0.36852\tval-merror:0.484163\n",
      "[281]\ttrain-merror:0.368372\tval-merror:0.486425\n",
      "[282]\ttrain-merror:0.368248\tval-merror:0.485294\n",
      "[283]\ttrain-merror:0.368124\tval-merror:0.485294\n",
      "[284]\ttrain-merror:0.367654\tval-merror:0.485294\n",
      "[285]\ttrain-merror:0.367778\tval-merror:0.485294\n",
      "[286]\ttrain-merror:0.367358\tval-merror:0.485294\n",
      "[287]\ttrain-merror:0.367283\tval-merror:0.485294\n",
      "[288]\ttrain-merror:0.367308\tval-merror:0.485294\n",
      "[289]\ttrain-merror:0.366888\tval-merror:0.486425\n",
      "[290]\ttrain-merror:0.366789\tval-merror:0.486425\n",
      "[291]\ttrain-merror:0.366764\tval-merror:0.486425\n",
      "[292]\ttrain-merror:0.366418\tval-merror:0.486425\n",
      "[293]\ttrain-merror:0.366343\tval-merror:0.486425\n",
      "[294]\ttrain-merror:0.366071\tval-merror:0.486425\n",
      "[295]\ttrain-merror:0.365824\tval-merror:0.486425\n",
      "[296]\ttrain-merror:0.36575\tval-merror:0.485294\n",
      "[297]\ttrain-merror:0.365676\tval-merror:0.485294\n",
      "[298]\ttrain-merror:0.365478\tval-merror:0.485294\n",
      "[299]\ttrain-merror:0.365354\tval-merror:0.485294\n",
      "[300]\ttrain-merror:0.365255\tval-merror:0.485294\n",
      "[301]\ttrain-merror:0.364785\tval-merror:0.485294\n",
      "[302]\ttrain-merror:0.36486\tval-merror:0.485294\n",
      "[303]\ttrain-merror:0.364884\tval-merror:0.484163\n",
      "[304]\ttrain-merror:0.364587\tval-merror:0.484163\n",
      "Stopping. Best iteration:\n",
      "[4]\ttrain-merror:0.415958\tval-merror:0.478507\n",
      "\n",
      "4\n"
     ]
    }
   ],
   "source": [
    "params['objective'] = 'multi:softmax'\n",
    "model = xgb.train(params, xgtrain, num_rounds, watchlist,early_stopping_rounds=stop_rounds)\n",
    "print(model.best_iteration)"
   ]
  },
  {
   "cell_type": "code",
   "execution_count": 67,
   "metadata": {},
   "outputs": [
    {
     "data": {
      "text/plain": [
       "0.49540581929555894"
      ]
     },
     "execution_count": 67,
     "metadata": {},
     "output_type": "execute_result"
    }
   ],
   "source": [
    "preds = model.predict(xgtest, ntree_limit=model.best_iteration)\n",
    "preds\n",
    "\n",
    "accuracy_score(test_dataset['fix_result'], preds)"
   ]
  },
  {
   "cell_type": "markdown",
   "metadata": {},
   "source": [
    "## 验证选2场的结果"
   ]
  },
  {
   "cell_type": "code",
   "execution_count": 68,
   "metadata": {},
   "outputs": [
    {
     "name": "stdout",
     "output_type": "stream",
     "text": [
      "[0]\ttrain-merror:0.440715\tval-merror:0.495475\n",
      "Multiple eval metrics have been passed: 'val-merror' will be used for early stopping.\n",
      "\n",
      "Will train until val-merror hasn't improved in 300 rounds.\n",
      "[1]\ttrain-merror:0.426444\tval-merror:0.480769\n",
      "[2]\ttrain-merror:0.420162\tval-merror:0.49095\n",
      "[3]\ttrain-merror:0.41477\tval-merror:0.479638\n",
      "[4]\ttrain-merror:0.415958\tval-merror:0.478507\n",
      "[5]\ttrain-merror:0.414301\tval-merror:0.486425\n",
      "[6]\ttrain-merror:0.412643\tval-merror:0.488688\n",
      "[7]\ttrain-merror:0.414301\tval-merror:0.49095\n",
      "[8]\ttrain-merror:0.414523\tval-merror:0.488688\n",
      "[9]\ttrain-merror:0.415191\tval-merror:0.492081\n",
      "[10]\ttrain-merror:0.415315\tval-merror:0.489819\n",
      "[11]\ttrain-merror:0.413905\tval-merror:0.493213\n",
      "[12]\ttrain-merror:0.414152\tval-merror:0.493213\n",
      "[13]\ttrain-merror:0.415488\tval-merror:0.493213\n",
      "[14]\ttrain-merror:0.416329\tval-merror:0.492081\n",
      "[15]\ttrain-merror:0.41623\tval-merror:0.488688\n",
      "[16]\ttrain-merror:0.416724\tval-merror:0.494344\n",
      "[17]\ttrain-merror:0.415587\tval-merror:0.493213\n",
      "[18]\ttrain-merror:0.415785\tval-merror:0.492081\n",
      "[19]\ttrain-merror:0.415636\tval-merror:0.492081\n",
      "[20]\ttrain-merror:0.416106\tval-merror:0.492081\n",
      "[21]\ttrain-merror:0.416576\tval-merror:0.489819\n",
      "[22]\ttrain-merror:0.416996\tval-merror:0.492081\n",
      "[23]\ttrain-merror:0.417442\tval-merror:0.489819\n",
      "[24]\ttrain-merror:0.416403\tval-merror:0.488688\n",
      "[25]\ttrain-merror:0.417046\tval-merror:0.488688\n",
      "[26]\ttrain-merror:0.416799\tval-merror:0.488688\n",
      "[27]\ttrain-merror:0.416477\tval-merror:0.49095\n",
      "[28]\ttrain-merror:0.416625\tval-merror:0.493213\n",
      "[29]\ttrain-merror:0.416625\tval-merror:0.493213\n",
      "[30]\ttrain-merror:0.415785\tval-merror:0.493213\n",
      "[31]\ttrain-merror:0.415809\tval-merror:0.49095\n",
      "[32]\ttrain-merror:0.415092\tval-merror:0.494344\n",
      "[33]\ttrain-merror:0.415166\tval-merror:0.494344\n",
      "[34]\ttrain-merror:0.414845\tval-merror:0.49095\n",
      "[35]\ttrain-merror:0.415389\tval-merror:0.49095\n",
      "[36]\ttrain-merror:0.415339\tval-merror:0.489819\n",
      "[37]\ttrain-merror:0.41477\tval-merror:0.488688\n",
      "[38]\ttrain-merror:0.414869\tval-merror:0.488688\n",
      "[39]\ttrain-merror:0.414597\tval-merror:0.49095\n",
      "[40]\ttrain-merror:0.414375\tval-merror:0.489819\n",
      "[41]\ttrain-merror:0.414325\tval-merror:0.489819\n",
      "[42]\ttrain-merror:0.414523\tval-merror:0.489819\n",
      "[43]\ttrain-merror:0.414325\tval-merror:0.487557\n",
      "[44]\ttrain-merror:0.413608\tval-merror:0.489819\n",
      "[45]\ttrain-merror:0.413385\tval-merror:0.49095\n",
      "[46]\ttrain-merror:0.413361\tval-merror:0.488688\n",
      "[47]\ttrain-merror:0.41341\tval-merror:0.488688\n",
      "[48]\ttrain-merror:0.412866\tval-merror:0.488688\n",
      "[49]\ttrain-merror:0.412792\tval-merror:0.487557\n",
      "[50]\ttrain-merror:0.412198\tval-merror:0.487557\n",
      "[51]\ttrain-merror:0.41158\tval-merror:0.486425\n",
      "[52]\ttrain-merror:0.411209\tval-merror:0.485294\n",
      "[53]\ttrain-merror:0.411407\tval-merror:0.480769\n",
      "[54]\ttrain-merror:0.41111\tval-merror:0.4819\n",
      "[55]\ttrain-merror:0.41069\tval-merror:0.486425\n",
      "[56]\ttrain-merror:0.410838\tval-merror:0.486425\n",
      "[57]\ttrain-merror:0.410244\tval-merror:0.485294\n",
      "[58]\ttrain-merror:0.41022\tval-merror:0.486425\n",
      "[59]\ttrain-merror:0.410022\tval-merror:0.488688\n",
      "[60]\ttrain-merror:0.409799\tval-merror:0.487557\n",
      "[61]\ttrain-merror:0.410145\tval-merror:0.488688\n",
      "[62]\ttrain-merror:0.410022\tval-merror:0.488688\n",
      "[63]\ttrain-merror:0.40975\tval-merror:0.489819\n",
      "[64]\ttrain-merror:0.409725\tval-merror:0.489819\n",
      "[65]\ttrain-merror:0.409799\tval-merror:0.488688\n",
      "[66]\ttrain-merror:0.409725\tval-merror:0.487557\n",
      "[67]\ttrain-merror:0.409255\tval-merror:0.484163\n",
      "[68]\ttrain-merror:0.408835\tval-merror:0.483032\n",
      "[69]\ttrain-merror:0.408414\tval-merror:0.486425\n",
      "[70]\ttrain-merror:0.408612\tval-merror:0.485294\n",
      "[71]\ttrain-merror:0.408661\tval-merror:0.484163\n",
      "[72]\ttrain-merror:0.408859\tval-merror:0.485294\n",
      "[73]\ttrain-merror:0.408612\tval-merror:0.486425\n",
      "[74]\ttrain-merror:0.408414\tval-merror:0.487557\n",
      "[75]\ttrain-merror:0.408389\tval-merror:0.486425\n",
      "[76]\ttrain-merror:0.407944\tval-merror:0.487557\n",
      "[77]\ttrain-merror:0.407919\tval-merror:0.487557\n",
      "[78]\ttrain-merror:0.407722\tval-merror:0.485294\n",
      "[79]\ttrain-merror:0.407647\tval-merror:0.487557\n",
      "[80]\ttrain-merror:0.407919\tval-merror:0.488688\n",
      "[81]\ttrain-merror:0.407821\tval-merror:0.492081\n",
      "[82]\ttrain-merror:0.407326\tval-merror:0.489819\n",
      "[83]\ttrain-merror:0.407474\tval-merror:0.489819\n",
      "[84]\ttrain-merror:0.406881\tval-merror:0.489819\n",
      "[85]\ttrain-merror:0.407054\tval-merror:0.489819\n",
      "[86]\ttrain-merror:0.406806\tval-merror:0.488688\n",
      "[87]\ttrain-merror:0.406633\tval-merror:0.489819\n",
      "[88]\ttrain-merror:0.40646\tval-merror:0.49095\n",
      "[89]\ttrain-merror:0.406262\tval-merror:0.49095\n",
      "[90]\ttrain-merror:0.405867\tval-merror:0.492081\n",
      "[91]\ttrain-merror:0.40599\tval-merror:0.489819\n",
      "[92]\ttrain-merror:0.405867\tval-merror:0.489819\n",
      "[93]\ttrain-merror:0.405595\tval-merror:0.489819\n",
      "[94]\ttrain-merror:0.405694\tval-merror:0.489819\n",
      "[95]\ttrain-merror:0.404976\tval-merror:0.49095\n",
      "[96]\ttrain-merror:0.404581\tval-merror:0.49095\n",
      "[97]\ttrain-merror:0.404407\tval-merror:0.49095\n",
      "[98]\ttrain-merror:0.404457\tval-merror:0.49095\n",
      "[99]\ttrain-merror:0.404308\tval-merror:0.492081\n",
      "[100]\ttrain-merror:0.403715\tval-merror:0.492081\n",
      "[101]\ttrain-merror:0.403616\tval-merror:0.492081\n",
      "[102]\ttrain-merror:0.403789\tval-merror:0.49095\n",
      "[103]\ttrain-merror:0.403665\tval-merror:0.489819\n",
      "[104]\ttrain-merror:0.403641\tval-merror:0.489819\n",
      "[105]\ttrain-merror:0.403097\tval-merror:0.488688\n",
      "[106]\ttrain-merror:0.403022\tval-merror:0.489819\n",
      "[107]\ttrain-merror:0.402824\tval-merror:0.489819\n",
      "[108]\ttrain-merror:0.402577\tval-merror:0.488688\n",
      "[109]\ttrain-merror:0.40233\tval-merror:0.486425\n",
      "[110]\ttrain-merror:0.402305\tval-merror:0.488688\n",
      "[111]\ttrain-merror:0.402083\tval-merror:0.487557\n",
      "[112]\ttrain-merror:0.402033\tval-merror:0.487557\n",
      "[113]\ttrain-merror:0.402058\tval-merror:0.487557\n",
      "[114]\ttrain-merror:0.401885\tval-merror:0.487557\n",
      "[115]\ttrain-merror:0.401439\tval-merror:0.488688\n",
      "[116]\ttrain-merror:0.401068\tval-merror:0.486425\n",
      "[117]\ttrain-merror:0.401167\tval-merror:0.486425\n",
      "[118]\ttrain-merror:0.400796\tval-merror:0.486425\n",
      "[119]\ttrain-merror:0.400524\tval-merror:0.486425\n",
      "[120]\ttrain-merror:0.400549\tval-merror:0.485294\n",
      "[121]\ttrain-merror:0.400623\tval-merror:0.485294\n",
      "[122]\ttrain-merror:0.400648\tval-merror:0.486425\n",
      "[123]\ttrain-merror:0.400648\tval-merror:0.486425\n",
      "[124]\ttrain-merror:0.400623\tval-merror:0.486425\n",
      "[125]\ttrain-merror:0.400277\tval-merror:0.486425\n",
      "[126]\ttrain-merror:0.400178\tval-merror:0.486425\n",
      "[127]\ttrain-merror:0.400005\tval-merror:0.485294\n",
      "[128]\ttrain-merror:0.40003\tval-merror:0.485294\n",
      "[129]\ttrain-merror:0.399733\tval-merror:0.485294\n",
      "[130]\ttrain-merror:0.399832\tval-merror:0.485294\n",
      "[131]\ttrain-merror:0.399634\tval-merror:0.485294\n",
      "[132]\ttrain-merror:0.399213\tval-merror:0.485294\n",
      "[133]\ttrain-merror:0.399164\tval-merror:0.485294\n",
      "[134]\ttrain-merror:0.39904\tval-merror:0.485294\n",
      "[135]\ttrain-merror:0.398941\tval-merror:0.485294\n",
      "[136]\ttrain-merror:0.39909\tval-merror:0.485294\n",
      "[137]\ttrain-merror:0.398645\tval-merror:0.485294\n",
      "[138]\ttrain-merror:0.398323\tval-merror:0.485294\n",
      "[139]\ttrain-merror:0.398051\tval-merror:0.484163\n",
      "[140]\ttrain-merror:0.397655\tval-merror:0.484163\n",
      "[141]\ttrain-merror:0.39721\tval-merror:0.484163\n",
      "[142]\ttrain-merror:0.397185\tval-merror:0.484163\n",
      "[143]\ttrain-merror:0.396963\tval-merror:0.484163\n",
      "[144]\ttrain-merror:0.396419\tval-merror:0.484163\n",
      "[145]\ttrain-merror:0.396419\tval-merror:0.484163\n",
      "[146]\ttrain-merror:0.396122\tval-merror:0.484163\n",
      "[147]\ttrain-merror:0.395949\tval-merror:0.485294\n",
      "[148]\ttrain-merror:0.396122\tval-merror:0.485294\n",
      "[149]\ttrain-merror:0.396023\tval-merror:0.484163\n",
      "[150]\ttrain-merror:0.3958\tval-merror:0.484163\n",
      "[151]\ttrain-merror:0.395652\tval-merror:0.484163\n",
      "[152]\ttrain-merror:0.395306\tval-merror:0.484163\n",
      "[153]\ttrain-merror:0.394836\tval-merror:0.485294\n",
      "[154]\ttrain-merror:0.394465\tval-merror:0.485294\n",
      "[155]\ttrain-merror:0.394044\tval-merror:0.483032\n",
      "[156]\ttrain-merror:0.394193\tval-merror:0.485294\n",
      "[157]\ttrain-merror:0.394143\tval-merror:0.486425\n",
      "[158]\ttrain-merror:0.393698\tval-merror:0.485294\n",
      "[159]\ttrain-merror:0.393698\tval-merror:0.485294\n",
      "[160]\ttrain-merror:0.393624\tval-merror:0.486425\n",
      "[161]\ttrain-merror:0.393253\tval-merror:0.486425\n",
      "[162]\ttrain-merror:0.392907\tval-merror:0.486425\n",
      "[163]\ttrain-merror:0.392659\tval-merror:0.485294\n",
      "[164]\ttrain-merror:0.392362\tval-merror:0.485294\n",
      "[165]\ttrain-merror:0.391917\tval-merror:0.484163\n",
      "[166]\ttrain-merror:0.392066\tval-merror:0.484163\n",
      "[167]\ttrain-merror:0.391818\tval-merror:0.484163\n",
      "[168]\ttrain-merror:0.392016\tval-merror:0.484163\n",
      "[169]\ttrain-merror:0.391324\tval-merror:0.484163\n",
      "[170]\ttrain-merror:0.391052\tval-merror:0.484163\n",
      "[171]\ttrain-merror:0.390582\tval-merror:0.485294\n",
      "[172]\ttrain-merror:0.390458\tval-merror:0.485294\n",
      "[173]\ttrain-merror:0.390606\tval-merror:0.484163\n",
      "[174]\ttrain-merror:0.390235\tval-merror:0.486425\n",
      "[175]\ttrain-merror:0.390038\tval-merror:0.486425\n",
      "[176]\ttrain-merror:0.389815\tval-merror:0.485294\n",
      "[177]\ttrain-merror:0.389667\tval-merror:0.485294\n",
      "[178]\ttrain-merror:0.389568\tval-merror:0.486425\n",
      "[179]\ttrain-merror:0.389667\tval-merror:0.486425\n",
      "[180]\ttrain-merror:0.389642\tval-merror:0.486425\n",
      "[181]\ttrain-merror:0.389766\tval-merror:0.486425\n",
      "[182]\ttrain-merror:0.389469\tval-merror:0.486425\n",
      "[183]\ttrain-merror:0.38937\tval-merror:0.486425\n",
      "[184]\ttrain-merror:0.389221\tval-merror:0.486425\n",
      "[185]\ttrain-merror:0.389172\tval-merror:0.486425\n",
      "[186]\ttrain-merror:0.388776\tval-merror:0.486425\n",
      "[187]\ttrain-merror:0.388776\tval-merror:0.486425\n",
      "[188]\ttrain-merror:0.388653\tval-merror:0.485294\n",
      "[189]\ttrain-merror:0.388529\tval-merror:0.485294\n",
      "[190]\ttrain-merror:0.388504\tval-merror:0.486425\n",
      "[191]\ttrain-merror:0.388257\tval-merror:0.486425\n",
      "[192]\ttrain-merror:0.387762\tval-merror:0.486425\n",
      "[193]\ttrain-merror:0.387441\tval-merror:0.485294\n",
      "[194]\ttrain-merror:0.387342\tval-merror:0.486425\n",
      "[195]\ttrain-merror:0.387292\tval-merror:0.486425\n",
      "[196]\ttrain-merror:0.387342\tval-merror:0.486425\n",
      "[197]\ttrain-merror:0.38707\tval-merror:0.487557\n",
      "[198]\ttrain-merror:0.386946\tval-merror:0.487557\n",
      "[199]\ttrain-merror:0.386773\tval-merror:0.486425\n",
      "[200]\ttrain-merror:0.38655\tval-merror:0.487557\n",
      "[201]\ttrain-merror:0.386006\tval-merror:0.486425\n",
      "[202]\ttrain-merror:0.385734\tval-merror:0.487557\n",
      "[203]\ttrain-merror:0.385635\tval-merror:0.488688\n",
      "[204]\ttrain-merror:0.385709\tval-merror:0.487557\n",
      "[205]\ttrain-merror:0.385462\tval-merror:0.487557\n",
      "[206]\ttrain-merror:0.385314\tval-merror:0.487557\n",
      "[207]\ttrain-merror:0.385116\tval-merror:0.486425\n",
      "[208]\ttrain-merror:0.384794\tval-merror:0.486425\n",
      "[209]\ttrain-merror:0.384596\tval-merror:0.485294\n",
      "[210]\ttrain-merror:0.384596\tval-merror:0.486425\n",
      "[211]\ttrain-merror:0.38472\tval-merror:0.486425\n",
      "[212]\ttrain-merror:0.384596\tval-merror:0.486425\n",
      "[213]\ttrain-merror:0.384572\tval-merror:0.486425\n",
      "[214]\ttrain-merror:0.384052\tval-merror:0.486425\n",
      "[215]\ttrain-merror:0.383953\tval-merror:0.487557\n",
      "[216]\ttrain-merror:0.383879\tval-merror:0.487557\n",
      "[217]\ttrain-merror:0.383632\tval-merror:0.487557\n",
      "[218]\ttrain-merror:0.383483\tval-merror:0.487557\n",
      "[219]\ttrain-merror:0.383112\tval-merror:0.487557\n",
      "[220]\ttrain-merror:0.382717\tval-merror:0.487557\n",
      "[221]\ttrain-merror:0.38237\tval-merror:0.487557\n",
      "[222]\ttrain-merror:0.382296\tval-merror:0.486425\n",
      "[223]\ttrain-merror:0.382321\tval-merror:0.487557\n",
      "[224]\ttrain-merror:0.381925\tval-merror:0.486425\n",
      "[225]\ttrain-merror:0.381925\tval-merror:0.485294\n",
      "[226]\ttrain-merror:0.381604\tval-merror:0.484163\n",
      "[227]\ttrain-merror:0.381233\tval-merror:0.485294\n",
      "[228]\ttrain-merror:0.381134\tval-merror:0.486425\n",
      "[229]\ttrain-merror:0.381084\tval-merror:0.485294\n",
      "[230]\ttrain-merror:0.380639\tval-merror:0.486425\n",
      "[231]\ttrain-merror:0.380441\tval-merror:0.486425\n",
      "[232]\ttrain-merror:0.380392\tval-merror:0.486425\n",
      "[233]\ttrain-merror:0.379947\tval-merror:0.486425\n",
      "[234]\ttrain-merror:0.379848\tval-merror:0.486425\n",
      "[235]\ttrain-merror:0.379007\tval-merror:0.486425\n",
      "[236]\ttrain-merror:0.378883\tval-merror:0.487557\n",
      "[237]\ttrain-merror:0.378636\tval-merror:0.487557\n",
      "[238]\ttrain-merror:0.378191\tval-merror:0.487557\n",
      "[239]\ttrain-merror:0.37782\tval-merror:0.487557\n",
      "[240]\ttrain-merror:0.377795\tval-merror:0.486425\n",
      "[241]\ttrain-merror:0.377597\tval-merror:0.485294\n",
      "[242]\ttrain-merror:0.377572\tval-merror:0.486425\n",
      "[243]\ttrain-merror:0.377399\tval-merror:0.488688\n",
      "[244]\ttrain-merror:0.377275\tval-merror:0.488688\n",
      "[245]\ttrain-merror:0.377028\tval-merror:0.486425\n",
      "[246]\ttrain-merror:0.376756\tval-merror:0.486425\n",
      "[247]\ttrain-merror:0.376336\tval-merror:0.486425\n",
      "[248]\ttrain-merror:0.376113\tval-merror:0.486425\n",
      "[249]\ttrain-merror:0.37594\tval-merror:0.485294\n",
      "[250]\ttrain-merror:0.376064\tval-merror:0.485294\n",
      "[251]\ttrain-merror:0.375791\tval-merror:0.485294\n",
      "[252]\ttrain-merror:0.375767\tval-merror:0.485294\n",
      "[253]\ttrain-merror:0.375495\tval-merror:0.486425\n",
      "[254]\ttrain-merror:0.374901\tval-merror:0.486425\n",
      "[255]\ttrain-merror:0.374802\tval-merror:0.486425\n",
      "[256]\ttrain-merror:0.375\tval-merror:0.486425\n",
      "[257]\ttrain-merror:0.374876\tval-merror:0.485294\n",
      "[258]\ttrain-merror:0.374703\tval-merror:0.485294\n",
      "[259]\ttrain-merror:0.374629\tval-merror:0.485294\n",
      "[260]\ttrain-merror:0.374332\tval-merror:0.485294\n",
      "[261]\ttrain-merror:0.374258\tval-merror:0.485294\n",
      "[262]\ttrain-merror:0.373714\tval-merror:0.485294\n",
      "[263]\ttrain-merror:0.373417\tval-merror:0.485294\n",
      "[264]\ttrain-merror:0.373467\tval-merror:0.483032\n",
      "[265]\ttrain-merror:0.373392\tval-merror:0.484163\n",
      "[266]\ttrain-merror:0.373293\tval-merror:0.484163\n",
      "[267]\ttrain-merror:0.372997\tval-merror:0.484163\n",
      "[268]\ttrain-merror:0.372551\tval-merror:0.484163\n",
      "[269]\ttrain-merror:0.372205\tval-merror:0.484163\n",
      "[270]\ttrain-merror:0.371958\tval-merror:0.484163\n",
      "[271]\ttrain-merror:0.371636\tval-merror:0.484163\n",
      "[272]\ttrain-merror:0.37134\tval-merror:0.485294\n",
      "[273]\ttrain-merror:0.371092\tval-merror:0.484163\n",
      "[274]\ttrain-merror:0.370771\tval-merror:0.485294\n",
      "[275]\ttrain-merror:0.370548\tval-merror:0.485294\n",
      "[276]\ttrain-merror:0.370499\tval-merror:0.485294\n",
      "[277]\ttrain-merror:0.369905\tval-merror:0.485294\n",
      "[278]\ttrain-merror:0.369287\tval-merror:0.485294\n",
      "[279]\ttrain-merror:0.368693\tval-merror:0.485294\n",
      "[280]\ttrain-merror:0.36852\tval-merror:0.484163\n",
      "[281]\ttrain-merror:0.368372\tval-merror:0.486425\n",
      "[282]\ttrain-merror:0.368248\tval-merror:0.485294\n",
      "[283]\ttrain-merror:0.368124\tval-merror:0.485294\n",
      "[284]\ttrain-merror:0.367654\tval-merror:0.485294\n",
      "[285]\ttrain-merror:0.367778\tval-merror:0.485294\n",
      "[286]\ttrain-merror:0.367358\tval-merror:0.485294\n",
      "[287]\ttrain-merror:0.367283\tval-merror:0.485294\n",
      "[288]\ttrain-merror:0.367308\tval-merror:0.485294\n",
      "[289]\ttrain-merror:0.366888\tval-merror:0.486425\n",
      "[290]\ttrain-merror:0.366789\tval-merror:0.486425\n",
      "[291]\ttrain-merror:0.366764\tval-merror:0.486425\n",
      "[292]\ttrain-merror:0.366418\tval-merror:0.486425\n",
      "[293]\ttrain-merror:0.366343\tval-merror:0.486425\n",
      "[294]\ttrain-merror:0.366071\tval-merror:0.486425\n",
      "[295]\ttrain-merror:0.365824\tval-merror:0.486425\n",
      "[296]\ttrain-merror:0.36575\tval-merror:0.485294\n",
      "[297]\ttrain-merror:0.365676\tval-merror:0.485294\n",
      "[298]\ttrain-merror:0.365478\tval-merror:0.485294\n",
      "[299]\ttrain-merror:0.365354\tval-merror:0.485294\n",
      "[300]\ttrain-merror:0.365255\tval-merror:0.485294\n",
      "[301]\ttrain-merror:0.364785\tval-merror:0.485294\n",
      "[302]\ttrain-merror:0.36486\tval-merror:0.485294\n",
      "[303]\ttrain-merror:0.364884\tval-merror:0.484163\n",
      "[304]\ttrain-merror:0.364587\tval-merror:0.484163\n",
      "Stopping. Best iteration:\n",
      "[4]\ttrain-merror:0.415958\tval-merror:0.478507\n",
      "\n",
      "4\n"
     ]
    }
   ],
   "source": [
    "params['objective'] = 'multi:softprob'\n",
    "model = xgb.train(params, xgtrain, num_rounds, watchlist,early_stopping_rounds=stop_rounds)\n",
    "print(model.best_iteration)"
   ]
  },
  {
   "cell_type": "code",
   "execution_count": 69,
   "metadata": {},
   "outputs": [
    {
     "data": {
      "text/plain": [
       "array([[0.33142418, 0.32970038, 0.33887544],\n",
       "       [0.3333948 , 0.3333471 , 0.33325803],\n",
       "       [0.32676286, 0.32840765, 0.3448295 ],\n",
       "       ...,\n",
       "       [0.3280665 , 0.33121812, 0.34071535],\n",
       "       [0.32626048, 0.32933497, 0.3444045 ],\n",
       "       [0.3401803 , 0.33019677, 0.32962295]], dtype=float32)"
      ]
     },
     "execution_count": 69,
     "metadata": {},
     "output_type": "execute_result"
    }
   ],
   "source": [
    "pred_probs = model.predict(xgtest, ntree_limit=model.best_iteration)\n",
    "pred_probs"
   ]
  },
  {
   "cell_type": "code",
   "execution_count": 70,
   "metadata": {},
   "outputs": [],
   "source": [
    "def get_result(items):\n",
    "    if items[0] <= items[1] and items[0] <= items[2]:\n",
    "        return [1,2]\n",
    "    elif items[1] <= items[0] and items[1] <= items[2]:\n",
    "        return [0,2]\n",
    "    elif items[2] <= items[0] and items[2] <= items[1]:\n",
    "        return [0,1]\n",
    "    \n",
    "def cal_win_rate(fix_results, pred_probs):\n",
    "    results = []\n",
    "    for i in range(len(pred_probs)):\n",
    "        items = pred_probs[i]\n",
    "        probs = get_result(items)\n",
    "\n",
    "        if fix_results[i] in probs:\n",
    "            results.append(1)\n",
    "        else:\n",
    "            results.append(0)\n",
    "    return results"
   ]
  },
  {
   "cell_type": "code",
   "execution_count": 71,
   "metadata": {},
   "outputs": [
    {
     "data": {
      "text/plain": [
       "0.7687595712098009"
      ]
     },
     "execution_count": 71,
     "metadata": {},
     "output_type": "execute_result"
    }
   ],
   "source": [
    "fix_results = test_dataset['fix_result'].values\n",
    "results = cal_win_rate(fix_results, pred_probs)\n",
    "np.array(results).sum() / len(results)"
   ]
  },
  {
   "cell_type": "markdown",
   "metadata": {},
   "source": [
    "# SVM训练"
   ]
  },
  {
   "cell_type": "code",
   "execution_count": 43,
   "metadata": {},
   "outputs": [],
   "source": [
    "# Seperating Predictors and Outcome values from train and test sets\n",
    "X_train = train_dataset[x_columns]\n",
    "Y_train_label = train_dataset['fix_result'].values.astype(object)\n",
    "\n",
    "X_test = test_dataset[x_columns]\n",
    "Y_test_label = test_dataset['fix_result'].values.astype(object)\n",
    "\n",
    "encoder = preprocessing.LabelEncoder()\n",
    "\n",
    "# encoding train labels \n",
    "encoder.fit(Y_train_label)\n",
    "Y_train = encoder.transform(Y_train_label)\n",
    "\n",
    "# encoding test labels \n",
    "encoder.fit(Y_test_label)\n",
    "Y_test = encoder.transform(Y_test_label)\n",
    "\n",
    "scaler = StandardScaler()\n",
    "X_train_scaled = scaler.fit_transform(X_train)\n",
    "X_test_scaled = scaler.transform(X_test)"
   ]
  },
  {
   "cell_type": "code",
   "execution_count": 44,
   "metadata": {},
   "outputs": [
    {
     "data": {
      "text/plain": [
       "SVC(C=1, cache_size=200, class_weight=None, coef0=0.0,\n",
       "  decision_function_shape='ovr', degree=3, gamma='auto', kernel='rbf',\n",
       "  max_iter=-1, probability=True, random_state=None, shrinking=True,\n",
       "  tol=0.001, verbose=False)"
      ]
     },
     "execution_count": 44,
     "metadata": {},
     "output_type": "execute_result"
    }
   ],
   "source": [
    "final_model = SVC(C=1000, kernel='rbf', degree=3, gamma=0.001, probability=True)\n",
    "final_model.fit(X_train_scaled, Y_train)"
   ]
  },
  {
   "cell_type": "code",
   "execution_count": 45,
   "metadata": {},
   "outputs": [
    {
     "name": "stdout",
     "output_type": "stream",
     "text": [
      "Training set score for SVM: 0.518797\n",
      "Testing  set score for SVM: 0.497703\n"
     ]
    }
   ],
   "source": [
    "# final_model = svm_model.best_estimator_\n",
    "\n",
    "print(\"Training set score for SVM: %f\" % final_model.score(X_train_scaled , Y_train))\n",
    "print(\"Testing  set score for SVM: %f\" % final_model.score(X_test_scaled  , Y_test ))"
   ]
  },
  {
   "cell_type": "code",
   "execution_count": 55,
   "metadata": {},
   "outputs": [
    {
     "data": {
      "text/plain": [
       "array([[0.47405197, 0.23189443, 0.2940536 ],\n",
       "       [0.32617446, 0.23190144, 0.4419241 ],\n",
       "       [0.17796286, 0.28299914, 0.539038  ],\n",
       "       ...,\n",
       "       [0.18358106, 0.27806675, 0.53835219],\n",
       "       [0.17718353, 0.28303152, 0.53978494],\n",
       "       [0.56536336, 0.27501483, 0.15962181]])"
      ]
     },
     "execution_count": 55,
     "metadata": {},
     "output_type": "execute_result"
    }
   ],
   "source": [
    "pred_probs = final_model.predict_proba(X_test_scaled)\n",
    "pred_probs"
   ]
  },
  {
   "cell_type": "code",
   "execution_count": 56,
   "metadata": {},
   "outputs": [
    {
     "data": {
      "text/plain": [
       "0.7679938744257274"
      ]
     },
     "execution_count": 56,
     "metadata": {},
     "output_type": "execute_result"
    }
   ],
   "source": [
    "fix_results = test_dataset['fix_result'].values\n",
    "results = cal_win_rate(fix_results, pred_probs)\n",
    "np.array(results).sum() / len(results)"
   ]
  },
  {
   "cell_type": "markdown",
   "metadata": {},
   "source": [
    "## GridSearch寻找最优解"
   ]
  },
  {
   "cell_type": "code",
   "execution_count": 60,
   "metadata": {},
   "outputs": [],
   "source": [
    "params_grid = {'kernel': ['rbf'], 'gamma': [1e-3, 1e-4], 'C': [1, 10, 100, 1000]}\n",
    "svm_model = GridSearchCV(SVC(), params_grid, cv=3)\n",
    "svm_model.fit(X_train_scaled, Y_train)\n",
    "final_model = svm_model.best_estimator_"
   ]
  },
  {
   "cell_type": "code",
   "execution_count": 62,
   "metadata": {},
   "outputs": [
    {
     "data": {
      "text/plain": [
       "SVC(C=1000, cache_size=200, class_weight=None, coef0=0.0,\n",
       "  decision_function_shape='ovr', degree=3, gamma=0.001, kernel='rbf',\n",
       "  max_iter=-1, probability=False, random_state=None, shrinking=True,\n",
       "  tol=0.001, verbose=False)"
      ]
     },
     "execution_count": 62,
     "metadata": {},
     "output_type": "execute_result"
    }
   ],
   "source": [
    "final_model"
   ]
  },
  {
   "cell_type": "code",
   "execution_count": 61,
   "metadata": {},
   "outputs": [
    {
     "name": "stdout",
     "output_type": "stream",
     "text": [
      "Training set score for SVM: 0.519094\n",
      "Testing  set score for SVM: 0.500766\n"
     ]
    }
   ],
   "source": [
    "print(\"Training set score for SVM: %f\" % final_model.score(X_train_scaled , Y_train))\n",
    "print(\"Testing  set score for SVM: %f\" % final_model.score(X_test_scaled  , Y_test ))"
   ]
  },
  {
   "cell_type": "code",
   "execution_count": null,
   "metadata": {},
   "outputs": [],
   "source": []
  }
 ],
 "metadata": {
  "kernelspec": {
   "display_name": "Python 3",
   "language": "python",
   "name": "python3"
  },
  "language_info": {
   "codemirror_mode": {
    "name": "ipython",
    "version": 3
   },
   "file_extension": ".py",
   "mimetype": "text/x-python",
   "name": "python",
   "nbconvert_exporter": "python",
   "pygments_lexer": "ipython3",
   "version": "3.6.7"
  }
 },
 "nbformat": 4,
 "nbformat_minor": 2
}
