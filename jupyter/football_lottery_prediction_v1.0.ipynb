{
 "cells": [
  {
   "cell_type": "code",
   "execution_count": 1,
   "metadata": {},
   "outputs": [],
   "source": [
    "import pymysql.cursors\n",
    "import pandas as pd\n",
    "from sklearn import preprocessing"
   ]
  },
  {
   "cell_type": "markdown",
   "metadata": {},
   "source": [
    "# 训练"
   ]
  },
  {
   "cell_type": "markdown",
   "metadata": {},
   "source": [
    "## 获取全量的竞彩比赛列表"
   ]
  },
  {
   "cell_type": "code",
   "execution_count": 2,
   "metadata": {},
   "outputs": [],
   "source": [
    "connection = pymysql.connect(host='localhost', user='root', password='breadt@2019', db='breadt-football-ml', charset='utf8mb4', cursorclass=pymysql.cursors.DictCursor)\n",
    "with connection.cursor() as cursor:\n",
    "    sql = 'select * from `breadt_football_game_list`;'\n",
    "    cursor.execute(sql)\n",
    "    rows = cursor.fetchall()\n",
    "    \n",
    "    train_game_list_df = pd.DataFrame(rows)\n",
    "    \n",
    "    connection.close()"
   ]
  },
  {
   "cell_type": "markdown",
   "metadata": {},
   "source": [
    "## 获取全量的胜负彩比赛列表"
   ]
  },
  {
   "cell_type": "code",
   "execution_count": 3,
   "metadata": {},
   "outputs": [],
   "source": [
    "connection = pymysql.connect(host='localhost', user='root', password='breadt@2019', db='breadt-football-ml', charset='utf8mb4', cursorclass=pymysql.cursors.DictCursor)\n",
    "with connection.cursor() as cursor:\n",
    "    sql = 'select * from `breadt_lottery_info`;'\n",
    "    cursor.execute(sql)\n",
    "    rows = cursor.fetchall()\n",
    "    \n",
    "    train_lottery_game_list_df = pd.DataFrame(rows)\n",
    "    \n",
    "    connection.close()"
   ]
  },
  {
   "cell_type": "markdown",
   "metadata": {},
   "source": [
    "## 合并竞彩比赛列表和胜负彩比赛列表"
   ]
  },
  {
   "cell_type": "code",
   "execution_count": 4,
   "metadata": {},
   "outputs": [],
   "source": [
    "tmp = train_lottery_game_list_df.drop(['issue'], axis=1)\n",
    "df = pd.concat([train_game_list_df, tmp])\n",
    "df = df[['matchid', 'game', 'home_team', 'visit_team', 'gs', 'gd', 'gn', 'time', 'result', 'win_bet_return', 'draw_bet_return', 'lose_bet_return']]\n",
    "df = df.drop_duplicates(subset=['matchid'])"
   ]
  },
  {
   "cell_type": "markdown",
   "metadata": {},
   "source": [
    "## **设定训练范围** 并处理数据"
   ]
  },
  {
   "cell_type": "code",
   "execution_count": 5,
   "metadata": {},
   "outputs": [],
   "source": [
    "# match_group = ['澳超', '英超', '德甲', '德乙', '法甲', '西甲', '意甲', '日职', '英甲', '英冠', '苏超', '法乙', '葡超', '荷甲', '荷乙', '韩K联', '瑞典超', '挪超', '美职', '日乙', '俄超', '比甲', '瑞典甲', '法丙', '挪甲', '英乙', '苏冠', '巴甲', '智利甲', '墨超', '智利乙', '阿甲', '欧冠', '欧罗巴']\n",
    "match_group = ['澳超', '英超', '德甲', '德乙', '法甲', '西甲', '意甲', '日职', '英甲', '英冠', '苏超', '法乙', '葡超', '荷甲', '荷乙', '韩K联', '瑞典超', '挪超', '美职', '日乙', '俄超', '比甲', '瑞典甲', '法丙', '挪甲', '英乙', '苏冠', '巴甲', '智利甲', '墨超', '智利乙', '阿甲']\n",
    "match_df = df[(df['game'].isin(match_group))]\n",
    "match_df = match_df.dropna()"
   ]
  },
  {
   "cell_type": "code",
   "execution_count": 6,
   "metadata": {},
   "outputs": [
    {
     "data": {
      "text/plain": [
       "LabelEncoder()"
      ]
     },
     "execution_count": 6,
     "metadata": {},
     "output_type": "execute_result"
    }
   ],
   "source": [
    "# 对team做encode 这个encoder后面预测的时候还会用到\n",
    "teams = list(set(df['home_team'].values) | set(df['visit_team'].values))\n",
    "team_encoder = preprocessing.LabelEncoder()\n",
    "team_encoder.fit(teams)"
   ]
  },
  {
   "cell_type": "code",
   "execution_count": 7,
   "metadata": {},
   "outputs": [],
   "source": [
    "def encode_team(df):\n",
    "    df['home_team_encoder'] = team_encoder.transform(df['home_team'])\n",
    "    df['visit_team_encoder'] = team_encoder.transform(df['visit_team'])\n",
    "    return df"
   ]
  },
  {
   "cell_type": "code",
   "execution_count": 8,
   "metadata": {},
   "outputs": [
    {
     "data": {
      "text/plain": [
       "LabelEncoder()"
      ]
     },
     "execution_count": 8,
     "metadata": {},
     "output_type": "execute_result"
    }
   ],
   "source": [
    "# 比赛名称encode\n",
    "games = list(set(match_df['game'].values))\n",
    "game_encoder = preprocessing.LabelEncoder()\n",
    "game_encoder.fit(games)"
   ]
  },
  {
   "cell_type": "code",
   "execution_count": 9,
   "metadata": {},
   "outputs": [],
   "source": [
    "def encode_game(df):\n",
    "    df['game_encoder'] = game_encoder.transform(df['game'])\n",
    "    return df"
   ]
  },
  {
   "cell_type": "code",
   "execution_count": 10,
   "metadata": {},
   "outputs": [],
   "source": [
    "match_df['year'] = match_df.apply(lambda row: row.time.year, axis=1)\n",
    "match_df['month'] = match_df.apply(lambda row: row.time.month, axis=1)\n",
    "match_df['day'] = match_df.apply(lambda row: row.time.day, axis=1)\n",
    "match_df['fix_result'] = match_df.apply(lambda row: int(row.result) if row.result < 3 else 2, axis=1)"
   ]
  },
  {
   "cell_type": "code",
   "execution_count": 11,
   "metadata": {},
   "outputs": [],
   "source": [
    "match_df = encode_team(match_df)\n",
    "match_df = encode_game(match_df)"
   ]
  },
  {
   "cell_type": "code",
   "execution_count": 12,
   "metadata": {},
   "outputs": [
    {
     "name": "stdout",
     "output_type": "stream",
     "text": [
      "<class 'pandas.core.frame.DataFrame'>\n",
      "Int64Index: 44524 entries, 1 to 12549\n",
      "Data columns (total 19 columns):\n",
      "matchid               44524 non-null int64\n",
      "game                  44524 non-null object\n",
      "home_team             44524 non-null object\n",
      "visit_team            44524 non-null object\n",
      "gs                    44524 non-null int64\n",
      "gd                    44524 non-null int64\n",
      "gn                    44524 non-null int64\n",
      "time                  44524 non-null datetime64[ns]\n",
      "result                44524 non-null int64\n",
      "win_bet_return        44524 non-null float64\n",
      "draw_bet_return       44524 non-null float64\n",
      "lose_bet_return       44524 non-null float64\n",
      "year                  44524 non-null int64\n",
      "month                 44524 non-null int64\n",
      "day                   44524 non-null int64\n",
      "fix_result            44524 non-null int64\n",
      "home_team_encoder     44524 non-null int64\n",
      "visit_team_encoder    44524 non-null int64\n",
      "game_encoder          44524 non-null int64\n",
      "dtypes: datetime64[ns](1), float64(3), int64(12), object(3)\n",
      "memory usage: 6.8+ MB\n"
     ]
    }
   ],
   "source": [
    "match_df.info()"
   ]
  },
  {
   "cell_type": "markdown",
   "metadata": {},
   "source": [
    "## 获取特征数据"
   ]
  },
  {
   "cell_type": "code",
   "execution_count": 13,
   "metadata": {},
   "outputs": [],
   "source": [
    "connection = pymysql.connect(host='localhost', user='root', password='breadt@2019', db='breadt-football-ml', charset='utf8mb4', cursorclass=pymysql.cursors.DictCursor)\n",
    "with connection.cursor() as cursor:\n",
    "    sql = 'select * from `breadt_football_feature_info`;'\n",
    "    cursor.execute(sql)\n",
    "    rows = cursor.fetchall()\n",
    "    \n",
    "    train_feature_df = pd.DataFrame(rows)\n",
    "    \n",
    "    connection.close()"
   ]
  },
  {
   "cell_type": "markdown",
   "metadata": {},
   "source": [
    "## 处理特征数据"
   ]
  },
  {
   "cell_type": "code",
   "execution_count": 14,
   "metadata": {},
   "outputs": [],
   "source": [
    "def get_count(col):\n",
    "    arr = col.split(' ')\n",
    "    if len(arr) == 2:\n",
    "        return int(arr[1])\n",
    "    \n",
    "    return int(arr[0])"
   ]
  },
  {
   "cell_type": "code",
   "execution_count": 15,
   "metadata": {},
   "outputs": [],
   "source": [
    "def get_count_rate(col, all_count):\n",
    "    arr = col.split(' ')\n",
    "    if len(arr) == 2:\n",
    "        return int(arr[1]) / int(all_count)\n",
    "    \n",
    "    return int(arr[0])  / int(all_count)"
   ]
  },
  {
   "cell_type": "code",
   "execution_count": 16,
   "metadata": {},
   "outputs": [],
   "source": [
    "def get_current_score(words, score, pos):\n",
    "    t = score.replace(words, '')\n",
    "    t = t.replace('胜', '')\n",
    "    t = t.replace('平', '')\n",
    "    t = t.replace('负', '')\n",
    "    t = t.replace('分', '')\n",
    "    \n",
    "    arr = t.split('  ')\n",
    "    \n",
    "    if len(arr) == 3 and len(arr[2].split(' ')) == 2:\n",
    "        arr = [arr[0], arr[1]] + arr[2].split(' ')\n",
    "    \n",
    "    if len(arr) != 4:\n",
    "        return None\n",
    "    \n",
    "    if arr[pos] != '':\n",
    "        return int(arr[pos])\n",
    "    else:\n",
    "        return None"
   ]
  },
  {
   "cell_type": "code",
   "execution_count": 17,
   "metadata": {},
   "outputs": [],
   "source": [
    "h_cols = ['h_perf_win', 'h_perf_draw', 'h_perf_lose', 'h_host_win', 'h_host_draw', 'h_host_lose', 'h_battle_with_front_10_win', 'h_battle_with_front_10_draw', 'h_battle_with_front_10_lose', 'h_battle_with_end_10_win', 'h_battle_with_end_10_draw', 'h_battle_with_end_10_lose']\n",
    "v_cols =['v_perf_win', 'v_perf_draw', 'v_perf_lose', 'v_host_win', 'v_host_draw', 'v_host_lose', 'v_battle_with_front_10_win', 'v_battle_with_front_10_draw', 'v_battle_with_front_10_lose', 'v_battle_with_end_10_win', 'v_battle_with_end_10_draw', 'v_battle_with_end_10_lose']"
   ]
  },
  {
   "cell_type": "code",
   "execution_count": 18,
   "metadata": {},
   "outputs": [],
   "source": [
    "def take_count(df):\n",
    "    cols = h_cols + v_cols\n",
    "    for v in cols:\n",
    "        df[v + '_count'] = df.apply(lambda row: get_count(row[v]), axis=1)\n",
    "    \n",
    "    df['h_count'] = df['h_perf_win_count'] + df['h_perf_draw_count'] + df['h_perf_lose_count']\n",
    "    df['v_count'] = df['v_perf_win_count'] + df['v_perf_draw_count'] + df['v_perf_lose_count']\n",
    "    \n",
    "    return df"
   ]
  },
  {
   "cell_type": "code",
   "execution_count": 19,
   "metadata": {},
   "outputs": [],
   "source": [
    "def take_rate(df):\n",
    "    for v in h_cols:\n",
    "        df[v + '_count_rate'] = df.apply(lambda row: get_count_rate(row[v], row.h_count), axis=1)\n",
    "\n",
    "    for v in v_cols:\n",
    "        df[v + '_count_rate'] = df.apply(lambda row: get_count_rate(row[v], row.v_count), axis=1)\n",
    "        \n",
    "    return df"
   ]
  },
  {
   "cell_type": "code",
   "execution_count": 20,
   "metadata": {},
   "outputs": [],
   "source": [
    "def take_score(df):\n",
    "    h_items = ['h_current_win_count', 'h_current_draw_count', 'h_current_lose_count']\n",
    "    for k, v in enumerate(h_items):\n",
    "        df[v] = df.apply(lambda row: get_current_score('主队：', row.h_score, k), axis=1)\n",
    "    \n",
    "    df['h_all_count'] = df['h_current_win_count'] + df['h_current_draw_count'] + df['h_current_lose_count']\n",
    "    \n",
    "    for v in h_items:\n",
    "        df[v + '_rate'] = df[v] / df['h_all_count']\n",
    "        \n",
    "    df['h_current_score'] = df.apply(lambda row: get_current_score('主队：', row.h_score, 3), axis=1)\n",
    "    \n",
    "    ###########################################################################################\n",
    "    v_items = ['v_current_win_count', 'v_current_draw_count', 'v_current_lose_count']\n",
    "    for k, v in enumerate(v_items):\n",
    "        df[v] = df.apply(lambda row: get_current_score('客队：', row.v_score, k), axis=1)\n",
    "    \n",
    "    df['v_all_count'] = df['v_current_win_count'] + df['v_current_draw_count'] + df['v_current_lose_count']\n",
    "    \n",
    "    for v in v_items:\n",
    "        df[v + '_rate'] = df[v] / df['v_all_count']\n",
    "        \n",
    "    df['v_current_score'] = df.apply(lambda row: get_current_score('客队：', row.v_score, 3), axis=1)\n",
    "    \n",
    "    return df"
   ]
  },
  {
   "cell_type": "code",
   "execution_count": 21,
   "metadata": {},
   "outputs": [],
   "source": [
    "def get_current_rank(rank):\n",
    "    arr = rank.split('  ')\n",
    "    \n",
    "    if len(arr) == 2:\n",
    "        rank_str = arr[1].replace('本赛季排名：', '')\n",
    "        if rank_str != '':\n",
    "            return int(rank_str)\n",
    "    \n",
    "    return None"
   ]
  },
  {
   "cell_type": "code",
   "execution_count": 22,
   "metadata": {},
   "outputs": [],
   "source": [
    "def take_goal_info(prefix, df):\n",
    "    target_cols = ['_perf_gs', '_perf_gd', '_perf_avg_gs', '_perf_avg_gd',\n",
    "    '_host_gs', '_host_gd', '_host_avg_gs', '_host_avg_gd',\n",
    "    '_r3_gs', '_r3_gd', '_r3_avg_gs', '_r3_avg_gd',\n",
    "    '_perf_bet_high', '_perf_bet_low', '_host_bet_high',\n",
    "    '_host_bet_low', '_host_0_1_goal', '_host_2_3_goal',\n",
    "    '_host_ab_4_goal', '_host_0_goal', '_host_1_goal',\n",
    "    '_host_2_goal', '_host_3_goal', '_host_4_goal', '_host_5_goal',\n",
    "    '_host_6_goal', '_host_7_goal']\n",
    "\n",
    "    for k in target_cols:\n",
    "        df[prefix + k + '_rate'] = df[prefix + k] / df[prefix + '_count']\n",
    "    \n",
    "    return df"
   ]
  },
  {
   "cell_type": "markdown",
   "metadata": {},
   "source": [
    "后面对于预测数据可以复用"
   ]
  },
  {
   "cell_type": "code",
   "execution_count": 23,
   "metadata": {},
   "outputs": [],
   "source": [
    "train_feature_df = take_count(train_feature_df)\n",
    "train_feature_df = take_rate(train_feature_df)\n",
    "train_feature_df = take_score(train_feature_df)\n",
    "\n",
    "train_feature_df['h_current_rank'] = train_feature_df.apply(lambda row: get_current_rank(row.h_rank), axis=1)\n",
    "train_feature_df['v_current_rank'] = train_feature_df.apply(lambda row: get_current_rank(row.v_rank), axis=1)\n",
    "\n",
    "train_feature_df = take_goal_info('h', train_feature_df)\n",
    "train_feature_df = take_goal_info('v', train_feature_df)"
   ]
  },
  {
   "cell_type": "markdown",
   "metadata": {},
   "source": [
    "## 合并训练数据"
   ]
  },
  {
   "cell_type": "code",
   "execution_count": 24,
   "metadata": {},
   "outputs": [
    {
     "name": "stdout",
     "output_type": "stream",
     "text": [
      "<class 'pandas.core.frame.DataFrame'>\n",
      "Int64Index: 40440 entries, 0 to 44533\n",
      "Columns: 224 entries, matchid to v_host_7_goal_rate\n",
      "dtypes: datetime64[ns](1), float64(180), int64(12), object(31)\n",
      "memory usage: 69.4+ MB\n"
     ]
    }
   ],
   "source": [
    "train_dataset_df = pd.merge(match_df, train_feature_df, on='matchid', how='left')\n",
    "train_dataset_df = train_dataset_df.dropna()\n",
    "train_dataset_df.info()"
   ]
  },
  {
   "cell_type": "markdown",
   "metadata": {},
   "source": [
    "## xgb训练"
   ]
  },
  {
   "cell_type": "code",
   "execution_count": 25,
   "metadata": {},
   "outputs": [
    {
     "name": "stdout",
     "output_type": "stream",
     "text": [
      "[1562]\ttrain-merror:0.039688\tval-merror:0.236407\n",
      "[1563]\ttrain-merror:0.039688\tval-merror:0.236407\n",
      "[1564]\ttrain-merror:0.039584\tval-merror:0.236407\n",
      "[1565]\ttrain-merror:0.039479\tval-merror:0.235225\n",
      "[1566]\ttrain-merror:0.039479\tval-merror:0.235225\n",
      "[1567]\ttrain-merror:0.039427\tval-merror:0.235225\n",
      "[1568]\ttrain-merror:0.039401\tval-merror:0.237589\n",
      "[1569]\ttrain-merror:0.039061\tval-merror:0.236407\n",
      "[1570]\ttrain-merror:0.038982\tval-merror:0.235225\n",
      "[1571]\ttrain-merror:0.039009\tval-merror:0.237589\n",
      "[1572]\ttrain-merror:0.039009\tval-merror:0.237589\n",
      "[1573]\ttrain-merror:0.03893\tval-merror:0.236407\n",
      "[1574]\ttrain-merror:0.038904\tval-merror:0.236407\n",
      "[1575]\ttrain-merror:0.038878\tval-merror:0.236407\n",
      "[1576]\ttrain-merror:0.038747\tval-merror:0.236407\n",
      "[1577]\ttrain-merror:0.038616\tval-merror:0.235225\n",
      "[1578]\ttrain-merror:0.038643\tval-merror:0.235225\n",
      "[1579]\ttrain-merror:0.038512\tval-merror:0.236407\n",
      "[1580]\ttrain-merror:0.038512\tval-merror:0.236407\n",
      "[1581]\ttrain-merror:0.038381\tval-merror:0.237589\n",
      "[1582]\ttrain-merror:0.038198\tval-merror:0.236407\n",
      "[1583]\ttrain-merror:0.038146\tval-merror:0.236407\n",
      "Stopping. Best iteration:\n",
      "[1283]\ttrain-merror:0.063977\tval-merror:0.231678\n",
      "\n",
      "1283\n"
     ]
    },
    {
     "data": {
      "text/plain": [
       "array([2., 0., 0., ..., 2., 1., 1.], dtype=float32)"
      ]
     },
     "execution_count": 25,
     "metadata": {},
     "output_type": "execute_result"
    }
   ],
   "source": [
    "import xgboost as xgb\n",
    "\n",
    "x_columns = [\n",
    "    'year', \n",
    "    'month', \n",
    "    'win_bet_return', 'draw_bet_return','lose_bet_return', 'home_team_encoder', 'visit_team_encoder', 'game_encoder', \n",
    "    \n",
    "    'h_perf_gs', 'h_perf_gd', 'h_perf_avg_gs', 'h_perf_avg_gd',\n",
    "    'h_host_gs', 'h_host_gd', 'h_host_avg_gs', 'h_host_avg_gd',\n",
    "    'h_r3_gs', 'h_r3_gd', 'h_r3_avg_gs', 'h_r3_avg_gd',\n",
    "    'h_perf_bet_high', 'h_perf_bet_low', 'h_host_bet_high',\n",
    "    'h_host_bet_low', 'h_host_0_1_goal', 'h_host_2_3_goal',\n",
    "    'h_host_ab_4_goal', 'h_host_0_goal', 'h_host_1_goal',\n",
    "    'h_host_2_goal', 'h_host_3_goal', 'h_host_4_goal', 'h_host_5_goal',\n",
    "    'h_host_6_goal', 'h_host_7_goal', \n",
    "    \n",
    "    'h_perf_gs_rate', 'h_perf_gd_rate', 'h_perf_avg_gs_rate', 'h_perf_avg_gd_rate',\n",
    "    'h_host_gs_rate', 'h_host_gd_rate', 'h_host_avg_gs_rate', 'h_host_avg_gd_rate',\n",
    "    'h_r3_gs_rate', 'h_r3_gd_rate', 'h_r3_avg_gs_rate', 'h_r3_avg_gd_rate',\n",
    "    'h_perf_bet_high_rate', 'h_perf_bet_low_rate', 'h_host_bet_high_rate',\n",
    "    'h_host_bet_low_rate', 'h_host_0_1_goal_rate', 'h_host_2_3_goal_rate',\n",
    "    'h_host_ab_4_goal_rate', 'h_host_0_goal_rate', 'h_host_1_goal_rate',\n",
    "    'h_host_2_goal_rate', 'h_host_3_goal_rate', 'h_host_4_goal_rate', 'h_host_5_goal_rate',\n",
    "    'h_host_6_goal_rate', 'h_host_7_goal_rate', \n",
    "    \n",
    "    'v_perf_gs', 'v_perf_gd',\n",
    "    'v_perf_avg_gs', 'v_perf_avg_gd', 'v_host_gs', 'v_host_gd',\n",
    "    'v_host_avg_gs', 'v_host_avg_gd', 'v_r3_gs', 'v_r3_gd',\n",
    "    'v_r3_avg_gs', 'v_r3_avg_gd', 'v_perf_bet_high', 'v_perf_bet_low',\n",
    "    'v_host_bet_high', 'v_host_bet_low', 'v_host_0_1_goal',\n",
    "    'v_host_2_3_goal', 'v_host_ab_4_goal', 'v_host_0_goal',\n",
    "    'v_host_1_goal', 'v_host_2_goal', 'v_host_3_goal', 'v_host_4_goal',\n",
    "    'v_host_5_goal', 'v_host_6_goal', 'v_host_7_goal',\n",
    "    \n",
    "    'v_perf_gs_rate', 'v_perf_gd_rate',\n",
    "    'v_perf_avg_gs_rate', 'v_perf_avg_gd_rate', 'v_host_gs_rate', 'v_host_gd_rate',\n",
    "    'v_host_avg_gs_rate', 'v_host_avg_gd_rate', 'v_r3_gs_rate', 'v_r3_gd_rate',\n",
    "    'v_r3_avg_gs_rate', 'v_r3_avg_gd_rate', 'v_perf_bet_high_rate', 'v_perf_bet_low_rate',\n",
    "    'v_host_bet_high_rate', 'v_host_bet_low_rate', 'v_host_0_1_goal_rate',\n",
    "    'v_host_2_3_goal_rate', 'v_host_ab_4_goal_rate', 'v_host_0_goal_rate',\n",
    "    'v_host_1_goal_rate', 'v_host_2_goal_rate', 'v_host_3_goal_rate', 'v_host_4_goal_rate',\n",
    "    'v_host_5_goal_rate', 'v_host_6_goal_rate', 'v_host_7_goal_rate',\n",
    "\n",
    "    'h_perf_win_count', 'h_perf_draw_count', 'h_perf_lose_count',\n",
    "    'h_host_win_count', 'h_host_draw_count', 'h_host_lose_count',\n",
    "    'h_battle_with_front_10_win_count',\n",
    "    'h_battle_with_front_10_draw_count',\n",
    "    'h_battle_with_front_10_lose_count',\n",
    "    'h_battle_with_end_10_win_count',\n",
    "    'h_battle_with_end_10_draw_count',\n",
    "    'h_battle_with_end_10_lose_count', 'v_perf_win_count',\n",
    "    'v_perf_draw_count', 'v_perf_lose_count', 'v_host_win_count',\n",
    "    'v_host_draw_count', 'v_host_lose_count',\n",
    "    'v_battle_with_front_10_win_count',\n",
    "    'v_battle_with_front_10_draw_count',\n",
    "    'v_battle_with_front_10_lose_count',\n",
    "    'v_battle_with_end_10_win_count',\n",
    "    'v_battle_with_end_10_draw_count',\n",
    "    'v_battle_with_end_10_lose_count',\n",
    "    \n",
    "    'h_perf_win_count_rate', 'h_perf_draw_count_rate', 'h_perf_lose_count_rate',\n",
    "    'h_host_win_count_rate', 'h_host_draw_count_rate', 'h_host_lose_count_rate',\n",
    "    'h_battle_with_front_10_win_count_rate',\n",
    "    'h_battle_with_front_10_draw_count_rate',\n",
    "    'h_battle_with_front_10_lose_count_rate',\n",
    "    'h_battle_with_end_10_win_count_rate',\n",
    "    'h_battle_with_end_10_draw_count_rate',\n",
    "    'h_battle_with_end_10_lose_count_rate', 'v_perf_win_count_rate',\n",
    "    'v_perf_draw_count_rate', 'v_perf_lose_count_rate', 'v_host_win_count_rate',\n",
    "    'v_host_draw_count_rate', 'v_host_lose_count_rate',\n",
    "    'v_battle_with_front_10_win_count_rate',\n",
    "    'v_battle_with_front_10_draw_count_rate',\n",
    "    'v_battle_with_front_10_lose_count_rate',\n",
    "    'v_battle_with_end_10_win_count_rate',\n",
    "    'v_battle_with_end_10_draw_count_rate',\n",
    "    'v_battle_with_end_10_lose_count_rate',\n",
    "    \n",
    "    'h_count', 'h_all_count',\n",
    "    'v_count', 'v_all_count',\n",
    "    \n",
    "    'h_current_win_count',\n",
    "    'h_current_draw_count', 'h_current_lose_count', \n",
    "    'h_current_win_count_rate',\n",
    "    'h_current_draw_count_rate', 'h_current_lose_count_rate', \n",
    "    \n",
    "    'h_current_score',\n",
    "    'v_current_win_count', 'v_current_draw_count',\n",
    "    'v_current_lose_count', \n",
    "    \n",
    "    'v_current_win_count_rate', 'v_current_draw_count_rate',\n",
    "    'v_current_lose_count_rate',\n",
    "    \n",
    "    'v_current_score',\n",
    "    'h_current_rank', 'v_current_rank']\n",
    "    \n",
    "params={\n",
    "    'booster':'gbtree',\n",
    "    # 这里手写数字是0-9，是一个多类的问题，因此采用了multisoft多分类器，\n",
    "    'objective': 'multi:softmax', \n",
    "    'num_class':3, # 类数，与 multisoftmax 并用\n",
    "    'gamma':0.1,  # 在树的叶子节点下一个分区的最小损失，越大算法模型越保守 。[0:]\n",
    "    'max_depth':8, # 构建树的深度 [1:]\n",
    "    #'lambda':450,  # L2 正则项权重\n",
    "    'subsample':0.7, # 采样训练数据，设置为0.5，随机选择一般的数据实例 (0:1]\n",
    "    'colsample_bytree':0.7, # 构建树树时的采样比率 (0:1]\n",
    "    #'min_child_weight':12, # 节点的最少特征数\n",
    "    'silent':1 ,\n",
    "    \n",
    "#     这部分需要调整\n",
    "#     'eta': 0.05, # 如同学习率\n",
    "    'eta': 0.01, # 如同学习率\n",
    "    \n",
    "    \n",
    "    'seed':710,\n",
    "    'nthread':4,# cpu 线程数,根据自己U的个数适当调整\n",
    "}\n",
    "\n",
    "train_dataset = train_dataset_df[train_dataset_df['year'] < 2019]\n",
    "test_dataset = train_dataset_df[train_dataset_df['year'] == 2019]\n",
    "\n",
    "valid_dataset = test_dataset[test_dataset['month'] < 3]\n",
    "test_dataset = test_dataset[test_dataset['month'] >= 3]\n",
    "\n",
    "xgtrain = xgb.DMatrix(train_dataset[x_columns], label=train_dataset['fix_result'])\n",
    "xgtest = xgb.DMatrix(test_dataset[x_columns], label=test_dataset['fix_result'])\n",
    "xgvalid = xgb.DMatrix(valid_dataset[x_columns], label=valid_dataset['fix_result'])\n",
    "\n",
    "watchlist = [(xgtrain, 'train'),(xgvalid, 'val')]\n",
    "\n",
    "# num_rounds = 10000\n",
    "# stop_rounds = 100\n",
    "\n",
    "num_rounds = 10000\n",
    "stop_rounds = 300\n",
    "\n",
    "\n",
    "model = xgb.train(params, xgtrain, num_rounds, watchlist,early_stopping_rounds=stop_rounds)\n",
    "print(model.best_iteration)\n",
    "\n",
    "preds = model.predict(xgtest, ntree_limit=model.best_iteration)\n",
    "preds"
   ]
  },
  {
   "cell_type": "code",
   "execution_count": 26,
   "metadata": {},
   "outputs": [
    {
     "data": {
      "text/plain": [
       "0.7986627043090639"
      ]
     },
     "execution_count": 26,
     "metadata": {},
     "output_type": "execute_result"
    }
   ],
   "source": [
    "from sklearn.metrics import accuracy_score\n",
    "accuracy_score(test_dataset['fix_result'], preds)"
   ]
  },
  {
   "cell_type": "code",
   "execution_count": 27,
   "metadata": {},
   "outputs": [],
   "source": [
    "submission = pd.DataFrame({\n",
    "    \"matchid\": test_dataset.matchid, \n",
    "    \"result\": test_dataset.fix_result,\n",
    "    \"pred\": preds\n",
    "})\n",
    "\n",
    "submission.to_csv('../data/submission_2019.csv', index=False)"
   ]
  },
  {
   "cell_type": "code",
   "execution_count": 28,
   "metadata": {},
   "outputs": [],
   "source": [
    "model.save_model('../model/xgb.model')"
   ]
  },
  {
   "cell_type": "markdown",
   "metadata": {},
   "source": [
    "# 预测"
   ]
  },
  {
   "cell_type": "code",
   "execution_count": 29,
   "metadata": {},
   "outputs": [],
   "source": [
    "# 确认预测轮次\n",
    "issue = 19061"
   ]
  },
  {
   "cell_type": "markdown",
   "metadata": {},
   "source": [
    "## 获取预测比赛列表"
   ]
  },
  {
   "cell_type": "code",
   "execution_count": 30,
   "metadata": {},
   "outputs": [],
   "source": [
    "connection = pymysql.connect(host='localhost', user='root', password='breadt@2019', db='breadt-football-ml', charset='utf8mb4', cursorclass=pymysql.cursors.DictCursor)\n",
    "with connection.cursor() as cursor:\n",
    "    sql = 'select * from `breadt_lottery_predict_info` where issue = %d;' % (issue)\n",
    "    cursor.execute(sql)\n",
    "    rows = cursor.fetchall()\n",
    "    \n",
    "    predict_game_df = pd.DataFrame(rows)\n",
    "    \n",
    "    connection.close()"
   ]
  },
  {
   "cell_type": "code",
   "execution_count": 31,
   "metadata": {},
   "outputs": [],
   "source": [
    "predict_game_df = predict_game_df[(predict_game_df['game'].isin(match_group))]\n",
    "predict_game_df = predict_game_df.dropna()"
   ]
  },
  {
   "cell_type": "code",
   "execution_count": 32,
   "metadata": {},
   "outputs": [],
   "source": [
    "predict_game_df['year'] = predict_game_df.apply(lambda row: row.time.year, axis=1)\n",
    "predict_game_df['month'] = predict_game_df.apply(lambda row: row.time.month, axis=1)\n",
    "predict_game_df['day'] = predict_game_df.apply(lambda row: row.time.day, axis=1)"
   ]
  },
  {
   "cell_type": "code",
   "execution_count": 33,
   "metadata": {},
   "outputs": [],
   "source": [
    "predict_game_df = encode_team(predict_game_df)\n",
    "predict_game_df = encode_game(predict_game_df)"
   ]
  },
  {
   "cell_type": "markdown",
   "metadata": {},
   "source": [
    "## 获取预测特征数据"
   ]
  },
  {
   "cell_type": "code",
   "execution_count": 34,
   "metadata": {},
   "outputs": [],
   "source": [
    "connection = pymysql.connect(host='localhost', user='root', password='breadt@2019', db='breadt-football-ml', charset='utf8mb4', cursorclass=pymysql.cursors.DictCursor)\n",
    "with connection.cursor() as cursor:\n",
    "    sql = 'select * from `breadt_football_feature_info` where matchid in (select matchid from `breadt_lottery_predict_info` where issue = %d);' % (issue)\n",
    "    cursor.execute(sql)\n",
    "    rows = cursor.fetchall()\n",
    "    \n",
    "    predict_feature_df = pd.DataFrame(rows)\n",
    "    \n",
    "    connection.close()"
   ]
  },
  {
   "cell_type": "code",
   "execution_count": 35,
   "metadata": {},
   "outputs": [],
   "source": [
    "predict_feature_df = take_count(predict_feature_df)\n",
    "predict_feature_df = take_rate(predict_feature_df)\n",
    "predict_feature_df = take_score(predict_feature_df)\n",
    "\n",
    "predict_feature_df['h_current_rank'] = predict_feature_df.apply(lambda row: get_current_rank(row.h_rank), axis=1)\n",
    "predict_feature_df['v_current_rank'] = predict_feature_df.apply(lambda row: get_current_rank(row.v_rank), axis=1)\n",
    "\n",
    "predict_feature_df = take_goal_info('h', predict_feature_df)\n",
    "predict_feature_df = take_goal_info('v', predict_feature_df)"
   ]
  },
  {
   "cell_type": "markdown",
   "metadata": {},
   "source": [
    "## 合并预测数据"
   ]
  },
  {
   "cell_type": "code",
   "execution_count": 36,
   "metadata": {},
   "outputs": [
    {
     "name": "stdout",
     "output_type": "stream",
     "text": [
      "<class 'pandas.core.frame.DataFrame'>\n",
      "Int64Index: 14 entries, 0 to 13\n",
      "Columns: 223 entries, draw_bet_return to v_host_7_goal_rate\n",
      "dtypes: datetime64[ns](1), float64(99), int64(90), object(33)\n",
      "memory usage: 24.5+ KB\n"
     ]
    }
   ],
   "source": [
    "predict_dataset_df = pd.merge(predict_game_df, predict_feature_df, on='matchid', how='left')\n",
    "predict_dataset_df = predict_dataset_df.dropna()\n",
    "predict_dataset_df.info()"
   ]
  },
  {
   "cell_type": "code",
   "execution_count": 37,
   "metadata": {},
   "outputs": [
    {
     "data": {
      "text/plain": [
       "array([0., 2., 1., 1., 1., 0., 2., 2., 2., 2., 2., 2., 2., 2.],\n",
       "      dtype=float32)"
      ]
     },
     "execution_count": 37,
     "metadata": {},
     "output_type": "execute_result"
    }
   ],
   "source": [
    "xgpredict = xgb.DMatrix(predict_dataset_df[x_columns])\n",
    "\n",
    "official_preds = model.predict(xgpredict, ntree_limit=model.best_iteration)\n",
    "official_preds"
   ]
  },
  {
   "cell_type": "code",
   "execution_count": 38,
   "metadata": {},
   "outputs": [
    {
     "data": {
      "text/html": [
       "<div>\n",
       "<style scoped>\n",
       "    .dataframe tbody tr th:only-of-type {\n",
       "        vertical-align: middle;\n",
       "    }\n",
       "\n",
       "    .dataframe tbody tr th {\n",
       "        vertical-align: top;\n",
       "    }\n",
       "\n",
       "    .dataframe thead th {\n",
       "        text-align: right;\n",
       "    }\n",
       "</style>\n",
       "<table border=\"1\" class=\"dataframe\">\n",
       "  <thead>\n",
       "    <tr style=\"text-align: right;\">\n",
       "      <th></th>\n",
       "      <th>matchid</th>\n",
       "      <th>home_team</th>\n",
       "      <th>visit_team</th>\n",
       "      <th>game</th>\n",
       "      <th>win_bet_return</th>\n",
       "      <th>draw_bet_return</th>\n",
       "      <th>lose_bet_return</th>\n",
       "      <th>pred</th>\n",
       "    </tr>\n",
       "  </thead>\n",
       "  <tbody>\n",
       "    <tr>\n",
       "      <th>0</th>\n",
       "      <td>2554813</td>\n",
       "      <td>热刺</td>\n",
       "      <td>阿贾克斯</td>\n",
       "      <td>欧冠</td>\n",
       "      <td>2.49</td>\n",
       "      <td>3.37</td>\n",
       "      <td>2.88</td>\n",
       "      <td>0.0</td>\n",
       "    </tr>\n",
       "    <tr>\n",
       "      <th>1</th>\n",
       "      <td>2554826</td>\n",
       "      <td>巴萨</td>\n",
       "      <td>利物浦</td>\n",
       "      <td>欧冠</td>\n",
       "      <td>1.84</td>\n",
       "      <td>3.80</td>\n",
       "      <td>4.15</td>\n",
       "      <td>2.0</td>\n",
       "    </tr>\n",
       "    <tr>\n",
       "      <th>2</th>\n",
       "      <td>2555117</td>\n",
       "      <td>阿森纳</td>\n",
       "      <td>巴伦西亚</td>\n",
       "      <td>欧罗巴</td>\n",
       "      <td>1.94</td>\n",
       "      <td>3.50</td>\n",
       "      <td>3.98</td>\n",
       "      <td>1.0</td>\n",
       "    </tr>\n",
       "    <tr>\n",
       "      <th>3</th>\n",
       "      <td>2555096</td>\n",
       "      <td>法兰克福</td>\n",
       "      <td>切尔西</td>\n",
       "      <td>欧罗巴</td>\n",
       "      <td>2.74</td>\n",
       "      <td>3.32</td>\n",
       "      <td>2.58</td>\n",
       "      <td>1.0</td>\n",
       "    </tr>\n",
       "    <tr>\n",
       "      <th>4</th>\n",
       "      <td>2411095</td>\n",
       "      <td>米尔沃尔</td>\n",
       "      <td>布城</td>\n",
       "      <td>英冠</td>\n",
       "      <td>3.28</td>\n",
       "      <td>3.41</td>\n",
       "      <td>2.13</td>\n",
       "      <td>1.0</td>\n",
       "    </tr>\n",
       "    <tr>\n",
       "      <th>5</th>\n",
       "      <td>2411100</td>\n",
       "      <td>斯旺西</td>\n",
       "      <td>德比郡</td>\n",
       "      <td>英冠</td>\n",
       "      <td>2.92</td>\n",
       "      <td>3.52</td>\n",
       "      <td>2.32</td>\n",
       "      <td>0.0</td>\n",
       "    </tr>\n",
       "    <tr>\n",
       "      <th>6</th>\n",
       "      <td>2402946</td>\n",
       "      <td>蒙彼利埃</td>\n",
       "      <td>巴黎圣曼</td>\n",
       "      <td>法甲</td>\n",
       "      <td>3.65</td>\n",
       "      <td>3.72</td>\n",
       "      <td>1.95</td>\n",
       "      <td>2.0</td>\n",
       "    </tr>\n",
       "    <tr>\n",
       "      <th>7</th>\n",
       "      <td>2402948</td>\n",
       "      <td>雷恩</td>\n",
       "      <td>摩纳哥</td>\n",
       "      <td>法甲</td>\n",
       "      <td>3.01</td>\n",
       "      <td>3.43</td>\n",
       "      <td>2.30</td>\n",
       "      <td>2.0</td>\n",
       "    </tr>\n",
       "    <tr>\n",
       "      <th>8</th>\n",
       "      <td>2529128</td>\n",
       "      <td>科林蒂安</td>\n",
       "      <td>沙佩科</td>\n",
       "      <td>巴甲</td>\n",
       "      <td>1.55</td>\n",
       "      <td>3.61</td>\n",
       "      <td>6.49</td>\n",
       "      <td>2.0</td>\n",
       "    </tr>\n",
       "    <tr>\n",
       "      <th>9</th>\n",
       "      <td>2529126</td>\n",
       "      <td>巴西国际</td>\n",
       "      <td>弗拉门戈</td>\n",
       "      <td>巴甲</td>\n",
       "      <td>2.23</td>\n",
       "      <td>3.13</td>\n",
       "      <td>3.19</td>\n",
       "      <td>2.0</td>\n",
       "    </tr>\n",
       "    <tr>\n",
       "      <th>10</th>\n",
       "      <td>2529124</td>\n",
       "      <td>阿瓦伊</td>\n",
       "      <td>格雷米奥</td>\n",
       "      <td>巴甲</td>\n",
       "      <td>3.67</td>\n",
       "      <td>3.22</td>\n",
       "      <td>2.00</td>\n",
       "      <td>2.0</td>\n",
       "    </tr>\n",
       "    <tr>\n",
       "      <th>11</th>\n",
       "      <td>2529132</td>\n",
       "      <td>克鲁塞罗</td>\n",
       "      <td>塞阿拉</td>\n",
       "      <td>巴甲</td>\n",
       "      <td>1.51</td>\n",
       "      <td>3.71</td>\n",
       "      <td>6.53</td>\n",
       "      <td>2.0</td>\n",
       "    </tr>\n",
       "    <tr>\n",
       "      <th>12</th>\n",
       "      <td>2529130</td>\n",
       "      <td>达伽马</td>\n",
       "      <td>米竞技</td>\n",
       "      <td>巴甲</td>\n",
       "      <td>2.21</td>\n",
       "      <td>3.17</td>\n",
       "      <td>3.24</td>\n",
       "      <td>2.0</td>\n",
       "    </tr>\n",
       "    <tr>\n",
       "      <th>13</th>\n",
       "      <td>2529127</td>\n",
       "      <td>戈亚斯</td>\n",
       "      <td>圣保罗</td>\n",
       "      <td>巴甲</td>\n",
       "      <td>3.30</td>\n",
       "      <td>3.18</td>\n",
       "      <td>2.19</td>\n",
       "      <td>2.0</td>\n",
       "    </tr>\n",
       "  </tbody>\n",
       "</table>\n",
       "</div>"
      ],
      "text/plain": [
       "    matchid home_team visit_team game  win_bet_return  draw_bet_return  \\\n",
       "0   2554813        热刺       阿贾克斯   欧冠            2.49             3.37   \n",
       "1   2554826        巴萨        利物浦   欧冠            1.84             3.80   \n",
       "2   2555117       阿森纳       巴伦西亚  欧罗巴            1.94             3.50   \n",
       "3   2555096      法兰克福        切尔西  欧罗巴            2.74             3.32   \n",
       "4   2411095      米尔沃尔         布城   英冠            3.28             3.41   \n",
       "5   2411100       斯旺西        德比郡   英冠            2.92             3.52   \n",
       "6   2402946      蒙彼利埃       巴黎圣曼   法甲            3.65             3.72   \n",
       "7   2402948        雷恩        摩纳哥   法甲            3.01             3.43   \n",
       "8   2529128      科林蒂安        沙佩科   巴甲            1.55             3.61   \n",
       "9   2529126      巴西国际       弗拉门戈   巴甲            2.23             3.13   \n",
       "10  2529124       阿瓦伊       格雷米奥   巴甲            3.67             3.22   \n",
       "11  2529132      克鲁塞罗        塞阿拉   巴甲            1.51             3.71   \n",
       "12  2529130       达伽马        米竞技   巴甲            2.21             3.17   \n",
       "13  2529127       戈亚斯        圣保罗   巴甲            3.30             3.18   \n",
       "\n",
       "    lose_bet_return  pred  \n",
       "0              2.88   0.0  \n",
       "1              4.15   2.0  \n",
       "2              3.98   1.0  \n",
       "3              2.58   1.0  \n",
       "4              2.13   1.0  \n",
       "5              2.32   0.0  \n",
       "6              1.95   2.0  \n",
       "7              2.30   2.0  \n",
       "8              6.49   2.0  \n",
       "9              3.19   2.0  \n",
       "10             2.00   2.0  \n",
       "11             6.53   2.0  \n",
       "12             3.24   2.0  \n",
       "13             2.19   2.0  "
      ]
     },
     "execution_count": 38,
     "metadata": {},
     "output_type": "execute_result"
    }
   ],
   "source": [
    "pd.DataFrame({\n",
    "    \"matchid\": predict_dataset_df.matchid, \n",
    "    \"home_team\": predict_dataset_df.home_team, \n",
    "    \"visit_team\": predict_dataset_df.visit_team, \n",
    "    \"game\": predict_dataset_df.game, \n",
    "    \"win_bet_return\":predict_dataset_df.win_bet_return,\n",
    "    \"draw_bet_return\":predict_dataset_df.draw_bet_return,\n",
    "    \"lose_bet_return\":predict_dataset_df.lose_bet_return,\n",
    "    \"pred\": official_preds\n",
    "})"
   ]
  },
  {
   "cell_type": "code",
   "execution_count": null,
   "metadata": {},
   "outputs": [],
   "source": []
  }
 ],
 "metadata": {
  "kernelspec": {
   "display_name": "Python 3",
   "language": "python",
   "name": "python3"
  },
  "language_info": {
   "codemirror_mode": {
    "name": "ipython",
    "version": 3
   },
   "file_extension": ".py",
   "mimetype": "text/x-python",
   "name": "python",
   "nbconvert_exporter": "python",
   "pygments_lexer": "ipython3",
   "version": "3.6.7"
  }
 },
 "nbformat": 4,
 "nbformat_minor": 2
}
