{
 "cells": [
  {
   "cell_type": "code",
   "execution_count": 1,
   "metadata": {},
   "outputs": [],
   "source": [
    "import pymysql.cursors\n",
    "import pandas as pd\n",
    "from sklearn import preprocessing"
   ]
  },
  {
   "cell_type": "markdown",
   "metadata": {},
   "source": [
    "# 训练"
   ]
  },
  {
   "cell_type": "markdown",
   "metadata": {},
   "source": [
    "## 获取全量的竞彩比赛列表"
   ]
  },
  {
   "cell_type": "code",
   "execution_count": 2,
   "metadata": {},
   "outputs": [],
   "source": [
    "connection = pymysql.connect(host='localhost', user='root', password='breadt@2019', db='breadt-football-ml', charset='utf8mb4', cursorclass=pymysql.cursors.DictCursor)\n",
    "with connection.cursor() as cursor:\n",
    "    sql = 'select * from `breadt_football_game_list`;'\n",
    "    cursor.execute(sql)\n",
    "    rows = cursor.fetchall()\n",
    "    \n",
    "    train_game_list_df = pd.DataFrame(rows)\n",
    "    \n",
    "    connection.close()"
   ]
  },
  {
   "cell_type": "markdown",
   "metadata": {},
   "source": [
    "## 获取全量的胜负彩比赛列表"
   ]
  },
  {
   "cell_type": "code",
   "execution_count": 3,
   "metadata": {},
   "outputs": [],
   "source": [
    "connection = pymysql.connect(host='localhost', user='root', password='breadt@2019', db='breadt-football-ml', charset='utf8mb4', cursorclass=pymysql.cursors.DictCursor)\n",
    "with connection.cursor() as cursor:\n",
    "    sql = 'select * from `breadt_lottery_info`;'\n",
    "    cursor.execute(sql)\n",
    "    rows = cursor.fetchall()\n",
    "    \n",
    "    train_lottery_game_list_df = pd.DataFrame(rows)\n",
    "    \n",
    "    connection.close()"
   ]
  },
  {
   "cell_type": "markdown",
   "metadata": {},
   "source": [
    "## 合并竞彩比赛列表和胜负彩比赛列表"
   ]
  },
  {
   "cell_type": "code",
   "execution_count": 4,
   "metadata": {},
   "outputs": [],
   "source": [
    "tmp = train_lottery_game_list_df.drop(['issue'], axis=1)\n",
    "df = pd.concat([train_game_list_df, tmp])\n",
    "df = df[['matchid', 'game', 'home_team', 'visit_team', 'gs', 'gd', 'gn', 'time', 'result', 'win_bet_return', 'draw_bet_return', 'lose_bet_return']]\n",
    "df = df.drop_duplicates(subset=['matchid'])"
   ]
  },
  {
   "cell_type": "markdown",
   "metadata": {},
   "source": [
    "## **设定训练范围** 并处理数据"
   ]
  },
  {
   "cell_type": "code",
   "execution_count": 5,
   "metadata": {},
   "outputs": [],
   "source": [
    "# match_group = ['澳超', '英超', '德甲', '德乙', '法甲', '西甲', '意甲', '日职', '英甲', '英冠', '苏超', '法乙', '葡超', '荷甲', '荷乙', '韩K联', '瑞典超', '挪超', '美职', '日乙', '俄超', '比甲', '瑞典甲', '法丙', '挪甲', '英乙', '苏冠', '巴甲', '智利甲', '墨超', '智利乙', '阿甲', '欧冠', '欧罗巴']\n",
    "match_group = ['澳超', '英超', '德甲', '德乙', '法甲', '西甲', '意甲', '日职', '英甲', '英冠', '苏超', '法乙', '葡超', '荷甲', '荷乙', '韩K联', '瑞典超', '挪超', '美职', '日乙', '俄超', '比甲', '瑞典甲', '法丙', '挪甲', '英乙', '苏冠', '巴甲', '智利甲', '墨超', '智利乙', '阿甲']\n",
    "match_df = df[(df['game'].isin(match_group))]\n",
    "match_df = match_df.dropna()"
   ]
  },
  {
   "cell_type": "code",
   "execution_count": 6,
   "metadata": {},
   "outputs": [
    {
     "data": {
      "text/plain": [
       "LabelEncoder()"
      ]
     },
     "execution_count": 6,
     "metadata": {},
     "output_type": "execute_result"
    }
   ],
   "source": [
    "# 对team做encode 这个encoder后面预测的时候还会用到\n",
    "teams = list(set(df['home_team'].values) | set(df['visit_team'].values))\n",
    "team_encoder = preprocessing.LabelEncoder()\n",
    "team_encoder.fit(teams)"
   ]
  },
  {
   "cell_type": "code",
   "execution_count": 7,
   "metadata": {},
   "outputs": [],
   "source": [
    "def encode_team(df):\n",
    "    df['home_team_encoder'] = team_encoder.transform(df['home_team'])\n",
    "    df['visit_team_encoder'] = team_encoder.transform(df['visit_team'])\n",
    "    return df"
   ]
  },
  {
   "cell_type": "code",
   "execution_count": 8,
   "metadata": {},
   "outputs": [
    {
     "data": {
      "text/plain": [
       "LabelEncoder()"
      ]
     },
     "execution_count": 8,
     "metadata": {},
     "output_type": "execute_result"
    }
   ],
   "source": [
    "# 比赛名称encode\n",
    "games = list(set(match_df['game'].values))\n",
    "game_encoder = preprocessing.LabelEncoder()\n",
    "game_encoder.fit(games)"
   ]
  },
  {
   "cell_type": "code",
   "execution_count": 9,
   "metadata": {},
   "outputs": [],
   "source": [
    "def encode_game(df):\n",
    "    df['game_encoder'] = game_encoder.transform(df['game'])\n",
    "    return df"
   ]
  },
  {
   "cell_type": "code",
   "execution_count": 10,
   "metadata": {},
   "outputs": [],
   "source": [
    "match_df['year'] = match_df.apply(lambda row: row.time.year, axis=1)\n",
    "match_df['month'] = match_df.apply(lambda row: row.time.month, axis=1)\n",
    "match_df['day'] = match_df.apply(lambda row: row.time.day, axis=1)\n",
    "match_df['fix_result'] = match_df.apply(lambda row: int(row.result) if row.result < 3 else 2, axis=1)"
   ]
  },
  {
   "cell_type": "code",
   "execution_count": 11,
   "metadata": {},
   "outputs": [],
   "source": [
    "match_df = encode_team(match_df)\n",
    "match_df = encode_game(match_df)"
   ]
  },
  {
   "cell_type": "code",
   "execution_count": 12,
   "metadata": {},
   "outputs": [
    {
     "name": "stdout",
     "output_type": "stream",
     "text": [
      "<class 'pandas.core.frame.DataFrame'>\n",
      "Int64Index: 43364 entries, 1 to 12593\n",
      "Data columns (total 19 columns):\n",
      "matchid               43364 non-null int64\n",
      "game                  43364 non-null object\n",
      "home_team             43364 non-null object\n",
      "visit_team            43364 non-null object\n",
      "gs                    43364 non-null int64\n",
      "gd                    43364 non-null int64\n",
      "gn                    43364 non-null int64\n",
      "time                  43364 non-null datetime64[ns]\n",
      "result                43364 non-null int64\n",
      "win_bet_return        43364 non-null float64\n",
      "draw_bet_return       43364 non-null float64\n",
      "lose_bet_return       43364 non-null float64\n",
      "year                  43364 non-null int64\n",
      "month                 43364 non-null int64\n",
      "day                   43364 non-null int64\n",
      "fix_result            43364 non-null int64\n",
      "home_team_encoder     43364 non-null int64\n",
      "visit_team_encoder    43364 non-null int64\n",
      "game_encoder          43364 non-null int64\n",
      "dtypes: datetime64[ns](1), float64(3), int64(12), object(3)\n",
      "memory usage: 6.6+ MB\n"
     ]
    }
   ],
   "source": [
    "match_df.info()"
   ]
  },
  {
   "cell_type": "markdown",
   "metadata": {},
   "source": [
    "## 获取特征数据"
   ]
  },
  {
   "cell_type": "code",
   "execution_count": 13,
   "metadata": {},
   "outputs": [],
   "source": [
    "connection = pymysql.connect(host='localhost', user='root', password='breadt@2019', db='breadt-football-ml', charset='utf8mb4', cursorclass=pymysql.cursors.DictCursor)\n",
    "with connection.cursor() as cursor:\n",
    "    sql = 'select * from `breadt_football_feature_info`;'\n",
    "    cursor.execute(sql)\n",
    "    rows = cursor.fetchall()\n",
    "    \n",
    "    train_feature_df = pd.DataFrame(rows)\n",
    "    \n",
    "    connection.close()"
   ]
  },
  {
   "cell_type": "markdown",
   "metadata": {},
   "source": [
    "## 处理特征数据"
   ]
  },
  {
   "cell_type": "code",
   "execution_count": 14,
   "metadata": {},
   "outputs": [],
   "source": [
    "def get_count(col):\n",
    "    arr = col.split(' ')\n",
    "    if len(arr) == 2:\n",
    "        return int(arr[1])\n",
    "    \n",
    "    return int(arr[0])"
   ]
  },
  {
   "cell_type": "code",
   "execution_count": 15,
   "metadata": {},
   "outputs": [],
   "source": [
    "def get_count_rate(col, all_count):\n",
    "    arr = col.split(' ')\n",
    "    if len(arr) == 2:\n",
    "        return int(arr[1]) / int(all_count)\n",
    "    \n",
    "    return int(arr[0])  / int(all_count)"
   ]
  },
  {
   "cell_type": "code",
   "execution_count": 16,
   "metadata": {},
   "outputs": [],
   "source": [
    "def get_current_score(words, score, pos):\n",
    "    t = score.replace(words, '')\n",
    "    t = t.replace('胜', '')\n",
    "    t = t.replace('平', '')\n",
    "    t = t.replace('负', '')\n",
    "    t = t.replace('分', '')\n",
    "    \n",
    "    arr = t.split('  ')\n",
    "    \n",
    "    if len(arr) == 3 and len(arr[2].split(' ')) == 2:\n",
    "        arr = [arr[0], arr[1]] + arr[2].split(' ')\n",
    "    \n",
    "    if len(arr) != 4:\n",
    "        return None\n",
    "    \n",
    "    if arr[pos] != '':\n",
    "        return int(arr[pos])\n",
    "    else:\n",
    "        return None"
   ]
  },
  {
   "cell_type": "code",
   "execution_count": 17,
   "metadata": {},
   "outputs": [],
   "source": [
    "h_cols = ['h_perf_win', 'h_perf_draw', 'h_perf_lose', 'h_host_win', 'h_host_draw', 'h_host_lose', 'h_battle_with_front_10_win', 'h_battle_with_front_10_draw', 'h_battle_with_front_10_lose', 'h_battle_with_end_10_win', 'h_battle_with_end_10_draw', 'h_battle_with_end_10_lose']\n",
    "v_cols =['v_perf_win', 'v_perf_draw', 'v_perf_lose', 'v_host_win', 'v_host_draw', 'v_host_lose', 'v_battle_with_front_10_win', 'v_battle_with_front_10_draw', 'v_battle_with_front_10_lose', 'v_battle_with_end_10_win', 'v_battle_with_end_10_draw', 'v_battle_with_end_10_lose']"
   ]
  },
  {
   "cell_type": "code",
   "execution_count": 18,
   "metadata": {},
   "outputs": [],
   "source": [
    "def take_count(df):\n",
    "    cols = h_cols + v_cols\n",
    "    for v in cols:\n",
    "        df[v + '_count'] = df.apply(lambda row: get_count(row[v]), axis=1)\n",
    "    \n",
    "    df['h_count'] = df['h_perf_win_count'] + df['h_perf_draw_count'] + df['h_perf_lose_count']\n",
    "    df['v_count'] = df['v_perf_win_count'] + df['v_perf_draw_count'] + df['v_perf_lose_count']\n",
    "    \n",
    "    return df"
   ]
  },
  {
   "cell_type": "code",
   "execution_count": 19,
   "metadata": {},
   "outputs": [],
   "source": [
    "def take_rate(df):\n",
    "    for v in h_cols:\n",
    "        df[v + '_count_rate'] = df.apply(lambda row: get_count_rate(row[v], row.h_count), axis=1)\n",
    "\n",
    "    for v in v_cols:\n",
    "        df[v + '_count_rate'] = df.apply(lambda row: get_count_rate(row[v], row.v_count), axis=1)\n",
    "        \n",
    "    return df"
   ]
  },
  {
   "cell_type": "code",
   "execution_count": 20,
   "metadata": {},
   "outputs": [],
   "source": [
    "def take_score(df):\n",
    "    h_items = ['h_current_win_count', 'h_current_draw_count', 'h_current_lose_count']\n",
    "    for k, v in enumerate(h_items):\n",
    "        df[v] = df.apply(lambda row: get_current_score('主队：', row.h_score, k), axis=1)\n",
    "    \n",
    "    df['h_all_count'] = df['h_current_win_count'] + df['h_current_draw_count'] + df['h_current_lose_count']\n",
    "    \n",
    "    for v in h_items:\n",
    "        df[v + '_rate'] = df[v] / df['h_all_count']\n",
    "        \n",
    "    df['h_current_score'] = df.apply(lambda row: get_current_score('主队：', row.h_score, 3), axis=1)\n",
    "    \n",
    "    ###########################################################################################\n",
    "    v_items = ['v_current_win_count', 'v_current_draw_count', 'v_current_lose_count']\n",
    "    for k, v in enumerate(v_items):\n",
    "        df[v] = df.apply(lambda row: get_current_score('客队：', row.v_score, k), axis=1)\n",
    "    \n",
    "    df['v_all_count'] = df['v_current_win_count'] + df['v_current_draw_count'] + df['v_current_lose_count']\n",
    "    \n",
    "    for v in v_items:\n",
    "        df[v + '_rate'] = df[v] / df['v_all_count']\n",
    "        \n",
    "    df['v_current_score'] = df.apply(lambda row: get_current_score('客队：', row.v_score, 3), axis=1)\n",
    "    \n",
    "    return df"
   ]
  },
  {
   "cell_type": "code",
   "execution_count": 21,
   "metadata": {},
   "outputs": [],
   "source": [
    "def get_current_rank(rank):\n",
    "    arr = rank.split('  ')\n",
    "    \n",
    "    if len(arr) == 2:\n",
    "        rank_str = arr[1].replace('本赛季排名：', '')\n",
    "        if rank_str != '':\n",
    "            return int(rank_str)\n",
    "    \n",
    "    return None"
   ]
  },
  {
   "cell_type": "code",
   "execution_count": 22,
   "metadata": {},
   "outputs": [],
   "source": [
    "def take_goal_info(prefix, df):\n",
    "    target_cols = ['_perf_gs', '_perf_gd', '_perf_avg_gs', '_perf_avg_gd',\n",
    "    '_host_gs', '_host_gd', '_host_avg_gs', '_host_avg_gd',\n",
    "    '_r3_gs', '_r3_gd', '_r3_avg_gs', '_r3_avg_gd',\n",
    "    '_perf_bet_high', '_perf_bet_low', '_host_bet_high',\n",
    "    '_host_bet_low', '_host_0_1_goal', '_host_2_3_goal',\n",
    "    '_host_ab_4_goal', '_host_0_goal', '_host_1_goal',\n",
    "    '_host_2_goal', '_host_3_goal', '_host_4_goal', '_host_5_goal',\n",
    "    '_host_6_goal', '_host_7_goal']\n",
    "\n",
    "    for k in target_cols:\n",
    "        df[prefix + k + '_rate'] = df[prefix + k] / df[prefix + '_count']\n",
    "    \n",
    "    return df"
   ]
  },
  {
   "cell_type": "markdown",
   "metadata": {},
   "source": [
    "后面对于预测数据可以复用"
   ]
  },
  {
   "cell_type": "code",
   "execution_count": 23,
   "metadata": {},
   "outputs": [],
   "source": [
    "train_feature_df = take_count(train_feature_df)\n",
    "train_feature_df = take_rate(train_feature_df)\n",
    "train_feature_df = take_score(train_feature_df)\n",
    "\n",
    "train_feature_df['h_current_rank'] = train_feature_df.apply(lambda row: get_current_rank(row.h_rank), axis=1)\n",
    "train_feature_df['v_current_rank'] = train_feature_df.apply(lambda row: get_current_rank(row.v_rank), axis=1)\n",
    "\n",
    "train_feature_df = take_goal_info('h', train_feature_df)\n",
    "train_feature_df = take_goal_info('v', train_feature_df)"
   ]
  },
  {
   "cell_type": "markdown",
   "metadata": {},
   "source": [
    "## 合并训练数据"
   ]
  },
  {
   "cell_type": "code",
   "execution_count": 24,
   "metadata": {},
   "outputs": [
    {
     "name": "stdout",
     "output_type": "stream",
     "text": [
      "<class 'pandas.core.frame.DataFrame'>\n",
      "Int64Index: 39349 entries, 0 to 43368\n",
      "Columns: 224 entries, matchid to v_host_7_goal_rate\n",
      "dtypes: datetime64[ns](1), float64(111), int64(81), object(31)\n",
      "memory usage: 67.5+ MB\n"
     ]
    }
   ],
   "source": [
    "train_dataset_df = pd.merge(match_df, train_feature_df, on='matchid', how='left')\n",
    "train_dataset_df = train_dataset_df.dropna()\n",
    "train_dataset_df.info()"
   ]
  },
  {
   "cell_type": "markdown",
   "metadata": {},
   "source": [
    "## xgb训练"
   ]
  },
  {
   "cell_type": "code",
   "execution_count": 25,
   "metadata": {},
   "outputs": [],
   "source": [
    "x_columns = [\n",
    "    'year', \n",
    "    'month', \n",
    "    'win_bet_return', 'draw_bet_return','lose_bet_return', 'home_team_encoder', 'visit_team_encoder', 'game_encoder', \n",
    "    \n",
    "    'h_perf_gs', 'h_perf_gd', 'h_perf_avg_gs', 'h_perf_avg_gd',\n",
    "    'h_host_gs', 'h_host_gd', 'h_host_avg_gs', 'h_host_avg_gd',\n",
    "    'h_r3_gs', 'h_r3_gd', 'h_r3_avg_gs', 'h_r3_avg_gd',\n",
    "    'h_perf_bet_high', 'h_perf_bet_low', 'h_host_bet_high',\n",
    "    'h_host_bet_low', 'h_host_0_1_goal', 'h_host_2_3_goal',\n",
    "    'h_host_ab_4_goal', 'h_host_0_goal', 'h_host_1_goal',\n",
    "    'h_host_2_goal', 'h_host_3_goal', 'h_host_4_goal', 'h_host_5_goal',\n",
    "    'h_host_6_goal', 'h_host_7_goal', \n",
    "    \n",
    "    'h_perf_gs_rate', 'h_perf_gd_rate', 'h_perf_avg_gs_rate', 'h_perf_avg_gd_rate',\n",
    "    'h_host_gs_rate', 'h_host_gd_rate', 'h_host_avg_gs_rate', 'h_host_avg_gd_rate',\n",
    "    'h_r3_gs_rate', 'h_r3_gd_rate', 'h_r3_avg_gs_rate', 'h_r3_avg_gd_rate',\n",
    "    'h_perf_bet_high_rate', 'h_perf_bet_low_rate', 'h_host_bet_high_rate',\n",
    "    'h_host_bet_low_rate', 'h_host_0_1_goal_rate', 'h_host_2_3_goal_rate',\n",
    "    'h_host_ab_4_goal_rate', 'h_host_0_goal_rate', 'h_host_1_goal_rate',\n",
    "    'h_host_2_goal_rate', 'h_host_3_goal_rate', 'h_host_4_goal_rate', 'h_host_5_goal_rate',\n",
    "    'h_host_6_goal_rate', 'h_host_7_goal_rate', \n",
    "    \n",
    "    'v_perf_gs', 'v_perf_gd',\n",
    "    'v_perf_avg_gs', 'v_perf_avg_gd', 'v_host_gs', 'v_host_gd',\n",
    "    'v_host_avg_gs', 'v_host_avg_gd', 'v_r3_gs', 'v_r3_gd',\n",
    "    'v_r3_avg_gs', 'v_r3_avg_gd', 'v_perf_bet_high', 'v_perf_bet_low',\n",
    "    'v_host_bet_high', 'v_host_bet_low', 'v_host_0_1_goal',\n",
    "    'v_host_2_3_goal', 'v_host_ab_4_goal', 'v_host_0_goal',\n",
    "    'v_host_1_goal', 'v_host_2_goal', 'v_host_3_goal', 'v_host_4_goal',\n",
    "    'v_host_5_goal', 'v_host_6_goal', 'v_host_7_goal',\n",
    "    \n",
    "    'v_perf_gs_rate', 'v_perf_gd_rate',\n",
    "    'v_perf_avg_gs_rate', 'v_perf_avg_gd_rate', 'v_host_gs_rate', 'v_host_gd_rate',\n",
    "    'v_host_avg_gs_rate', 'v_host_avg_gd_rate', 'v_r3_gs_rate', 'v_r3_gd_rate',\n",
    "    'v_r3_avg_gs_rate', 'v_r3_avg_gd_rate', 'v_perf_bet_high_rate', 'v_perf_bet_low_rate',\n",
    "    'v_host_bet_high_rate', 'v_host_bet_low_rate', 'v_host_0_1_goal_rate',\n",
    "    'v_host_2_3_goal_rate', 'v_host_ab_4_goal_rate', 'v_host_0_goal_rate',\n",
    "    'v_host_1_goal_rate', 'v_host_2_goal_rate', 'v_host_3_goal_rate', 'v_host_4_goal_rate',\n",
    "    'v_host_5_goal_rate', 'v_host_6_goal_rate', 'v_host_7_goal_rate',\n",
    "\n",
    "    'h_perf_win_count', 'h_perf_draw_count', 'h_perf_lose_count',\n",
    "    'h_host_win_count', 'h_host_draw_count', 'h_host_lose_count',\n",
    "    'h_battle_with_front_10_win_count',\n",
    "    'h_battle_with_front_10_draw_count',\n",
    "    'h_battle_with_front_10_lose_count',\n",
    "    'h_battle_with_end_10_win_count',\n",
    "    'h_battle_with_end_10_draw_count',\n",
    "    'h_battle_with_end_10_lose_count', 'v_perf_win_count',\n",
    "    'v_perf_draw_count', 'v_perf_lose_count', 'v_host_win_count',\n",
    "    'v_host_draw_count', 'v_host_lose_count',\n",
    "    'v_battle_with_front_10_win_count',\n",
    "    'v_battle_with_front_10_draw_count',\n",
    "    'v_battle_with_front_10_lose_count',\n",
    "    'v_battle_with_end_10_win_count',\n",
    "    'v_battle_with_end_10_draw_count',\n",
    "    'v_battle_with_end_10_lose_count',\n",
    "    \n",
    "    'h_perf_win_count_rate', 'h_perf_draw_count_rate', 'h_perf_lose_count_rate',\n",
    "    'h_host_win_count_rate', 'h_host_draw_count_rate', 'h_host_lose_count_rate',\n",
    "    'h_battle_with_front_10_win_count_rate',\n",
    "    'h_battle_with_front_10_draw_count_rate',\n",
    "    'h_battle_with_front_10_lose_count_rate',\n",
    "    'h_battle_with_end_10_win_count_rate',\n",
    "    'h_battle_with_end_10_draw_count_rate',\n",
    "    'h_battle_with_end_10_lose_count_rate', 'v_perf_win_count_rate',\n",
    "    'v_perf_draw_count_rate', 'v_perf_lose_count_rate', 'v_host_win_count_rate',\n",
    "    'v_host_draw_count_rate', 'v_host_lose_count_rate',\n",
    "    'v_battle_with_front_10_win_count_rate',\n",
    "    'v_battle_with_front_10_draw_count_rate',\n",
    "    'v_battle_with_front_10_lose_count_rate',\n",
    "    'v_battle_with_end_10_win_count_rate',\n",
    "    'v_battle_with_end_10_draw_count_rate',\n",
    "    'v_battle_with_end_10_lose_count_rate',\n",
    "    \n",
    "    'h_count', 'h_all_count',\n",
    "    'v_count', 'v_all_count',\n",
    "    \n",
    "    'h_current_win_count',\n",
    "    'h_current_draw_count', 'h_current_lose_count', \n",
    "    'h_current_win_count_rate',\n",
    "    'h_current_draw_count_rate', 'h_current_lose_count_rate', \n",
    "    \n",
    "    'h_current_score',\n",
    "    'v_current_win_count', 'v_current_draw_count',\n",
    "    'v_current_lose_count', \n",
    "    \n",
    "    'v_current_win_count_rate', 'v_current_draw_count_rate',\n",
    "    'v_current_lose_count_rate',\n",
    "    \n",
    "    'v_current_score',\n",
    "    'h_current_rank', 'v_current_rank']"
   ]
  },
  {
   "cell_type": "code",
   "execution_count": 26,
   "metadata": {},
   "outputs": [
    {
     "name": "stderr",
     "output_type": "stream",
     "text": [
      "/home/leewind/.local/lib/python3.6/site-packages/xgboost/core.py:587: FutureWarning: Series.base is deprecated and will be removed in a future version\n",
      "  if getattr(data, 'base', None) is not None and \\\n",
      "/home/leewind/.local/lib/python3.6/site-packages/xgboost/core.py:588: FutureWarning: Series.base is deprecated and will be removed in a future version\n",
      "  data.base is not None and isinstance(data, np.ndarray) \\\n"
     ]
    }
   ],
   "source": [
    "import xgboost as xgb\n",
    "\n",
    "train_dataset = train_dataset_df[train_dataset_df['time'] < '2019-03-01']\n",
    "valid_dataset = train_dataset_df[train_dataset_df['time'] >= '2019-03-01']\n",
    "test_dataset = train_dataset_df[train_dataset_df['time'] >= '2019-05-01']\n",
    "\n",
    "xgtrain = xgb.DMatrix(train_dataset[x_columns], label=train_dataset['fix_result'])\n",
    "xgtest = xgb.DMatrix(test_dataset[x_columns], label=test_dataset['fix_result'])\n",
    "xgvalid = xgb.DMatrix(valid_dataset[x_columns], label=valid_dataset['fix_result'])\n",
    "\n",
    "watchlist = [(xgtrain, 'train'),(xgvalid, 'val')]\n",
    "\n",
    "# num_rounds = 10000\n",
    "# stop_rounds = 100"
   ]
  },
  {
   "cell_type": "code",
   "execution_count": 27,
   "metadata": {},
   "outputs": [
    {
     "name": "stdout",
     "output_type": "stream",
     "text": [
      "[1687]\ttrain-merror:0.033255\tval-merror:0.206993\n",
      "[1688]\ttrain-merror:0.03315\tval-merror:0.207692\n",
      "[1689]\ttrain-merror:0.033044\tval-merror:0.207692\n",
      "[1690]\ttrain-merror:0.033097\tval-merror:0.207692\n",
      "[1691]\ttrain-merror:0.032991\tval-merror:0.207692\n",
      "[1692]\ttrain-merror:0.03286\tval-merror:0.208392\n",
      "[1693]\ttrain-merror:0.032833\tval-merror:0.209091\n",
      "[1694]\ttrain-merror:0.032807\tval-merror:0.20979\n",
      "[1695]\ttrain-merror:0.03278\tval-merror:0.20979\n",
      "[1696]\ttrain-merror:0.032728\tval-merror:0.20979\n",
      "[1697]\ttrain-merror:0.03249\tval-merror:0.209091\n",
      "[1698]\ttrain-merror:0.032385\tval-merror:0.208392\n",
      "[1699]\ttrain-merror:0.032332\tval-merror:0.209091\n",
      "[1700]\ttrain-merror:0.032174\tval-merror:0.209091\n",
      "[1701]\ttrain-merror:0.032174\tval-merror:0.208392\n",
      "[1702]\ttrain-merror:0.032227\tval-merror:0.209091\n",
      "[1703]\ttrain-merror:0.032068\tval-merror:0.208392\n",
      "[1704]\ttrain-merror:0.032095\tval-merror:0.20979\n",
      "[1705]\ttrain-merror:0.031989\tval-merror:0.208392\n",
      "[1706]\ttrain-merror:0.031936\tval-merror:0.20979\n",
      "[1707]\ttrain-merror:0.031963\tval-merror:0.20979\n",
      "[1708]\ttrain-merror:0.031857\tval-merror:0.20979\n",
      "[1709]\ttrain-merror:0.031884\tval-merror:0.209091\n",
      "[1710]\ttrain-merror:0.031805\tval-merror:0.21049\n",
      "[1711]\ttrain-merror:0.031778\tval-merror:0.20979\n",
      "[1712]\ttrain-merror:0.031726\tval-merror:0.21049\n",
      "[1713]\ttrain-merror:0.031673\tval-merror:0.20979\n",
      "[1714]\ttrain-merror:0.031646\tval-merror:0.209091\n",
      "[1715]\ttrain-merror:0.031646\tval-merror:0.209091\n",
      "[1716]\ttrain-merror:0.03162\tval-merror:0.209091\n",
      "[1717]\ttrain-merror:0.031515\tval-merror:0.209091\n",
      "[1718]\ttrain-merror:0.031488\tval-merror:0.208392\n",
      "[1719]\ttrain-merror:0.031435\tval-merror:0.20979\n",
      "[1720]\ttrain-merror:0.031383\tval-merror:0.20979\n",
      "[1721]\ttrain-merror:0.031383\tval-merror:0.20979\n",
      "[1722]\ttrain-merror:0.031383\tval-merror:0.20979\n",
      "[1723]\ttrain-merror:0.031224\tval-merror:0.20979\n",
      "[1724]\ttrain-merror:0.031119\tval-merror:0.20979\n",
      "[1725]\ttrain-merror:0.031066\tval-merror:0.20979\n",
      "[1726]\ttrain-merror:0.030987\tval-merror:0.21049\n",
      "[1727]\ttrain-merror:0.030961\tval-merror:0.21049\n",
      "[1728]\ttrain-merror:0.030934\tval-merror:0.20979\n",
      "[1729]\ttrain-merror:0.030961\tval-merror:0.21049\n",
      "[1730]\ttrain-merror:0.030882\tval-merror:0.20979\n",
      "[1731]\ttrain-merror:0.030776\tval-merror:0.20979\n",
      "[1732]\ttrain-merror:0.03075\tval-merror:0.20979\n",
      "[1733]\ttrain-merror:0.030644\tval-merror:0.209091\n",
      "[1734]\ttrain-merror:0.030592\tval-merror:0.209091\n",
      "[1735]\ttrain-merror:0.030644\tval-merror:0.208392\n",
      "[1736]\ttrain-merror:0.030565\tval-merror:0.209091\n",
      "[1737]\ttrain-merror:0.030539\tval-merror:0.20979\n",
      "[1738]\ttrain-merror:0.030539\tval-merror:0.20979\n",
      "[1739]\ttrain-merror:0.030433\tval-merror:0.208392\n",
      "[1740]\ttrain-merror:0.030407\tval-merror:0.208392\n",
      "[1741]\ttrain-merror:0.030249\tval-merror:0.207692\n",
      "[1742]\ttrain-merror:0.030222\tval-merror:0.207692\n",
      "[1743]\ttrain-merror:0.030143\tval-merror:0.207692\n",
      "[1744]\ttrain-merror:0.030301\tval-merror:0.208392\n",
      "[1745]\ttrain-merror:0.030222\tval-merror:0.207692\n",
      "[1746]\ttrain-merror:0.030117\tval-merror:0.208392\n",
      "[1747]\ttrain-merror:0.030143\tval-merror:0.209091\n",
      "[1748]\ttrain-merror:0.030117\tval-merror:0.209091\n",
      "[1749]\ttrain-merror:0.029959\tval-merror:0.21049\n",
      "[1750]\ttrain-merror:0.029906\tval-merror:0.209091\n",
      "[1751]\ttrain-merror:0.029748\tval-merror:0.208392\n",
      "[1752]\ttrain-merror:0.029669\tval-merror:0.209091\n",
      "[1753]\ttrain-merror:0.029669\tval-merror:0.209091\n",
      "[1754]\ttrain-merror:0.029563\tval-merror:0.208392\n",
      "[1755]\ttrain-merror:0.02951\tval-merror:0.209091\n",
      "[1756]\ttrain-merror:0.029458\tval-merror:0.209091\n",
      "[1757]\ttrain-merror:0.029405\tval-merror:0.209091\n",
      "[1758]\ttrain-merror:0.029326\tval-merror:0.20979\n",
      "[1759]\ttrain-merror:0.029273\tval-merror:0.209091\n",
      "[1760]\ttrain-merror:0.029247\tval-merror:0.20979\n",
      "[1761]\ttrain-merror:0.029115\tval-merror:0.209091\n",
      "Stopping. Best iteration:\n",
      "[1461]\ttrain-merror:0.050555\tval-merror:0.204196\n",
      "\n",
      "1461\n"
     ]
    },
    {
     "data": {
      "text/plain": [
       "array([2., 1., 2., 1., 0., 0., 1., 2., 0., 2., 2., 2., 2., 2., 2., 2., 2.,\n",
       "       1., 2., 2., 1., 0., 2., 1., 2., 0., 0., 2., 2., 2., 1., 2., 0., 0.,\n",
       "       0., 0., 1., 0., 2., 0., 1., 2.], dtype=float32)"
      ]
     },
     "execution_count": 27,
     "metadata": {},
     "output_type": "execute_result"
    }
   ],
   "source": [
    "params={\n",
    "    'booster':'gbtree',\n",
    "    # 这里手写数字是0-9，是一个多类的问题，因此采用了multisoft多分类器，\n",
    "    'objective': 'multi:softmax', \n",
    "    'num_class':3, # 类数，与 multisoftmax 并用\n",
    "    'gamma':0.1,  # 在树的叶子节点下一个分区的最小损失，越大算法模型越保守 。[0:]\n",
    "    'max_depth':8, # 构建树的深度 [1:]\n",
    "    #'lambda':450,  # L2 正则项权重\n",
    "    'subsample':0.7, # 采样训练数据，设置为0.5，随机选择一般的数据实例 (0:1]\n",
    "    'colsample_bytree':0.7, # 构建树树时的采样比率 (0:1]\n",
    "    #'min_child_weight':12, # 节点的最少特征数\n",
    "    'silent':1 ,\n",
    "    \n",
    "#     这部分需要调整\n",
    "#     'eta': 0.05, # 如同学习率\n",
    "    'eta': 0.01, # 如同学习率\n",
    "    \n",
    "    'seed':710,\n",
    "    'nthread':4,# cpu 线程数,根据自己U的个数适当调整\n",
    "}\n",
    "\n",
    "num_rounds = 10000\n",
    "stop_rounds = 300\n",
    "\n",
    "\n",
    "model = xgb.train(params, xgtrain, num_rounds, watchlist,early_stopping_rounds=stop_rounds)\n",
    "print(model.best_iteration)\n",
    "\n",
    "preds = model.predict(xgtest, ntree_limit=model.best_iteration)\n",
    "preds"
   ]
  },
  {
   "cell_type": "code",
   "execution_count": 28,
   "metadata": {},
   "outputs": [
    {
     "data": {
      "text/plain": [
       "0.42857142857142855"
      ]
     },
     "execution_count": 28,
     "metadata": {},
     "output_type": "execute_result"
    }
   ],
   "source": [
    "from sklearn.metrics import accuracy_score\n",
    "accuracy_score(test_dataset['fix_result'], preds)"
   ]
  },
  {
   "cell_type": "code",
   "execution_count": 29,
   "metadata": {},
   "outputs": [],
   "source": [
    "submission = pd.DataFrame({\n",
    "    \"matchid\": test_dataset.matchid, \n",
    "    \"result\": test_dataset.fix_result,\n",
    "    \"pred\": preds\n",
    "})\n",
    "\n",
    "submission.to_csv('../data/submission_2019.csv', index=False)"
   ]
  },
  {
   "cell_type": "code",
   "execution_count": 30,
   "metadata": {},
   "outputs": [],
   "source": [
    "model.save_model('../model/xgb_v1.1.model')"
   ]
  },
  {
   "cell_type": "markdown",
   "metadata": {},
   "source": [
    "# 预测"
   ]
  },
  {
   "cell_type": "code",
   "execution_count": 41,
   "metadata": {},
   "outputs": [],
   "source": [
    "# 确认预测轮次\n",
    "issue = 19063"
   ]
  },
  {
   "cell_type": "markdown",
   "metadata": {},
   "source": [
    "## 获取预测比赛列表"
   ]
  },
  {
   "cell_type": "code",
   "execution_count": 42,
   "metadata": {},
   "outputs": [],
   "source": [
    "connection = pymysql.connect(host='localhost', user='root', password='breadt@2019', db='breadt-football-ml', charset='utf8mb4', cursorclass=pymysql.cursors.DictCursor)\n",
    "with connection.cursor() as cursor:\n",
    "    sql = 'select * from `breadt_lottery_predict_info` where issue = %d;' % (issue)\n",
    "    cursor.execute(sql)\n",
    "    rows = cursor.fetchall()\n",
    "    \n",
    "    predict_game_df = pd.DataFrame(rows)\n",
    "    \n",
    "    connection.close()"
   ]
  },
  {
   "cell_type": "code",
   "execution_count": 43,
   "metadata": {},
   "outputs": [],
   "source": [
    "predict_game_df = predict_game_df[(predict_game_df['game'].isin(match_group))]\n",
    "predict_game_df = predict_game_df.dropna()"
   ]
  },
  {
   "cell_type": "code",
   "execution_count": 44,
   "metadata": {},
   "outputs": [],
   "source": [
    "predict_game_df['year'] = predict_game_df.apply(lambda row: row.time.year, axis=1)\n",
    "predict_game_df['month'] = predict_game_df.apply(lambda row: row.time.month, axis=1)\n",
    "predict_game_df['day'] = predict_game_df.apply(lambda row: row.time.day, axis=1)"
   ]
  },
  {
   "cell_type": "code",
   "execution_count": 45,
   "metadata": {},
   "outputs": [],
   "source": [
    "predict_game_df = encode_team(predict_game_df)\n",
    "predict_game_df = encode_game(predict_game_df)"
   ]
  },
  {
   "cell_type": "markdown",
   "metadata": {},
   "source": [
    "## 获取预测特征数据"
   ]
  },
  {
   "cell_type": "code",
   "execution_count": 46,
   "metadata": {},
   "outputs": [],
   "source": [
    "connection = pymysql.connect(host='localhost', user='root', password='breadt@2019', db='breadt-football-ml', charset='utf8mb4', cursorclass=pymysql.cursors.DictCursor)\n",
    "with connection.cursor() as cursor:\n",
    "    sql = 'select * from `breadt_football_feature_info` where matchid in (select matchid from `breadt_lottery_predict_info` where issue = %d);' % (issue)\n",
    "    cursor.execute(sql)\n",
    "    rows = cursor.fetchall()\n",
    "    \n",
    "    predict_feature_df = pd.DataFrame(rows)\n",
    "    \n",
    "    connection.close()"
   ]
  },
  {
   "cell_type": "code",
   "execution_count": 47,
   "metadata": {},
   "outputs": [],
   "source": [
    "predict_feature_df = take_count(predict_feature_df)\n",
    "predict_feature_df = take_rate(predict_feature_df)\n",
    "predict_feature_df = take_score(predict_feature_df)\n",
    "\n",
    "predict_feature_df['h_current_rank'] = predict_feature_df.apply(lambda row: get_current_rank(row.h_rank), axis=1)\n",
    "predict_feature_df['v_current_rank'] = predict_feature_df.apply(lambda row: get_current_rank(row.v_rank), axis=1)\n",
    "\n",
    "predict_feature_df = take_goal_info('h', predict_feature_df)\n",
    "predict_feature_df = take_goal_info('v', predict_feature_df)"
   ]
  },
  {
   "cell_type": "markdown",
   "metadata": {},
   "source": [
    "## 合并预测数据"
   ]
  },
  {
   "cell_type": "code",
   "execution_count": 48,
   "metadata": {},
   "outputs": [
    {
     "name": "stdout",
     "output_type": "stream",
     "text": [
      "<class 'pandas.core.frame.DataFrame'>\n",
      "Int64Index: 14 entries, 0 to 13\n",
      "Columns: 223 entries, draw_bet_return to v_host_7_goal_rate\n",
      "dtypes: datetime64[ns](1), float64(99), int64(90), object(33)\n",
      "memory usage: 24.5+ KB\n"
     ]
    }
   ],
   "source": [
    "predict_dataset_df = pd.merge(predict_game_df, predict_feature_df, on='matchid', how='left')\n",
    "predict_dataset_df = predict_dataset_df.dropna()\n",
    "predict_dataset_df.info()"
   ]
  },
  {
   "cell_type": "code",
   "execution_count": 49,
   "metadata": {},
   "outputs": [
    {
     "data": {
      "text/plain": [
       "array([2., 1., 0., 0., 1., 1., 1., 2., 0., 0., 0., 0., 1., 0.],\n",
       "      dtype=float32)"
      ]
     },
     "execution_count": 49,
     "metadata": {},
     "output_type": "execute_result"
    }
   ],
   "source": [
    "xgpredict = xgb.DMatrix(predict_dataset_df[x_columns])\n",
    "\n",
    "official_preds = model.predict(xgpredict, ntree_limit=model.best_iteration)\n",
    "official_preds"
   ]
  },
  {
   "cell_type": "code",
   "execution_count": 50,
   "metadata": {},
   "outputs": [
    {
     "data": {
      "text/html": [
       "<div>\n",
       "<style scoped>\n",
       "    .dataframe tbody tr th:only-of-type {\n",
       "        vertical-align: middle;\n",
       "    }\n",
       "\n",
       "    .dataframe tbody tr th {\n",
       "        vertical-align: top;\n",
       "    }\n",
       "\n",
       "    .dataframe thead th {\n",
       "        text-align: right;\n",
       "    }\n",
       "</style>\n",
       "<table border=\"1\" class=\"dataframe\">\n",
       "  <thead>\n",
       "    <tr style=\"text-align: right;\">\n",
       "      <th></th>\n",
       "      <th>matchid</th>\n",
       "      <th>home_team</th>\n",
       "      <th>visit_team</th>\n",
       "      <th>game</th>\n",
       "      <th>win_bet_return</th>\n",
       "      <th>draw_bet_return</th>\n",
       "      <th>lose_bet_return</th>\n",
       "      <th>pred</th>\n",
       "    </tr>\n",
       "  </thead>\n",
       "  <tbody>\n",
       "    <tr>\n",
       "      <th>0</th>\n",
       "      <td>2405641</td>\n",
       "      <td>西汉姆联</td>\n",
       "      <td>南安普敦</td>\n",
       "      <td>英超</td>\n",
       "      <td>2.29</td>\n",
       "      <td>3.59</td>\n",
       "      <td>2.97</td>\n",
       "      <td>2.0</td>\n",
       "    </tr>\n",
       "    <tr>\n",
       "      <th>1</th>\n",
       "      <td>2405642</td>\n",
       "      <td>狼队</td>\n",
       "      <td>富勒姆</td>\n",
       "      <td>英超</td>\n",
       "      <td>1.53</td>\n",
       "      <td>4.11</td>\n",
       "      <td>6.39</td>\n",
       "      <td>1.0</td>\n",
       "    </tr>\n",
       "    <tr>\n",
       "      <th>2</th>\n",
       "      <td>2405615</td>\n",
       "      <td>加的夫城</td>\n",
       "      <td>水晶宫</td>\n",
       "      <td>英超</td>\n",
       "      <td>2.56</td>\n",
       "      <td>3.50</td>\n",
       "      <td>2.66</td>\n",
       "      <td>0.0</td>\n",
       "    </tr>\n",
       "    <tr>\n",
       "      <th>3</th>\n",
       "      <td>2405640</td>\n",
       "      <td>纽卡斯尔</td>\n",
       "      <td>利物浦</td>\n",
       "      <td>英超</td>\n",
       "      <td>9.52</td>\n",
       "      <td>4.94</td>\n",
       "      <td>1.34</td>\n",
       "      <td>0.0</td>\n",
       "    </tr>\n",
       "    <tr>\n",
       "      <th>4</th>\n",
       "      <td>2413994</td>\n",
       "      <td>门兴</td>\n",
       "      <td>霍芬海姆</td>\n",
       "      <td>德甲</td>\n",
       "      <td>2.75</td>\n",
       "      <td>3.89</td>\n",
       "      <td>2.29</td>\n",
       "      <td>1.0</td>\n",
       "    </tr>\n",
       "    <tr>\n",
       "      <th>5</th>\n",
       "      <td>2413996</td>\n",
       "      <td>拜仁</td>\n",
       "      <td>汉诺威</td>\n",
       "      <td>德甲</td>\n",
       "      <td>1.04</td>\n",
       "      <td>16.47</td>\n",
       "      <td>43.25</td>\n",
       "      <td>1.0</td>\n",
       "    </tr>\n",
       "    <tr>\n",
       "      <th>6</th>\n",
       "      <td>2413998</td>\n",
       "      <td>柏林赫塔</td>\n",
       "      <td>斯图加特</td>\n",
       "      <td>德甲</td>\n",
       "      <td>2.36</td>\n",
       "      <td>3.49</td>\n",
       "      <td>2.90</td>\n",
       "      <td>1.0</td>\n",
       "    </tr>\n",
       "    <tr>\n",
       "      <th>7</th>\n",
       "      <td>2414002</td>\n",
       "      <td>沃夫斯堡</td>\n",
       "      <td>纽伦堡</td>\n",
       "      <td>德甲</td>\n",
       "      <td>1.57</td>\n",
       "      <td>4.10</td>\n",
       "      <td>5.66</td>\n",
       "      <td>2.0</td>\n",
       "    </tr>\n",
       "    <tr>\n",
       "      <th>8</th>\n",
       "      <td>2414001</td>\n",
       "      <td>不来梅</td>\n",
       "      <td>多特蒙德</td>\n",
       "      <td>德甲</td>\n",
       "      <td>3.08</td>\n",
       "      <td>3.74</td>\n",
       "      <td>2.15</td>\n",
       "      <td>0.0</td>\n",
       "    </tr>\n",
       "    <tr>\n",
       "      <th>9</th>\n",
       "      <td>2437982</td>\n",
       "      <td>切沃</td>\n",
       "      <td>费拉拉</td>\n",
       "      <td>意甲</td>\n",
       "      <td>3.26</td>\n",
       "      <td>3.09</td>\n",
       "      <td>2.35</td>\n",
       "      <td>0.0</td>\n",
       "    </tr>\n",
       "    <tr>\n",
       "      <th>10</th>\n",
       "      <td>2437986</td>\n",
       "      <td>乌迪内斯</td>\n",
       "      <td>国际米兰</td>\n",
       "      <td>意甲</td>\n",
       "      <td>4.83</td>\n",
       "      <td>3.87</td>\n",
       "      <td>1.69</td>\n",
       "      <td>0.0</td>\n",
       "    </tr>\n",
       "    <tr>\n",
       "      <th>11</th>\n",
       "      <td>2436149</td>\n",
       "      <td>西班牙人</td>\n",
       "      <td>马竞</td>\n",
       "      <td>西甲</td>\n",
       "      <td>3.64</td>\n",
       "      <td>3.23</td>\n",
       "      <td>2.12</td>\n",
       "      <td>0.0</td>\n",
       "    </tr>\n",
       "    <tr>\n",
       "      <th>12</th>\n",
       "      <td>2436153</td>\n",
       "      <td>阿拉维斯</td>\n",
       "      <td>皇家社会</td>\n",
       "      <td>西甲</td>\n",
       "      <td>2.55</td>\n",
       "      <td>3.19</td>\n",
       "      <td>2.85</td>\n",
       "      <td>1.0</td>\n",
       "    </tr>\n",
       "    <tr>\n",
       "      <th>13</th>\n",
       "      <td>2436144</td>\n",
       "      <td>塞尔塔</td>\n",
       "      <td>巴萨</td>\n",
       "      <td>西甲</td>\n",
       "      <td>2.11</td>\n",
       "      <td>3.62</td>\n",
       "      <td>3.28</td>\n",
       "      <td>0.0</td>\n",
       "    </tr>\n",
       "  </tbody>\n",
       "</table>\n",
       "</div>"
      ],
      "text/plain": [
       "    matchid home_team visit_team game  win_bet_return  draw_bet_return  \\\n",
       "0   2405641      西汉姆联       南安普敦   英超            2.29             3.59   \n",
       "1   2405642        狼队        富勒姆   英超            1.53             4.11   \n",
       "2   2405615      加的夫城        水晶宫   英超            2.56             3.50   \n",
       "3   2405640      纽卡斯尔        利物浦   英超            9.52             4.94   \n",
       "4   2413994        门兴       霍芬海姆   德甲            2.75             3.89   \n",
       "5   2413996        拜仁        汉诺威   德甲            1.04            16.47   \n",
       "6   2413998      柏林赫塔       斯图加特   德甲            2.36             3.49   \n",
       "7   2414002      沃夫斯堡        纽伦堡   德甲            1.57             4.10   \n",
       "8   2414001       不来梅       多特蒙德   德甲            3.08             3.74   \n",
       "9   2437982        切沃        费拉拉   意甲            3.26             3.09   \n",
       "10  2437986      乌迪内斯       国际米兰   意甲            4.83             3.87   \n",
       "11  2436149      西班牙人         马竞   西甲            3.64             3.23   \n",
       "12  2436153      阿拉维斯       皇家社会   西甲            2.55             3.19   \n",
       "13  2436144       塞尔塔         巴萨   西甲            2.11             3.62   \n",
       "\n",
       "    lose_bet_return  pred  \n",
       "0              2.97   2.0  \n",
       "1              6.39   1.0  \n",
       "2              2.66   0.0  \n",
       "3              1.34   0.0  \n",
       "4              2.29   1.0  \n",
       "5             43.25   1.0  \n",
       "6              2.90   1.0  \n",
       "7              5.66   2.0  \n",
       "8              2.15   0.0  \n",
       "9              2.35   0.0  \n",
       "10             1.69   0.0  \n",
       "11             2.12   0.0  \n",
       "12             2.85   1.0  \n",
       "13             3.28   0.0  "
      ]
     },
     "execution_count": 50,
     "metadata": {},
     "output_type": "execute_result"
    }
   ],
   "source": [
    "pd.DataFrame({\n",
    "    \"matchid\": predict_dataset_df.matchid, \n",
    "    \"home_team\": predict_dataset_df.home_team, \n",
    "    \"visit_team\": predict_dataset_df.visit_team, \n",
    "    \"game\": predict_dataset_df.game, \n",
    "    \"win_bet_return\":predict_dataset_df.win_bet_return,\n",
    "    \"draw_bet_return\":predict_dataset_df.draw_bet_return,\n",
    "    \"lose_bet_return\":predict_dataset_df.lose_bet_return,\n",
    "    \"pred\": official_preds\n",
    "})"
   ]
  },
  {
   "cell_type": "code",
   "execution_count": null,
   "metadata": {},
   "outputs": [],
   "source": []
  }
 ],
 "metadata": {
  "kernelspec": {
   "display_name": "Python 3",
   "language": "python",
   "name": "python3"
  },
  "language_info": {
   "codemirror_mode": {
    "name": "ipython",
    "version": 3
   },
   "file_extension": ".py",
   "mimetype": "text/x-python",
   "name": "python",
   "nbconvert_exporter": "python",
   "pygments_lexer": "ipython3",
   "version": "3.6.7"
  }
 },
 "nbformat": 4,
 "nbformat_minor": 2
}
