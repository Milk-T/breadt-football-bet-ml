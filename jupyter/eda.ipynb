{
 "cells": [
  {
   "cell_type": "code",
   "execution_count": 1,
   "metadata": {},
   "outputs": [],
   "source": [
    "import pandas as pd\n",
    "import numpy as np"
   ]
  },
  {
   "cell_type": "code",
   "execution_count": 2,
   "metadata": {},
   "outputs": [
    {
     "data": {
      "text/html": [
       "<div>\n",
       "<style scoped>\n",
       "    .dataframe tbody tr th:only-of-type {\n",
       "        vertical-align: middle;\n",
       "    }\n",
       "\n",
       "    .dataframe tbody tr th {\n",
       "        vertical-align: top;\n",
       "    }\n",
       "\n",
       "    .dataframe thead th {\n",
       "        text-align: right;\n",
       "    }\n",
       "</style>\n",
       "<table border=\"1\" class=\"dataframe\">\n",
       "  <thead>\n",
       "    <tr style=\"text-align: right;\">\n",
       "      <th></th>\n",
       "      <th>id</th>\n",
       "      <th>matchid</th>\n",
       "      <th>status</th>\n",
       "      <th>game</th>\n",
       "      <th>turn</th>\n",
       "      <th>home_team</th>\n",
       "      <th>visit_team</th>\n",
       "      <th>gs</th>\n",
       "      <th>gd</th>\n",
       "      <th>gn</th>\n",
       "      <th>time</th>\n",
       "      <th>result</th>\n",
       "      <th>win_bet_return</th>\n",
       "      <th>draw_bet_return</th>\n",
       "      <th>lose_bet_return</th>\n",
       "    </tr>\n",
       "  </thead>\n",
       "  <tbody>\n",
       "    <tr>\n",
       "      <th>0</th>\n",
       "      <td>1</td>\n",
       "      <td>1836165</td>\n",
       "      <td>完</td>\n",
       "      <td>天皇杯</td>\n",
       "      <td>决赛</td>\n",
       "      <td>横滨水手</td>\n",
       "      <td>广岛三箭</td>\n",
       "      <td>2</td>\n",
       "      <td>0</td>\n",
       "      <td>2</td>\n",
       "      <td>2014-01-01</td>\n",
       "      <td>3</td>\n",
       "      <td>2.58</td>\n",
       "      <td>2.97</td>\n",
       "      <td>2.74</td>\n",
       "    </tr>\n",
       "    <tr>\n",
       "      <th>1</th>\n",
       "      <td>2</td>\n",
       "      <td>1820486</td>\n",
       "      <td>完</td>\n",
       "      <td>澳超</td>\n",
       "      <td>第13轮</td>\n",
       "      <td>西悉尼</td>\n",
       "      <td>惠灵顿</td>\n",
       "      <td>1</td>\n",
       "      <td>3</td>\n",
       "      <td>4</td>\n",
       "      <td>2014-01-01</td>\n",
       "      <td>0</td>\n",
       "      <td>1.41</td>\n",
       "      <td>4.15</td>\n",
       "      <td>7.16</td>\n",
       "    </tr>\n",
       "    <tr>\n",
       "      <th>2</th>\n",
       "      <td>3</td>\n",
       "      <td>1765894</td>\n",
       "      <td>完</td>\n",
       "      <td>英超</td>\n",
       "      <td>第20轮</td>\n",
       "      <td>斯旺西</td>\n",
       "      <td>曼城</td>\n",
       "      <td>2</td>\n",
       "      <td>3</td>\n",
       "      <td>5</td>\n",
       "      <td>2014-01-01</td>\n",
       "      <td>0</td>\n",
       "      <td>5.31</td>\n",
       "      <td>3.90</td>\n",
       "      <td>1.61</td>\n",
       "    </tr>\n",
       "    <tr>\n",
       "      <th>3</th>\n",
       "      <td>4</td>\n",
       "      <td>1765886</td>\n",
       "      <td>完</td>\n",
       "      <td>英超</td>\n",
       "      <td>第20轮</td>\n",
       "      <td>阿森纳</td>\n",
       "      <td>加的夫城</td>\n",
       "      <td>2</td>\n",
       "      <td>0</td>\n",
       "      <td>2</td>\n",
       "      <td>2014-01-01</td>\n",
       "      <td>3</td>\n",
       "      <td>1.25</td>\n",
       "      <td>5.86</td>\n",
       "      <td>11.58</td>\n",
       "    </tr>\n",
       "    <tr>\n",
       "      <th>4</th>\n",
       "      <td>5</td>\n",
       "      <td>1765887</td>\n",
       "      <td>完</td>\n",
       "      <td>英超</td>\n",
       "      <td>第20轮</td>\n",
       "      <td>水晶宫</td>\n",
       "      <td>诺维奇</td>\n",
       "      <td>1</td>\n",
       "      <td>1</td>\n",
       "      <td>2</td>\n",
       "      <td>2014-01-01</td>\n",
       "      <td>1</td>\n",
       "      <td>2.31</td>\n",
       "      <td>3.17</td>\n",
       "      <td>3.14</td>\n",
       "    </tr>\n",
       "  </tbody>\n",
       "</table>\n",
       "</div>"
      ],
      "text/plain": [
       "   id  matchid status game  turn home_team visit_team  gs  gd  gn       time  \\\n",
       "0   1  1836165      完  天皇杯    决赛      横滨水手       广岛三箭   2   0   2 2014-01-01   \n",
       "1   2  1820486      完   澳超  第13轮       西悉尼        惠灵顿   1   3   4 2014-01-01   \n",
       "2   3  1765894      完   英超  第20轮       斯旺西         曼城   2   3   5 2014-01-01   \n",
       "3   4  1765886      完   英超  第20轮       阿森纳       加的夫城   2   0   2 2014-01-01   \n",
       "4   5  1765887      完   英超  第20轮       水晶宫        诺维奇   1   1   2 2014-01-01   \n",
       "\n",
       "   result  win_bet_return  draw_bet_return  lose_bet_return  \n",
       "0       3            2.58             2.97             2.74  \n",
       "1       0            1.41             4.15             7.16  \n",
       "2       0            5.31             3.90             1.61  \n",
       "3       3            1.25             5.86            11.58  \n",
       "4       1            2.31             3.17             3.14  "
      ]
     },
     "execution_count": 2,
     "metadata": {},
     "output_type": "execute_result"
    }
   ],
   "source": [
    "df = pd.read_csv('../data/breadt_football_game_list.csv', parse_dates=['time'])\n",
    "df.head()"
   ]
  },
  {
   "cell_type": "code",
   "execution_count": 3,
   "metadata": {},
   "outputs": [
    {
     "data": {
      "text/plain": [
       "0         天皇杯\n",
       "1          澳超\n",
       "2          英超\n",
       "11         英冠\n",
       "22         英甲\n",
       "34         苏超\n",
       "40       球会友谊\n",
       "47       英足总杯\n",
       "49         葡杯\n",
       "73         西甲\n",
       "80        法国杯\n",
       "91         意甲\n",
       "120       英联杯\n",
       "121       国王杯\n",
       "123       葡联杯\n",
       "130        法甲\n",
       "131        意杯\n",
       "141        法乙\n",
       "152        葡超\n",
       "248       法联杯\n",
       "279        荷甲\n",
       "280        荷乙\n",
       "394       荷兰杯\n",
       "427        德甲\n",
       "554      解放者杯\n",
       "575        德乙\n",
       "593      苏足总杯\n",
       "595        阿甲\n",
       "603        亚冠\n",
       "733       德国杯\n",
       "         ... \n",
       "16026    墨西哥杯\n",
       "16462     智利杯\n",
       "17056      俄杯\n",
       "17411     智超杯\n",
       "17711     世南预\n",
       "18962     世非预\n",
       "19013     世北预\n",
       "20505     亚青赛\n",
       "22425     韩K联\n",
       "25160     波罗杯\n",
       "25741     韩足总\n",
       "25983     比超杯\n",
       "26133      比甲\n",
       "26289    奥运女足\n",
       "26322    奥运男足\n",
       "27663     世欧预\n",
       "28307    比利时杯\n",
       "30555    韩挑K联\n",
       "32078     中国杯\n",
       "32130     中美杯\n",
       "32436     日新杯\n",
       "32465    巴超联杯\n",
       "34413     挪超杯\n",
       "36664      法丙\n",
       "37104    联合会杯\n",
       "37613     墨冠杯\n",
       "37636    女欧洲杯\n",
       "41937    世预赛附\n",
       "43103     智利乙\n",
       "50205     欧国联\n",
       "Name: game, Length: 126, dtype: object"
      ]
     },
     "execution_count": 3,
     "metadata": {},
     "output_type": "execute_result"
    }
   ],
   "source": [
    "df['game'].drop_duplicates()"
   ]
  },
  {
   "cell_type": "code",
   "execution_count": 22,
   "metadata": {},
   "outputs": [
    {
     "data": {
      "text/html": [
       "<div>\n",
       "<style scoped>\n",
       "    .dataframe tbody tr th:only-of-type {\n",
       "        vertical-align: middle;\n",
       "    }\n",
       "\n",
       "    .dataframe tbody tr th {\n",
       "        vertical-align: top;\n",
       "    }\n",
       "\n",
       "    .dataframe thead th {\n",
       "        text-align: right;\n",
       "    }\n",
       "</style>\n",
       "<table border=\"1\" class=\"dataframe\">\n",
       "  <thead>\n",
       "    <tr style=\"text-align: right;\">\n",
       "      <th></th>\n",
       "      <th>id</th>\n",
       "      <th>matchid</th>\n",
       "      <th>status</th>\n",
       "      <th>game</th>\n",
       "      <th>turn</th>\n",
       "      <th>home_team</th>\n",
       "      <th>visit_team</th>\n",
       "      <th>gs</th>\n",
       "      <th>gd</th>\n",
       "      <th>gn</th>\n",
       "      <th>time</th>\n",
       "      <th>result</th>\n",
       "      <th>win_bet_return</th>\n",
       "      <th>draw_bet_return</th>\n",
       "      <th>lose_bet_return</th>\n",
       "    </tr>\n",
       "  </thead>\n",
       "  <tbody>\n",
       "    <tr>\n",
       "      <th>50378</th>\n",
       "      <td>50379</td>\n",
       "      <td>2413536</td>\n",
       "      <td>完</td>\n",
       "      <td>德甲</td>\n",
       "      <td>第3轮</td>\n",
       "      <td>拜仁</td>\n",
       "      <td>勒沃库森</td>\n",
       "      <td>3</td>\n",
       "      <td>1</td>\n",
       "      <td>4</td>\n",
       "      <td>2018-09-15</td>\n",
       "      <td>3</td>\n",
       "      <td>1.17</td>\n",
       "      <td>7.71</td>\n",
       "      <td>15.03</td>\n",
       "    </tr>\n",
       "    <tr>\n",
       "      <th>50856</th>\n",
       "      <td>50857</td>\n",
       "      <td>2413590</td>\n",
       "      <td>完</td>\n",
       "      <td>德甲</td>\n",
       "      <td>第5轮</td>\n",
       "      <td>拜仁</td>\n",
       "      <td>奥格斯堡</td>\n",
       "      <td>1</td>\n",
       "      <td>1</td>\n",
       "      <td>2</td>\n",
       "      <td>2018-09-26</td>\n",
       "      <td>1</td>\n",
       "      <td>1.11</td>\n",
       "      <td>9.52</td>\n",
       "      <td>23.29</td>\n",
       "    </tr>\n",
       "    <tr>\n",
       "      <th>51361</th>\n",
       "      <td>51362</td>\n",
       "      <td>2413666</td>\n",
       "      <td>完</td>\n",
       "      <td>德甲</td>\n",
       "      <td>第7轮</td>\n",
       "      <td>拜仁</td>\n",
       "      <td>门兴</td>\n",
       "      <td>0</td>\n",
       "      <td>3</td>\n",
       "      <td>3</td>\n",
       "      <td>2018-10-07</td>\n",
       "      <td>0</td>\n",
       "      <td>1.16</td>\n",
       "      <td>8.14</td>\n",
       "      <td>15.25</td>\n",
       "    </tr>\n",
       "    <tr>\n",
       "      <th>52276</th>\n",
       "      <td>52277</td>\n",
       "      <td>2413776</td>\n",
       "      <td>完</td>\n",
       "      <td>德甲</td>\n",
       "      <td>第10轮</td>\n",
       "      <td>拜仁</td>\n",
       "      <td>弗赖堡</td>\n",
       "      <td>1</td>\n",
       "      <td>1</td>\n",
       "      <td>2</td>\n",
       "      <td>2018-11-03</td>\n",
       "      <td>1</td>\n",
       "      <td>1.11</td>\n",
       "      <td>9.86</td>\n",
       "      <td>21.90</td>\n",
       "    </tr>\n",
       "    <tr>\n",
       "      <th>52926</th>\n",
       "      <td>52927</td>\n",
       "      <td>2413807</td>\n",
       "      <td>完</td>\n",
       "      <td>德甲</td>\n",
       "      <td>第12轮</td>\n",
       "      <td>拜仁</td>\n",
       "      <td>杜塞多夫</td>\n",
       "      <td>3</td>\n",
       "      <td>3</td>\n",
       "      <td>6</td>\n",
       "      <td>2018-11-24</td>\n",
       "      <td>1</td>\n",
       "      <td>1.09</td>\n",
       "      <td>11.41</td>\n",
       "      <td>24.59</td>\n",
       "    </tr>\n",
       "  </tbody>\n",
       "</table>\n",
       "</div>"
      ],
      "text/plain": [
       "          id  matchid status game  turn home_team visit_team  gs  gd  gn  \\\n",
       "50378  50379  2413536      完   德甲   第3轮        拜仁       勒沃库森   3   1   4   \n",
       "50856  50857  2413590      完   德甲   第5轮        拜仁       奥格斯堡   1   1   2   \n",
       "51361  51362  2413666      完   德甲   第7轮        拜仁         门兴   0   3   3   \n",
       "52276  52277  2413776      完   德甲  第10轮        拜仁        弗赖堡   1   1   2   \n",
       "52926  52927  2413807      完   德甲  第12轮        拜仁       杜塞多夫   3   3   6   \n",
       "\n",
       "            time  result  win_bet_return  draw_bet_return  lose_bet_return  \n",
       "50378 2018-09-15       3            1.17             7.71            15.03  \n",
       "50856 2018-09-26       1            1.11             9.52            23.29  \n",
       "51361 2018-10-07       0            1.16             8.14            15.25  \n",
       "52276 2018-11-03       1            1.11             9.86            21.90  \n",
       "52926 2018-11-24       1            1.09            11.41            24.59  "
      ]
     },
     "execution_count": 22,
     "metadata": {},
     "output_type": "execute_result"
    }
   ],
   "source": [
    "high_partition = df[df['win_bet_return'] < 1.2]\n",
    "high_partition = high_partition[high_partition['game'] == '德甲']\n",
    "high_partition = high_partition[high_partition['time'] > '2018-08-01']\n",
    "\n",
    "high_partition.head()"
   ]
  },
  {
   "cell_type": "code",
   "execution_count": 23,
   "metadata": {},
   "outputs": [
    {
     "data": {
      "text/plain": [
       "0.5555555555555556"
      ]
     },
     "execution_count": 23,
     "metadata": {},
     "output_type": "execute_result"
    }
   ],
   "source": [
    "len(high_partition[high_partition['result'] == 3]) / len(high_partition)"
   ]
  },
  {
   "cell_type": "code",
   "execution_count": 10,
   "metadata": {},
   "outputs": [
    {
     "data": {
      "text/html": [
       "<div>\n",
       "<style scoped>\n",
       "    .dataframe tbody tr th:only-of-type {\n",
       "        vertical-align: middle;\n",
       "    }\n",
       "\n",
       "    .dataframe tbody tr th {\n",
       "        vertical-align: top;\n",
       "    }\n",
       "\n",
       "    .dataframe thead th {\n",
       "        text-align: right;\n",
       "    }\n",
       "</style>\n",
       "<table border=\"1\" class=\"dataframe\">\n",
       "  <thead>\n",
       "    <tr style=\"text-align: right;\">\n",
       "      <th></th>\n",
       "      <th>id</th>\n",
       "      <th>matchid</th>\n",
       "      <th>status</th>\n",
       "      <th>game</th>\n",
       "      <th>turn</th>\n",
       "      <th>home_team</th>\n",
       "      <th>visit_team</th>\n",
       "      <th>gs</th>\n",
       "      <th>gd</th>\n",
       "      <th>gn</th>\n",
       "      <th>time</th>\n",
       "      <th>result</th>\n",
       "      <th>win_bet_return</th>\n",
       "      <th>draw_bet_return</th>\n",
       "      <th>lose_bet_return</th>\n",
       "    </tr>\n",
       "  </thead>\n",
       "  <tbody>\n",
       "    <tr>\n",
       "      <th>23653</th>\n",
       "      <td>23654</td>\n",
       "      <td>2071948</td>\n",
       "      <td>完</td>\n",
       "      <td>解放者杯</td>\n",
       "      <td>分组赛</td>\n",
       "      <td>蒙国民</td>\n",
       "      <td>罗萨里奥</td>\n",
       "      <td>0</td>\n",
       "      <td>2</td>\n",
       "      <td>2</td>\n",
       "      <td>2016-04-15</td>\n",
       "      <td>0</td>\n",
       "      <td>4.51</td>\n",
       "      <td>1.84</td>\n",
       "      <td>3.36</td>\n",
       "    </tr>\n",
       "    <tr>\n",
       "      <th>32475</th>\n",
       "      <td>32476</td>\n",
       "      <td>2191138</td>\n",
       "      <td>完</td>\n",
       "      <td>非洲杯</td>\n",
       "      <td>分组赛</td>\n",
       "      <td>埃及</td>\n",
       "      <td>加纳</td>\n",
       "      <td>1</td>\n",
       "      <td>0</td>\n",
       "      <td>1</td>\n",
       "      <td>2017-01-26</td>\n",
       "      <td>3</td>\n",
       "      <td>3.15</td>\n",
       "      <td>1.86</td>\n",
       "      <td>4.36</td>\n",
       "    </tr>\n",
       "  </tbody>\n",
       "</table>\n",
       "</div>"
      ],
      "text/plain": [
       "          id  matchid status  game turn home_team visit_team  gs  gd  gn  \\\n",
       "23653  23654  2071948      完  解放者杯  分组赛       蒙国民       罗萨里奥   0   2   2   \n",
       "32475  32476  2191138      完   非洲杯  分组赛        埃及         加纳   1   0   1   \n",
       "\n",
       "            time  result  win_bet_return  draw_bet_return  lose_bet_return  \n",
       "23653 2016-04-15       0            4.51             1.84             3.36  \n",
       "32475 2017-01-26       3            3.15             1.86             4.36  "
      ]
     },
     "execution_count": 10,
     "metadata": {},
     "output_type": "execute_result"
    }
   ],
   "source": [
    "high_partition_draw = df[df['draw_bet_return'] < 2]\n",
    "high_partition_draw.head()"
   ]
  },
  {
   "cell_type": "code",
   "execution_count": 11,
   "metadata": {},
   "outputs": [
    {
     "data": {
      "text/html": [
       "<div>\n",
       "<style scoped>\n",
       "    .dataframe tbody tr th:only-of-type {\n",
       "        vertical-align: middle;\n",
       "    }\n",
       "\n",
       "    .dataframe tbody tr th {\n",
       "        vertical-align: top;\n",
       "    }\n",
       "\n",
       "    .dataframe thead th {\n",
       "        text-align: right;\n",
       "    }\n",
       "</style>\n",
       "<table border=\"1\" class=\"dataframe\">\n",
       "  <thead>\n",
       "    <tr style=\"text-align: right;\">\n",
       "      <th></th>\n",
       "      <th>id</th>\n",
       "      <th>matchid</th>\n",
       "      <th>status</th>\n",
       "      <th>game</th>\n",
       "      <th>turn</th>\n",
       "      <th>home_team</th>\n",
       "      <th>visit_team</th>\n",
       "      <th>gs</th>\n",
       "      <th>gd</th>\n",
       "      <th>gn</th>\n",
       "      <th>time</th>\n",
       "      <th>result</th>\n",
       "      <th>win_bet_return</th>\n",
       "      <th>draw_bet_return</th>\n",
       "      <th>lose_bet_return</th>\n",
       "    </tr>\n",
       "  </thead>\n",
       "  <tbody>\n",
       "    <tr>\n",
       "      <th>2</th>\n",
       "      <td>3</td>\n",
       "      <td>1765894</td>\n",
       "      <td>完</td>\n",
       "      <td>英超</td>\n",
       "      <td>第20轮</td>\n",
       "      <td>斯旺西</td>\n",
       "      <td>曼城</td>\n",
       "      <td>2</td>\n",
       "      <td>3</td>\n",
       "      <td>5</td>\n",
       "      <td>2014-01-01</td>\n",
       "      <td>0</td>\n",
       "      <td>5.31</td>\n",
       "      <td>3.90</td>\n",
       "      <td>1.61</td>\n",
       "    </tr>\n",
       "    <tr>\n",
       "      <th>8</th>\n",
       "      <td>9</td>\n",
       "      <td>1765892</td>\n",
       "      <td>完</td>\n",
       "      <td>英超</td>\n",
       "      <td>第20轮</td>\n",
       "      <td>斯托克城</td>\n",
       "      <td>埃弗顿</td>\n",
       "      <td>1</td>\n",
       "      <td>1</td>\n",
       "      <td>2</td>\n",
       "      <td>2014-01-01</td>\n",
       "      <td>1</td>\n",
       "      <td>4.11</td>\n",
       "      <td>3.37</td>\n",
       "      <td>1.90</td>\n",
       "    </tr>\n",
       "    <tr>\n",
       "      <th>18</th>\n",
       "      <td>19</td>\n",
       "      <td>1768218</td>\n",
       "      <td>完</td>\n",
       "      <td>英冠</td>\n",
       "      <td>第24轮</td>\n",
       "      <td>米尔沃尔</td>\n",
       "      <td>莱切斯特</td>\n",
       "      <td>1</td>\n",
       "      <td>3</td>\n",
       "      <td>4</td>\n",
       "      <td>2014-01-01</td>\n",
       "      <td>0</td>\n",
       "      <td>4.01</td>\n",
       "      <td>3.44</td>\n",
       "      <td>1.85</td>\n",
       "    </tr>\n",
       "    <tr>\n",
       "      <th>32</th>\n",
       "      <td>33</td>\n",
       "      <td>1770722</td>\n",
       "      <td>完</td>\n",
       "      <td>英甲</td>\n",
       "      <td>第24轮</td>\n",
       "      <td>特兰米尔</td>\n",
       "      <td>狼队</td>\n",
       "      <td>1</td>\n",
       "      <td>1</td>\n",
       "      <td>2</td>\n",
       "      <td>2014-01-01</td>\n",
       "      <td>1</td>\n",
       "      <td>5.08</td>\n",
       "      <td>3.62</td>\n",
       "      <td>1.65</td>\n",
       "    </tr>\n",
       "    <tr>\n",
       "      <th>40</th>\n",
       "      <td>41</td>\n",
       "      <td>1834441</td>\n",
       "      <td>完</td>\n",
       "      <td>球会友谊</td>\n",
       "      <td>一月</td>\n",
       "      <td>巴黎圣曼</td>\n",
       "      <td>皇马</td>\n",
       "      <td>0</td>\n",
       "      <td>1</td>\n",
       "      <td>1</td>\n",
       "      <td>2014-01-02</td>\n",
       "      <td>0</td>\n",
       "      <td>3.42</td>\n",
       "      <td>3.51</td>\n",
       "      <td>1.95</td>\n",
       "    </tr>\n",
       "  </tbody>\n",
       "</table>\n",
       "</div>"
      ],
      "text/plain": [
       "    id  matchid status  game  turn home_team visit_team  gs  gd  gn  \\\n",
       "2    3  1765894      完    英超  第20轮       斯旺西         曼城   2   3   5   \n",
       "8    9  1765892      完    英超  第20轮      斯托克城        埃弗顿   1   1   2   \n",
       "18  19  1768218      完    英冠  第24轮      米尔沃尔       莱切斯特   1   3   4   \n",
       "32  33  1770722      完    英甲  第24轮      特兰米尔         狼队   1   1   2   \n",
       "40  41  1834441      完  球会友谊    一月      巴黎圣曼         皇马   0   1   1   \n",
       "\n",
       "         time  result  win_bet_return  draw_bet_return  lose_bet_return  \n",
       "2  2014-01-01       0            5.31             3.90             1.61  \n",
       "8  2014-01-01       1            4.11             3.37             1.90  \n",
       "18 2014-01-01       0            4.01             3.44             1.85  \n",
       "32 2014-01-01       1            5.08             3.62             1.65  \n",
       "40 2014-01-02       0            3.42             3.51             1.95  "
      ]
     },
     "execution_count": 11,
     "metadata": {},
     "output_type": "execute_result"
    }
   ],
   "source": [
    "high_partition_lose = df[df['lose_bet_return'] < 2]\n",
    "high_partition_lose.head()"
   ]
  },
  {
   "cell_type": "code",
   "execution_count": 12,
   "metadata": {},
   "outputs": [
    {
     "data": {
      "text/plain": [
       "0.605312794718642"
      ]
     },
     "execution_count": 12,
     "metadata": {},
     "output_type": "execute_result"
    }
   ],
   "source": [
    "len(high_partition_lose[high_partition_lose['result'] == 0]) / len(high_partition_lose)"
   ]
  },
  {
   "cell_type": "code",
   "execution_count": 14,
   "metadata": {},
   "outputs": [
    {
     "data": {
      "text/plain": [
       "1.6354746934926123"
      ]
     },
     "execution_count": 14,
     "metadata": {},
     "output_type": "execute_result"
    }
   ],
   "source": [
    "high_partition_lose['lose_bet_return'].mean()"
   ]
  },
  {
   "cell_type": "code",
   "execution_count": 49,
   "metadata": {},
   "outputs": [
    {
     "data": {
      "text/plain": [
       "0.625"
      ]
     },
     "execution_count": 49,
     "metadata": {},
     "output_type": "execute_result"
    }
   ],
   "source": [
    "d = high_partition_lose[high_partition_lose['game'] == '英超']\n",
    "d = d[d['time'] > '2019-01-01']\n",
    "len(d[d['result'] == 0]) / len(d)"
   ]
  },
  {
   "cell_type": "code",
   "execution_count": 50,
   "metadata": {},
   "outputs": [
    {
     "data": {
      "text/plain": [
       "0.7941176470588235"
      ]
     },
     "execution_count": 50,
     "metadata": {},
     "output_type": "execute_result"
    }
   ],
   "source": [
    "t = high_partition[high_partition['game'] == '英超']\n",
    "t = t[t['time'] > '2019-01-01']\n",
    "len(t[t['result'] == 3]) / len(t)"
   ]
  },
  {
   "cell_type": "code",
   "execution_count": 51,
   "metadata": {},
   "outputs": [
    {
     "data": {
      "text/plain": [
       "1.4605882352941177"
      ]
     },
     "execution_count": 51,
     "metadata": {},
     "output_type": "execute_result"
    }
   ],
   "source": [
    "t['win_bet_return'].mean()"
   ]
  },
  {
   "cell_type": "markdown",
   "metadata": {},
   "source": [
    "## 1.x : 4.x : 8.x"
   ]
  },
  {
   "cell_type": "code",
   "execution_count": 633,
   "metadata": {},
   "outputs": [],
   "source": [
    "game_name = '澳超'"
   ]
  },
  {
   "cell_type": "code",
   "execution_count": 634,
   "metadata": {},
   "outputs": [
    {
     "data": {
      "text/plain": [
       "(0.858974358974359, 0.7564102564102564, 0.10256410256410256)"
      ]
     },
     "execution_count": 634,
     "metadata": {},
     "output_type": "execute_result"
    }
   ],
   "source": [
    "m = df[ (df['win_bet_return'] < df['lose_bet_return']) & (df['draw_bet_return'] < df['lose_bet_return']) & ((df['win_bet_return'] + df['draw_bet_return']) < df['lose_bet_return'])]\n",
    "m  = m[m['win_bet_return'] < 2]\n",
    "m = m[m['game'] == game_name]\n",
    "\n",
    "bet_win_rate = 1-len(m[m['result'] == 0]) / len(m)\n",
    "win_rate = len(m[m['result'] == 3]) / len(m)\n",
    "draw_rate = len(m[m['result'] == 1]) / len(m)\n",
    "\n",
    "bet_win_rate, win_rate, draw_rate"
   ]
  },
  {
   "cell_type": "code",
   "execution_count": 635,
   "metadata": {},
   "outputs": [
    {
     "data": {
      "text/plain": [
       "(1.050440499671269, 0.48309007232084156, 78)"
      ]
     },
     "execution_count": 635,
     "metadata": {},
     "output_type": "execute_result"
    }
   ],
   "source": [
    "m['win_bet_return'].mean() * win_rate, m['draw_bet_return'].mean() * draw_rate, len(m)"
   ]
  },
  {
   "cell_type": "code",
   "execution_count": 636,
   "metadata": {},
   "outputs": [
    {
     "data": {
      "text/plain": [
       "(1.0, 0.8571428571428571, 0.14285714285714285)"
      ]
     },
     "execution_count": 636,
     "metadata": {},
     "output_type": "execute_result"
    }
   ],
   "source": [
    "m = df[ (df['draw_bet_return'] < df['win_bet_return']) & (df['lose_bet_return'] < df['win_bet_return']) & ((df['draw_bet_return'] + df['lose_bet_return']) < df['win_bet_return'])]\n",
    "m  = m[m['lose_bet_return'] < 2]\n",
    "m = m[m['game'] == game_name]\n",
    "\n",
    "bet_win_rate = 1-len(m[m['result'] == 3]) / len(m)\n",
    "win_rate = len(m[m['result'] == 0]) / len(m)\n",
    "draw_rate = len(m[m['result'] == 1]) / len(m)\n",
    "\n",
    "bet_win_rate, win_rate, draw_rate"
   ]
  },
  {
   "cell_type": "code",
   "execution_count": 637,
   "metadata": {},
   "outputs": [
    {
     "data": {
      "text/plain": [
       "(1.2355102040816326, 0.6475510204081633, 7)"
      ]
     },
     "execution_count": 637,
     "metadata": {},
     "output_type": "execute_result"
    }
   ],
   "source": [
    "m['lose_bet_return'].mean() * win_rate, m['draw_bet_return'].mean() * draw_rate, len(m)"
   ]
  },
  {
   "cell_type": "markdown",
   "metadata": {},
   "source": [
    "+ 澳超(1-1.0504|2-1.2355)\n",
    "+ 美职(1-1.0054|2-1.5066)\n",
    "+ 意甲(2-1.0117)\n",
    "+ 俄超(2-1.1003)\n",
    "+ 法甲(1-1.0147|2-1.0453)\n",
    "+ 葡超(1-1.1021)\n",
    "+ 法乙(2-1.5079)"
   ]
  },
  {
   "cell_type": "markdown",
   "metadata": {},
   "source": [
    "## 高收益方案 No.1 Alpha\n",
    "\n",
    "主队输德概率大于2，并且主队平的概率小于主队赢的概率 + 主队输的概率小于主队平的概率\n",
    "\n",
    "lose_bet_return < draw_bet_return < win_bet_return\n",
    "\n",
    "+ **意甲 - LOSE - 0.5826 - 1.2612 - 115**\n",
    "+ **葡超 - DRAW - 0.3888 - 1.2322 - 54**\n",
    "+ 澳超 - LOSE - 0.5000 - 1.0250 - 6\n",
    "+ 澳超 - DRAW - 0.3333 - 1.1111 - 6\n",
    "+ 美职 - DRAW - 0.5000 - 1.0474 - 2\n",
    "+ 美职 - DRAW - 0.5000 - 1.6050 - 2\n",
    "+ 西甲 - LOSE - 0.4875 - 1.0604 - 80\n",
    "+ **德甲 - LOSE - 0.6250 - 1.3091 - 24**\n",
    "+ **德乙 - LOSE - 0.5277 - 1.1279 - 36**\n",
    "+ 荷甲 - LOSE - 0.8000 - 1.6384 - 5\n",
    "+ 荷乙 - LOSE - 1.0000 - 2.7100 - 1\n",
    "+ **英超 - WIN - 0.38356 - 1.3448 - 73**\n",
    "+ **英甲 - LOSE - 0.5230 - 1.1046 - 65**\n",
    "+ 挪超 - LOSE - 0.5000 - 1.0450 - 8\n",
    "+ **韩K联 - LOSE - 0.6176 - 1.3119 - 34**\n",
    "+ 瑞典超 - DRAW - 0.3200 - 1.0462 - 25\n",
    "+ 挪超 - LOSE - 0.5000 - 1.0450 - 8"
   ]
  },
  {
   "cell_type": "code",
   "execution_count": 591,
   "metadata": {},
   "outputs": [],
   "source": [
    "game_name = '韩K联'"
   ]
  },
  {
   "cell_type": "code",
   "execution_count": 592,
   "metadata": {},
   "outputs": [
    {
     "data": {
      "text/plain": [
       "(0.6176470588235294, 0.2647058823529412, 0.11764705882352941)"
      ]
     },
     "execution_count": 592,
     "metadata": {},
     "output_type": "execute_result"
    }
   ],
   "source": [
    "m = df[ (df['draw_bet_return'] < df['win_bet_return']) & (df['lose_bet_return'] < df['draw_bet_return']) ]\n",
    "m = m[m['lose_bet_return'] > 2]\n",
    "m = m[m['game'] == game_name]\n",
    "\n",
    "lose_rate = len(m[m['result'] == 0]) / len(m)\n",
    "draw_rate = len(m[m['result'] == 1]) / len(m)\n",
    "win_rate = len(m[m['result'] == 3]) / len(m)\n",
    "\n",
    "lose_rate, draw_rate, win_rate"
   ]
  },
  {
   "cell_type": "code",
   "execution_count": 593,
   "metadata": {},
   "outputs": [
    {
     "data": {
      "text/plain": [
       "(1.3119550173010381, 0.8321885813148789, 0.39262975778546716, 34)"
      ]
     },
     "execution_count": 593,
     "metadata": {},
     "output_type": "execute_result"
    }
   ],
   "source": [
    "m['lose_bet_return'].mean() * lose_rate, m['draw_bet_return'].mean() * draw_rate, m['win_bet_return'].mean() * win_rate, len(m)"
   ]
  },
  {
   "cell_type": "code",
   "execution_count": 528,
   "metadata": {},
   "outputs": [
    {
     "data": {
      "text/html": [
       "<div>\n",
       "<style scoped>\n",
       "    .dataframe tbody tr th:only-of-type {\n",
       "        vertical-align: middle;\n",
       "    }\n",
       "\n",
       "    .dataframe tbody tr th {\n",
       "        vertical-align: top;\n",
       "    }\n",
       "\n",
       "    .dataframe thead th {\n",
       "        text-align: right;\n",
       "    }\n",
       "</style>\n",
       "<table border=\"1\" class=\"dataframe\">\n",
       "  <thead>\n",
       "    <tr style=\"text-align: right;\">\n",
       "      <th></th>\n",
       "      <th>id</th>\n",
       "      <th>matchid</th>\n",
       "      <th>status</th>\n",
       "      <th>game</th>\n",
       "      <th>turn</th>\n",
       "      <th>home_team</th>\n",
       "      <th>visit_team</th>\n",
       "      <th>gs</th>\n",
       "      <th>gd</th>\n",
       "      <th>gn</th>\n",
       "      <th>time</th>\n",
       "      <th>result</th>\n",
       "      <th>win_bet_return</th>\n",
       "      <th>draw_bet_return</th>\n",
       "      <th>lose_bet_return</th>\n",
       "    </tr>\n",
       "  </thead>\n",
       "  <tbody>\n",
       "    <tr>\n",
       "      <th>503</th>\n",
       "      <td>504</td>\n",
       "      <td>1796086</td>\n",
       "      <td>完</td>\n",
       "      <td>意甲</td>\n",
       "      <td>第21轮</td>\n",
       "      <td>卡利亚里</td>\n",
       "      <td>AC米兰</td>\n",
       "      <td>1</td>\n",
       "      <td>2</td>\n",
       "      <td>3</td>\n",
       "      <td>2014-01-26</td>\n",
       "      <td>0</td>\n",
       "      <td>3.79</td>\n",
       "      <td>3.33</td>\n",
       "      <td>2.05</td>\n",
       "    </tr>\n",
       "    <tr>\n",
       "      <th>866</th>\n",
       "      <td>867</td>\n",
       "      <td>1796128</td>\n",
       "      <td>完</td>\n",
       "      <td>意甲</td>\n",
       "      <td>第24轮</td>\n",
       "      <td>卡塔尼亚</td>\n",
       "      <td>拉齐奥</td>\n",
       "      <td>3</td>\n",
       "      <td>1</td>\n",
       "      <td>4</td>\n",
       "      <td>2014-02-16</td>\n",
       "      <td>3</td>\n",
       "      <td>3.37</td>\n",
       "      <td>3.15</td>\n",
       "      <td>2.18</td>\n",
       "    </tr>\n",
       "    <tr>\n",
       "      <th>1299</th>\n",
       "      <td>1300</td>\n",
       "      <td>1796173</td>\n",
       "      <td>完</td>\n",
       "      <td>意甲</td>\n",
       "      <td>第26轮</td>\n",
       "      <td>萨索洛</td>\n",
       "      <td>帕尔马</td>\n",
       "      <td>0</td>\n",
       "      <td>1</td>\n",
       "      <td>1</td>\n",
       "      <td>2014-03-02</td>\n",
       "      <td>0</td>\n",
       "      <td>3.45</td>\n",
       "      <td>3.25</td>\n",
       "      <td>2.12</td>\n",
       "    </tr>\n",
       "    <tr>\n",
       "      <th>1319</th>\n",
       "      <td>1320</td>\n",
       "      <td>1796172</td>\n",
       "      <td>完</td>\n",
       "      <td>意甲</td>\n",
       "      <td>第26轮</td>\n",
       "      <td>AC米兰</td>\n",
       "      <td>尤文图斯</td>\n",
       "      <td>0</td>\n",
       "      <td>2</td>\n",
       "      <td>2</td>\n",
       "      <td>2014-03-03</td>\n",
       "      <td>0</td>\n",
       "      <td>3.60</td>\n",
       "      <td>3.28</td>\n",
       "      <td>2.06</td>\n",
       "    </tr>\n",
       "    <tr>\n",
       "      <th>1743</th>\n",
       "      <td>1744</td>\n",
       "      <td>1796236</td>\n",
       "      <td>完</td>\n",
       "      <td>意甲</td>\n",
       "      <td>第28轮</td>\n",
       "      <td>维罗纳</td>\n",
       "      <td>国际米兰</td>\n",
       "      <td>0</td>\n",
       "      <td>2</td>\n",
       "      <td>2</td>\n",
       "      <td>2014-03-16</td>\n",
       "      <td>0</td>\n",
       "      <td>3.46</td>\n",
       "      <td>3.28</td>\n",
       "      <td>2.10</td>\n",
       "    </tr>\n",
       "  </tbody>\n",
       "</table>\n",
       "</div>"
      ],
      "text/plain": [
       "        id  matchid status game  turn home_team visit_team  gs  gd  gn  \\\n",
       "503    504  1796086      完   意甲  第21轮      卡利亚里       AC米兰   1   2   3   \n",
       "866    867  1796128      完   意甲  第24轮      卡塔尼亚        拉齐奥   3   1   4   \n",
       "1299  1300  1796173      完   意甲  第26轮       萨索洛        帕尔马   0   1   1   \n",
       "1319  1320  1796172      完   意甲  第26轮      AC米兰       尤文图斯   0   2   2   \n",
       "1743  1744  1796236      完   意甲  第28轮       维罗纳       国际米兰   0   2   2   \n",
       "\n",
       "           time  result  win_bet_return  draw_bet_return  lose_bet_return  \n",
       "503  2014-01-26       0            3.79             3.33             2.05  \n",
       "866  2014-02-16       3            3.37             3.15             2.18  \n",
       "1299 2014-03-02       0            3.45             3.25             2.12  \n",
       "1319 2014-03-03       0            3.60             3.28             2.06  \n",
       "1743 2014-03-16       0            3.46             3.28             2.10  "
      ]
     },
     "execution_count": 528,
     "metadata": {},
     "output_type": "execute_result"
    }
   ],
   "source": [
    "m.head()"
   ]
  },
  {
   "cell_type": "markdown",
   "metadata": {},
   "source": [
    "## 尝试 - 高收益方案\n",
    "\n",
    "win_bet_return < lose_bet_return < draw_bet_return\n",
    "\n",
    "+ 意甲 - DRAW - 0.3377 - 1.0980\n",
    "+ 法甲 - WIN  - 0.4166 - 1.0417\n",
    "+ 澳超 - LOSE - 0.3380 - 1.0107\n",
    "+ 葡超 - WIN  - 0.4180 - 1.0236"
   ]
  },
  {
   "cell_type": "code",
   "execution_count": 668,
   "metadata": {},
   "outputs": [],
   "source": [
    "game_name = '葡超'"
   ]
  },
  {
   "cell_type": "code",
   "execution_count": 669,
   "metadata": {},
   "outputs": [
    {
     "data": {
      "text/plain": [
       "(0.2655367231638418, 0.3163841807909605, 0.4180790960451977)"
      ]
     },
     "execution_count": 669,
     "metadata": {},
     "output_type": "execute_result"
    }
   ],
   "source": [
    "m = df[ (df['win_bet_return'] < df['lose_bet_return']) & (df['lose_bet_return'] < df['draw_bet_return']) ]\n",
    "m = m[m['lose_bet_return'] > 2]\n",
    "m = m[m['game'] == game_name]\n",
    "\n",
    "lose_rate = len(m[m['result'] == 0]) / len(m)\n",
    "draw_rate = len(m[m['result'] == 1]) / len(m)\n",
    "win_rate = len(m[m['result'] == 3]) / len(m)\n",
    "\n",
    "lose_rate, draw_rate, win_rate"
   ]
  },
  {
   "cell_type": "code",
   "execution_count": 670,
   "metadata": {},
   "outputs": [
    {
     "data": {
      "text/plain": [
       "(0.7705815697915669, 0.9834543075106131, 1.023632417249194, 177)"
      ]
     },
     "execution_count": 670,
     "metadata": {},
     "output_type": "execute_result"
    }
   ],
   "source": [
    "m['lose_bet_return'].mean() * lose_rate, m['draw_bet_return'].mean() * draw_rate, m['win_bet_return'].mean() * win_rate, len(m)"
   ]
  },
  {
   "cell_type": "code",
   "execution_count": 661,
   "metadata": {},
   "outputs": [
    {
     "data": {
      "text/html": [
       "<div>\n",
       "<style scoped>\n",
       "    .dataframe tbody tr th:only-of-type {\n",
       "        vertical-align: middle;\n",
       "    }\n",
       "\n",
       "    .dataframe tbody tr th {\n",
       "        vertical-align: top;\n",
       "    }\n",
       "\n",
       "    .dataframe thead th {\n",
       "        text-align: right;\n",
       "    }\n",
       "</style>\n",
       "<table border=\"1\" class=\"dataframe\">\n",
       "  <thead>\n",
       "    <tr style=\"text-align: right;\">\n",
       "      <th></th>\n",
       "      <th>id</th>\n",
       "      <th>matchid</th>\n",
       "      <th>status</th>\n",
       "      <th>game</th>\n",
       "      <th>turn</th>\n",
       "      <th>home_team</th>\n",
       "      <th>visit_team</th>\n",
       "      <th>gs</th>\n",
       "      <th>gd</th>\n",
       "      <th>gn</th>\n",
       "      <th>time</th>\n",
       "      <th>result</th>\n",
       "      <th>win_bet_return</th>\n",
       "      <th>draw_bet_return</th>\n",
       "      <th>lose_bet_return</th>\n",
       "    </tr>\n",
       "  </thead>\n",
       "  <tbody>\n",
       "    <tr>\n",
       "      <th>75</th>\n",
       "      <td>76</td>\n",
       "      <td>1783340</td>\n",
       "      <td>完</td>\n",
       "      <td>西甲</td>\n",
       "      <td>第18轮</td>\n",
       "      <td>巴利亚多</td>\n",
       "      <td>贝蒂斯</td>\n",
       "      <td>0</td>\n",
       "      <td>0</td>\n",
       "      <td>0</td>\n",
       "      <td>2014-01-05</td>\n",
       "      <td>1</td>\n",
       "      <td>2.36</td>\n",
       "      <td>3.25</td>\n",
       "      <td>2.95</td>\n",
       "    </tr>\n",
       "    <tr>\n",
       "      <th>82</th>\n",
       "      <td>83</td>\n",
       "      <td>1783339</td>\n",
       "      <td>完</td>\n",
       "      <td>西甲</td>\n",
       "      <td>第18轮</td>\n",
       "      <td>阿梅里亚</td>\n",
       "      <td>格拉纳达</td>\n",
       "      <td>3</td>\n",
       "      <td>0</td>\n",
       "      <td>3</td>\n",
       "      <td>2014-01-05</td>\n",
       "      <td>3</td>\n",
       "      <td>2.43</td>\n",
       "      <td>3.19</td>\n",
       "      <td>2.89</td>\n",
       "    </tr>\n",
       "    <tr>\n",
       "      <th>105</th>\n",
       "      <td>106</td>\n",
       "      <td>1783341</td>\n",
       "      <td>完</td>\n",
       "      <td>西甲</td>\n",
       "      <td>第18轮</td>\n",
       "      <td>奥萨苏纳</td>\n",
       "      <td>西班牙人</td>\n",
       "      <td>1</td>\n",
       "      <td>0</td>\n",
       "      <td>1</td>\n",
       "      <td>2014-01-06</td>\n",
       "      <td>3</td>\n",
       "      <td>2.38</td>\n",
       "      <td>3.14</td>\n",
       "      <td>3.01</td>\n",
       "    </tr>\n",
       "    <tr>\n",
       "      <th>106</th>\n",
       "      <td>107</td>\n",
       "      <td>1783338</td>\n",
       "      <td>完</td>\n",
       "      <td>西甲</td>\n",
       "      <td>第18轮</td>\n",
       "      <td>皇家社会</td>\n",
       "      <td>毕尔巴鄂</td>\n",
       "      <td>2</td>\n",
       "      <td>0</td>\n",
       "      <td>2</td>\n",
       "      <td>2014-01-06</td>\n",
       "      <td>3</td>\n",
       "      <td>2.16</td>\n",
       "      <td>3.32</td>\n",
       "      <td>3.24</td>\n",
       "    </tr>\n",
       "    <tr>\n",
       "      <th>224</th>\n",
       "      <td>225</td>\n",
       "      <td>1783351</td>\n",
       "      <td>完</td>\n",
       "      <td>西甲</td>\n",
       "      <td>第19轮</td>\n",
       "      <td>莱万特</td>\n",
       "      <td>马拉加</td>\n",
       "      <td>1</td>\n",
       "      <td>0</td>\n",
       "      <td>1</td>\n",
       "      <td>2014-01-13</td>\n",
       "      <td>3</td>\n",
       "      <td>2.56</td>\n",
       "      <td>3.17</td>\n",
       "      <td>2.73</td>\n",
       "    </tr>\n",
       "  </tbody>\n",
       "</table>\n",
       "</div>"
      ],
      "text/plain": [
       "      id  matchid status game  turn home_team visit_team  gs  gd  gn  \\\n",
       "75    76  1783340      完   西甲  第18轮      巴利亚多        贝蒂斯   0   0   0   \n",
       "82    83  1783339      完   西甲  第18轮      阿梅里亚       格拉纳达   3   0   3   \n",
       "105  106  1783341      完   西甲  第18轮      奥萨苏纳       西班牙人   1   0   1   \n",
       "106  107  1783338      完   西甲  第18轮      皇家社会       毕尔巴鄂   2   0   2   \n",
       "224  225  1783351      完   西甲  第19轮       莱万特        马拉加   1   0   1   \n",
       "\n",
       "          time  result  win_bet_return  draw_bet_return  lose_bet_return  \n",
       "75  2014-01-05       1            2.36             3.25             2.95  \n",
       "82  2014-01-05       3            2.43             3.19             2.89  \n",
       "105 2014-01-06       3            2.38             3.14             3.01  \n",
       "106 2014-01-06       3            2.16             3.32             3.24  \n",
       "224 2014-01-13       3            2.56             3.17             2.73  "
      ]
     },
     "execution_count": 661,
     "metadata": {},
     "output_type": "execute_result"
    }
   ],
   "source": [
    "m.head()"
   ]
  },
  {
   "cell_type": "markdown",
   "metadata": {},
   "source": [
    "## 高收益方案 No.2 beta\n",
    "\n",
    "draw_bet_return > win_bet_return > lose_bet_return\n",
    "\n",
    "+ **德甲 - WIN - 0.3799 - 1.1350 - 229**\n",
    "+ 德乙 - DRAW - 0.3166 - 1.0246 - 240\n",
    "+ **西甲 - DRAW - 0.3473 - 1.1421 - 190**\n",
    "+ 法甲 - LOSE - 0.4022 - 1.0017 - 174\n",
    "+ 日职 - LOSE - 0.4542 - 1.066 - 306\n",
    "+ 英超 - DRAW - 0.3208 - 1.0590 - 187\n",
    "+ 英甲 - WIN - 0.7500 - 2.1037 - 4\n",
    "+ **韩K联 - DRAW - 0.3636 - 1.1632 - 143**\n",
    "+ 澳超 - LOSE - 0.4409 - 1.0220 - 127\n",
    "+ **美职 - WIN - 0.4503 - 1.2673 - 131**\n",
    "+ 葡超 - WIN - 0.3709 - 1.0672 - 124\n",
    "+ 挪超 - DRAW - 0.3053 - 1.0235 - 167"
   ]
  },
  {
   "cell_type": "code",
   "execution_count": 585,
   "metadata": {},
   "outputs": [],
   "source": [
    "game_name = '德甲'"
   ]
  },
  {
   "cell_type": "code",
   "execution_count": 586,
   "metadata": {},
   "outputs": [
    {
     "data": {
      "text/plain": [
       "(0.3799126637554585, 0.27074235807860264, 0.34934497816593885)"
      ]
     },
     "execution_count": 586,
     "metadata": {},
     "output_type": "execute_result"
    }
   ],
   "source": [
    "m = df[ (df['draw_bet_return'] > df['win_bet_return']) & (df['lose_bet_return'] < df['win_bet_return']) ]\n",
    "m = m[m['lose_bet_return'] > 2]\n",
    "m = m[m['game'] == game_name]\n",
    "\n",
    "lose_rate = len(m[m['result'] == 0]) / len(m)\n",
    "draw_rate = len(m[m['result'] == 1]) / len(m)\n",
    "win_rate = len(m[m['result'] == 3]) / len(m)\n",
    "\n",
    "win_rate, draw_rate, lose_rate"
   ]
  },
  {
   "cell_type": "code",
   "execution_count": 587,
   "metadata": {},
   "outputs": [
    {
     "data": {
      "text/plain": [
       "(1.1350264106329018, 0.9202993840697166, 0.8237524074674395, 229)"
      ]
     },
     "execution_count": 587,
     "metadata": {},
     "output_type": "execute_result"
    }
   ],
   "source": [
    "m['win_bet_return'].mean() * win_rate, m['draw_bet_return'].mean() * draw_rate, m['lose_bet_return'].mean() * lose_rate, len(m)"
   ]
  },
  {
   "cell_type": "code",
   "execution_count": 588,
   "metadata": {},
   "outputs": [
    {
     "data": {
      "text/html": [
       "<div>\n",
       "<style scoped>\n",
       "    .dataframe tbody tr th:only-of-type {\n",
       "        vertical-align: middle;\n",
       "    }\n",
       "\n",
       "    .dataframe tbody tr th {\n",
       "        vertical-align: top;\n",
       "    }\n",
       "\n",
       "    .dataframe thead th {\n",
       "        text-align: right;\n",
       "    }\n",
       "</style>\n",
       "<table border=\"1\" class=\"dataframe\">\n",
       "  <thead>\n",
       "    <tr style=\"text-align: right;\">\n",
       "      <th></th>\n",
       "      <th>id</th>\n",
       "      <th>matchid</th>\n",
       "      <th>status</th>\n",
       "      <th>game</th>\n",
       "      <th>turn</th>\n",
       "      <th>home_team</th>\n",
       "      <th>visit_team</th>\n",
       "      <th>gs</th>\n",
       "      <th>gd</th>\n",
       "      <th>gn</th>\n",
       "      <th>time</th>\n",
       "      <th>result</th>\n",
       "      <th>win_bet_return</th>\n",
       "      <th>draw_bet_return</th>\n",
       "      <th>lose_bet_return</th>\n",
       "    </tr>\n",
       "  </thead>\n",
       "  <tbody>\n",
       "    <tr>\n",
       "      <th>515</th>\n",
       "      <td>516</td>\n",
       "      <td>1766338</td>\n",
       "      <td>完</td>\n",
       "      <td>德甲</td>\n",
       "      <td>第18轮</td>\n",
       "      <td>汉堡</td>\n",
       "      <td>沙尔克04</td>\n",
       "      <td>0</td>\n",
       "      <td>3</td>\n",
       "      <td>3</td>\n",
       "      <td>2014-01-27</td>\n",
       "      <td>0</td>\n",
       "      <td>2.67</td>\n",
       "      <td>3.44</td>\n",
       "      <td>2.48</td>\n",
       "    </tr>\n",
       "    <tr>\n",
       "      <th>610</th>\n",
       "      <td>611</td>\n",
       "      <td>1766361</td>\n",
       "      <td>完</td>\n",
       "      <td>德甲</td>\n",
       "      <td>第20轮</td>\n",
       "      <td>弗赖堡</td>\n",
       "      <td>霍芬海姆</td>\n",
       "      <td>1</td>\n",
       "      <td>1</td>\n",
       "      <td>2</td>\n",
       "      <td>2014-02-08</td>\n",
       "      <td>1</td>\n",
       "      <td>2.81</td>\n",
       "      <td>3.38</td>\n",
       "      <td>2.39</td>\n",
       "    </tr>\n",
       "    <tr>\n",
       "      <th>814</th>\n",
       "      <td>815</td>\n",
       "      <td>1766365</td>\n",
       "      <td>完</td>\n",
       "      <td>德甲</td>\n",
       "      <td>第21轮</td>\n",
       "      <td>不伦瑞克</td>\n",
       "      <td>汉堡</td>\n",
       "      <td>4</td>\n",
       "      <td>2</td>\n",
       "      <td>6</td>\n",
       "      <td>2014-02-15</td>\n",
       "      <td>3</td>\n",
       "      <td>2.69</td>\n",
       "      <td>3.26</td>\n",
       "      <td>2.54</td>\n",
       "    </tr>\n",
       "    <tr>\n",
       "      <th>993</th>\n",
       "      <td>994</td>\n",
       "      <td>1766374</td>\n",
       "      <td>完</td>\n",
       "      <td>德甲</td>\n",
       "      <td>第22轮</td>\n",
       "      <td>弗赖堡</td>\n",
       "      <td>奥格斯堡</td>\n",
       "      <td>2</td>\n",
       "      <td>4</td>\n",
       "      <td>6</td>\n",
       "      <td>2014-02-22</td>\n",
       "      <td>0</td>\n",
       "      <td>3.21</td>\n",
       "      <td>3.25</td>\n",
       "      <td>2.21</td>\n",
       "    </tr>\n",
       "    <tr>\n",
       "      <th>1211</th>\n",
       "      <td>1212</td>\n",
       "      <td>1766387</td>\n",
       "      <td>完</td>\n",
       "      <td>德甲</td>\n",
       "      <td>第23轮</td>\n",
       "      <td>不来梅</td>\n",
       "      <td>汉堡</td>\n",
       "      <td>1</td>\n",
       "      <td>0</td>\n",
       "      <td>1</td>\n",
       "      <td>2014-03-01</td>\n",
       "      <td>3</td>\n",
       "      <td>2.64</td>\n",
       "      <td>3.37</td>\n",
       "      <td>2.52</td>\n",
       "    </tr>\n",
       "  </tbody>\n",
       "</table>\n",
       "</div>"
      ],
      "text/plain": [
       "        id  matchid status game  turn home_team visit_team  gs  gd  gn  \\\n",
       "515    516  1766338      完   德甲  第18轮        汉堡      沙尔克04   0   3   3   \n",
       "610    611  1766361      完   德甲  第20轮       弗赖堡       霍芬海姆   1   1   2   \n",
       "814    815  1766365      完   德甲  第21轮      不伦瑞克         汉堡   4   2   6   \n",
       "993    994  1766374      完   德甲  第22轮       弗赖堡       奥格斯堡   2   4   6   \n",
       "1211  1212  1766387      完   德甲  第23轮       不来梅         汉堡   1   0   1   \n",
       "\n",
       "           time  result  win_bet_return  draw_bet_return  lose_bet_return  \n",
       "515  2014-01-27       0            2.67             3.44             2.48  \n",
       "610  2014-02-08       1            2.81             3.38             2.39  \n",
       "814  2014-02-15       3            2.69             3.26             2.54  \n",
       "993  2014-02-22       0            3.21             3.25             2.21  \n",
       "1211 2014-03-01       3            2.64             3.37             2.52  "
      ]
     },
     "execution_count": 588,
     "metadata": {},
     "output_type": "execute_result"
    }
   ],
   "source": [
    "m.head()"
   ]
  },
  {
   "cell_type": "markdown",
   "metadata": {},
   "source": [
    "## 尝试 - 高收益方案 No.3\n"
   ]
  },
  {
   "cell_type": "code",
   "execution_count": 605,
   "metadata": {},
   "outputs": [],
   "source": [
    "game_name = '英甲'"
   ]
  },
  {
   "cell_type": "code",
   "execution_count": 606,
   "metadata": {},
   "outputs": [
    {
     "data": {
      "text/plain": [
       "(0.3671875, 0.3515625, 0.28125)"
      ]
     },
     "execution_count": 606,
     "metadata": {},
     "output_type": "execute_result"
    }
   ],
   "source": [
    "m = df[ (df['lose_bet_return'] > df['draw_bet_return']) & (df['draw_bet_return'] > df['win_bet_return']) ]\n",
    "m = m[m['win_bet_return'] > 2]\n",
    "m = m[m['game'] == game_name]\n",
    "\n",
    "lose_rate = len(m[m['result'] == 0]) / len(m)\n",
    "draw_rate = len(m[m['result'] == 1]) / len(m)\n",
    "win_rate = len(m[m['result'] == 3]) / len(m)\n",
    "\n",
    "win_rate, draw_rate, lose_rate"
   ]
  },
  {
   "cell_type": "code",
   "execution_count": 607,
   "metadata": {},
   "outputs": [
    {
     "data": {
      "text/plain": [
       "(0.7708212280273437, 1.1460525512695312, 0.9646655273437499, 256)"
      ]
     },
     "execution_count": 607,
     "metadata": {},
     "output_type": "execute_result"
    }
   ],
   "source": [
    "m['win_bet_return'].mean() * win_rate, m['draw_bet_return'].mean() * draw_rate, m['lose_bet_return'].mean() * lose_rate, len(m)"
   ]
  },
  {
   "cell_type": "code",
   "execution_count": null,
   "metadata": {},
   "outputs": [],
   "source": []
  }
 ],
 "metadata": {
  "kernelspec": {
   "display_name": "Python 3",
   "language": "python",
   "name": "python3"
  },
  "language_info": {
   "codemirror_mode": {
    "name": "ipython",
    "version": 3
   },
   "file_extension": ".py",
   "mimetype": "text/x-python",
   "name": "python",
   "nbconvert_exporter": "python",
   "pygments_lexer": "ipython3",
   "version": "3.7.1"
  }
 },
 "nbformat": 4,
 "nbformat_minor": 2
}
