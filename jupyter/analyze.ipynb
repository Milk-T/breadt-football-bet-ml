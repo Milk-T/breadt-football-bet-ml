{
 "cells": [
  {
   "cell_type": "code",
   "execution_count": 1,
   "metadata": {},
   "outputs": [],
   "source": [
    "import pandas as pd"
   ]
  },
  {
   "cell_type": "code",
   "execution_count": 14,
   "metadata": {},
   "outputs": [
    {
     "data": {
      "text/html": [
       "<div>\n",
       "<style scoped>\n",
       "    .dataframe tbody tr th:only-of-type {\n",
       "        vertical-align: middle;\n",
       "    }\n",
       "\n",
       "    .dataframe tbody tr th {\n",
       "        vertical-align: top;\n",
       "    }\n",
       "\n",
       "    .dataframe thead th {\n",
       "        text-align: right;\n",
       "    }\n",
       "</style>\n",
       "<table border=\"1\" class=\"dataframe\">\n",
       "  <thead>\n",
       "    <tr style=\"text-align: right;\">\n",
       "      <th></th>\n",
       "      <th>date</th>\n",
       "      <th>fid</th>\n",
       "      <th>gd</th>\n",
       "      <th>gn</th>\n",
       "      <th>gs</th>\n",
       "      <th>host_team</th>\n",
       "      <th>name</th>\n",
       "      <th>pos</th>\n",
       "      <th>result</th>\n",
       "      <th>visit_team</th>\n",
       "    </tr>\n",
       "  </thead>\n",
       "  <tbody>\n",
       "    <tr>\n",
       "      <th>0</th>\n",
       "      <td>2018-12-02</td>\n",
       "      <td>783817.0</td>\n",
       "      <td>1.0</td>\n",
       "      <td>2.0</td>\n",
       "      <td>1.0</td>\n",
       "      <td>全北</td>\n",
       "      <td>K1联赛</td>\n",
       "      <td>hr10g</td>\n",
       "      <td>1.0</td>\n",
       "      <td>庆南FC</td>\n",
       "    </tr>\n",
       "    <tr>\n",
       "      <th>1</th>\n",
       "      <td>2018-11-10</td>\n",
       "      <td>783817.0</td>\n",
       "      <td>0.0</td>\n",
       "      <td>0.0</td>\n",
       "      <td>0.0</td>\n",
       "      <td>济州联</td>\n",
       "      <td>K1联赛</td>\n",
       "      <td>hr10g</td>\n",
       "      <td>1.0</td>\n",
       "      <td>全北</td>\n",
       "    </tr>\n",
       "    <tr>\n",
       "      <th>2</th>\n",
       "      <td>2018-10-28</td>\n",
       "      <td>783817.0</td>\n",
       "      <td>0.0</td>\n",
       "      <td>2.0</td>\n",
       "      <td>2.0</td>\n",
       "      <td>全北</td>\n",
       "      <td>K1联赛</td>\n",
       "      <td>hr10g</td>\n",
       "      <td>2.0</td>\n",
       "      <td>水原</td>\n",
       "    </tr>\n",
       "    <tr>\n",
       "      <th>3</th>\n",
       "      <td>2018-10-07</td>\n",
       "      <td>783817.0</td>\n",
       "      <td>2.0</td>\n",
       "      <td>4.0</td>\n",
       "      <td>2.0</td>\n",
       "      <td>蔚山</td>\n",
       "      <td>K1联赛</td>\n",
       "      <td>hr10g</td>\n",
       "      <td>1.0</td>\n",
       "      <td>全北</td>\n",
       "    </tr>\n",
       "    <tr>\n",
       "      <th>4</th>\n",
       "      <td>2018-09-26</td>\n",
       "      <td>783817.0</td>\n",
       "      <td>0.0</td>\n",
       "      <td>1.0</td>\n",
       "      <td>1.0</td>\n",
       "      <td>全北</td>\n",
       "      <td>K1联赛</td>\n",
       "      <td>hr10g</td>\n",
       "      <td>2.0</td>\n",
       "      <td>全南天龙</td>\n",
       "    </tr>\n",
       "  </tbody>\n",
       "</table>\n",
       "</div>"
      ],
      "text/plain": [
       "         date       fid   gd   gn   gs host_team  name    pos  result  \\\n",
       "0  2018-12-02  783817.0  1.0  2.0  1.0        全北  K1联赛  hr10g     1.0   \n",
       "1  2018-11-10  783817.0  0.0  0.0  0.0       济州联  K1联赛  hr10g     1.0   \n",
       "2  2018-10-28  783817.0  0.0  2.0  2.0        全北  K1联赛  hr10g     2.0   \n",
       "3  2018-10-07  783817.0  2.0  4.0  2.0        蔚山  K1联赛  hr10g     1.0   \n",
       "4  2018-09-26  783817.0  0.0  1.0  1.0        全北  K1联赛  hr10g     2.0   \n",
       "\n",
       "  visit_team  \n",
       "0       庆南FC  \n",
       "1         全北  \n",
       "2         水原  \n",
       "3         全北  \n",
       "4       全南天龙  "
      ]
     },
     "execution_count": 14,
     "metadata": {},
     "output_type": "execute_result"
    }
   ],
   "source": [
    "df = pd.read_pickle('../data/f.refer.pkl')\n",
    "df.head()"
   ]
  },
  {
   "cell_type": "code",
   "execution_count": 15,
   "metadata": {},
   "outputs": [
    {
     "data": {
      "text/plain": [
       "(138, 10)"
      ]
     },
     "execution_count": 15,
     "metadata": {},
     "output_type": "execute_result"
    }
   ],
   "source": [
    "df.shape"
   ]
  },
  {
   "cell_type": "code",
   "execution_count": 13,
   "metadata": {},
   "outputs": [
    {
     "data": {
      "text/plain": [
       "datetime.datetime(2018, 10, 2, 0, 0)"
      ]
     },
     "execution_count": 13,
     "metadata": {},
     "output_type": "execute_result"
    }
   ],
   "source": [
    "from datetime import datetime\n",
    "datetime_object = datetime.strptime('2018-10-2', \"%Y-%m-%d\")\n",
    "datetime_object"
   ]
  },
  {
   "cell_type": "code",
   "execution_count": null,
   "metadata": {},
   "outputs": [],
   "source": []
  }
 ],
 "metadata": {
  "kernelspec": {
   "display_name": "Python 3",
   "language": "python",
   "name": "python3"
  },
  "language_info": {
   "codemirror_mode": {
    "name": "ipython",
    "version": 3
   },
   "file_extension": ".py",
   "mimetype": "text/x-python",
   "name": "python",
   "nbconvert_exporter": "python",
   "pygments_lexer": "ipython3",
   "version": "3.7.1"
  }
 },
 "nbformat": 4,
 "nbformat_minor": 2
}
