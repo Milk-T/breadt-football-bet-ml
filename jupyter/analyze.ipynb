{
 "cells": [
  {
   "cell_type": "code",
   "execution_count": 2,
   "metadata": {},
   "outputs": [],
   "source": [
    "import pandas as pd"
   ]
  },
  {
   "cell_type": "code",
   "execution_count": 7,
   "metadata": {},
   "outputs": [
    {
     "data": {
      "text/plain": [
       "(0, 0)"
      ]
     },
     "execution_count": 7,
     "metadata": {},
     "output_type": "execute_result"
    }
   ],
   "source": [
    "df = pd.read_pickle('../data/s.list.pkl')\n",
    "# df.head()\n",
    "df.shape"
   ]
  },
  {
   "cell_type": "code",
   "execution_count": 15,
   "metadata": {},
   "outputs": [
    {
     "data": {
      "text/plain": [
       "12098"
      ]
     },
     "execution_count": 15,
     "metadata": {},
     "output_type": "execute_result"
    }
   ],
   "source": [
    "len(df['fid'].drop_duplicates())"
   ]
  },
  {
   "cell_type": "code",
   "execution_count": 105,
   "metadata": {},
   "outputs": [
    {
     "data": {
      "text/plain": [
       "79013"
      ]
     },
     "execution_count": 105,
     "metadata": {},
     "output_type": "execute_result"
    }
   ],
   "source": [
    "target_df = pd.read_pickle('../data/f.brief.pkl')\n",
    "len(target_df)"
   ]
  },
  {
   "cell_type": "code",
   "execution_count": 5,
   "metadata": {},
   "outputs": [
    {
     "data": {
      "text/html": [
       "<div>\n",
       "<style scoped>\n",
       "    .dataframe tbody tr th:only-of-type {\n",
       "        vertical-align: middle;\n",
       "    }\n",
       "\n",
       "    .dataframe tbody tr th {\n",
       "        vertical-align: top;\n",
       "    }\n",
       "\n",
       "    .dataframe thead th {\n",
       "        text-align: right;\n",
       "    }\n",
       "</style>\n",
       "<table border=\"1\" class=\"dataframe\">\n",
       "  <thead>\n",
       "    <tr style=\"text-align: right;\">\n",
       "      <th></th>\n",
       "      <th>code</th>\n",
       "      <th>full_name</th>\n",
       "      <th>name</th>\n",
       "    </tr>\n",
       "  </thead>\n",
       "  <tbody>\n",
       "    <tr>\n",
       "      <th>0</th>\n",
       "      <td>000001</td>\n",
       "      <td>平安银行股份有限公司</td>\n",
       "      <td>平安银行</td>\n",
       "    </tr>\n",
       "    <tr>\n",
       "      <th>1</th>\n",
       "      <td>000002</td>\n",
       "      <td>万科企业股份有限公司</td>\n",
       "      <td>万科A</td>\n",
       "    </tr>\n",
       "    <tr>\n",
       "      <th>2</th>\n",
       "      <td>000004</td>\n",
       "      <td>深圳中国农大科技股份有限公司</td>\n",
       "      <td>国农科技</td>\n",
       "    </tr>\n",
       "    <tr>\n",
       "      <th>3</th>\n",
       "      <td>000005</td>\n",
       "      <td>深圳世纪星源股份有限公司</td>\n",
       "      <td>世纪星源</td>\n",
       "    </tr>\n",
       "    <tr>\n",
       "      <th>4</th>\n",
       "      <td>000006</td>\n",
       "      <td>深圳市振业(集团)股份有限公司</td>\n",
       "      <td>深振业Ａ</td>\n",
       "    </tr>\n",
       "  </tbody>\n",
       "</table>\n",
       "</div>"
      ],
      "text/plain": [
       "     code        full_name  name\n",
       "0  000001       平安银行股份有限公司  平安银行\n",
       "1  000002       万科企业股份有限公司   万科A\n",
       "2  000004   深圳中国农大科技股份有限公司  国农科技\n",
       "3  000005     深圳世纪星源股份有限公司  世纪星源\n",
       "4  000006  深圳市振业(集团)股份有限公司  深振业Ａ"
      ]
     },
     "execution_count": 5,
     "metadata": {},
     "output_type": "execute_result"
    }
   ],
   "source": [
    "df.head()"
   ]
  },
  {
   "cell_type": "code",
   "execution_count": 13,
   "metadata": {},
   "outputs": [
    {
     "data": {
      "text/html": [
       "<div>\n",
       "<style scoped>\n",
       "    .dataframe tbody tr th:only-of-type {\n",
       "        vertical-align: middle;\n",
       "    }\n",
       "\n",
       "    .dataframe tbody tr th {\n",
       "        vertical-align: top;\n",
       "    }\n",
       "\n",
       "    .dataframe thead th {\n",
       "        text-align: right;\n",
       "    }\n",
       "</style>\n",
       "<table border=\"1\" class=\"dataframe\">\n",
       "  <thead>\n",
       "    <tr style=\"text-align: right;\">\n",
       "      <th></th>\n",
       "      <th>id</th>\n",
       "      <th>fid</th>\n",
       "      <th>status</th>\n",
       "      <th>game</th>\n",
       "      <th>turn</th>\n",
       "      <th>home_team</th>\n",
       "      <th>visit_team</th>\n",
       "      <th>gs</th>\n",
       "      <th>gd</th>\n",
       "      <th>gn</th>\n",
       "      <th>offset</th>\n",
       "      <th>time</th>\n",
       "      <th>result</th>\n",
       "    </tr>\n",
       "  </thead>\n",
       "  <tbody>\n",
       "    <tr>\n",
       "      <th>0</th>\n",
       "      <td>1</td>\n",
       "      <td>331954</td>\n",
       "      <td>完</td>\n",
       "      <td>球会友谊</td>\n",
       "      <td>7月赛程</td>\n",
       "      <td>马来西亚明星队</td>\n",
       "      <td>切尔西</td>\n",
       "      <td>0</td>\n",
       "      <td>1</td>\n",
       "      <td>1</td>\n",
       "      <td>受三球半</td>\n",
       "      <td>2019-07-21 20:45:00</td>\n",
       "      <td>0</td>\n",
       "    </tr>\n",
       "    <tr>\n",
       "      <th>1</th>\n",
       "      <td>2</td>\n",
       "      <td>331955</td>\n",
       "      <td>完</td>\n",
       "      <td>欧　　联</td>\n",
       "      <td>资格赛4</td>\n",
       "      <td>萨拉热窝</td>\n",
       "      <td>奥雷布洛</td>\n",
       "      <td>2</td>\n",
       "      <td>0</td>\n",
       "      <td>2</td>\n",
       "      <td>平手/半球</td>\n",
       "      <td>2019-07-22 01:00:00</td>\n",
       "      <td>2</td>\n",
       "    </tr>\n",
       "    <tr>\n",
       "      <th>2</th>\n",
       "      <td>3</td>\n",
       "      <td>331956</td>\n",
       "      <td>完</td>\n",
       "      <td>欧　　联</td>\n",
       "      <td>资格赛4</td>\n",
       "      <td>奥勒松</td>\n",
       "      <td>费伦茨瓦罗斯</td>\n",
       "      <td>2</td>\n",
       "      <td>1</td>\n",
       "      <td>3</td>\n",
       "      <td>半球/一球</td>\n",
       "      <td>2019-07-22 01:00:00</td>\n",
       "      <td>2</td>\n",
       "    </tr>\n",
       "    <tr>\n",
       "      <th>3</th>\n",
       "      <td>4</td>\n",
       "      <td>321626</td>\n",
       "      <td>完</td>\n",
       "      <td>瑞 典 杯</td>\n",
       "      <td>半决赛</td>\n",
       "      <td>法尔肯堡</td>\n",
       "      <td>哥德堡</td>\n",
       "      <td>2</td>\n",
       "      <td>3</td>\n",
       "      <td>5</td>\n",
       "      <td>受一球</td>\n",
       "      <td>2019-07-22 01:00:00</td>\n",
       "      <td>0</td>\n",
       "    </tr>\n",
       "    <tr>\n",
       "      <th>4</th>\n",
       "      <td>5</td>\n",
       "      <td>331957</td>\n",
       "      <td>完</td>\n",
       "      <td>欧　　联</td>\n",
       "      <td>资格赛4</td>\n",
       "      <td>米迪兰特</td>\n",
       "      <td>新圣徒</td>\n",
       "      <td>5</td>\n",
       "      <td>2</td>\n",
       "      <td>7</td>\n",
       "      <td>两球/两球半</td>\n",
       "      <td>2019-07-22 01:15:00</td>\n",
       "      <td>2</td>\n",
       "    </tr>\n",
       "  </tbody>\n",
       "</table>\n",
       "</div>"
      ],
      "text/plain": [
       "   id     fid status   game  turn home_team visit_team  gs  gd  gn  offset  \\\n",
       "0   1  331954      完   球会友谊  7月赛程   马来西亚明星队        切尔西   0   1   1    受三球半   \n",
       "1   2  331955      完   欧　　联  资格赛4      萨拉热窝       奥雷布洛   2   0   2   平手/半球   \n",
       "2   3  331956      完   欧　　联  资格赛4       奥勒松     费伦茨瓦罗斯   2   1   3   半球/一球   \n",
       "3   4  321626      完  瑞 典 杯   半决赛      法尔肯堡        哥德堡   2   3   5     受一球   \n",
       "4   5  331957      完   欧　　联  资格赛4      米迪兰特        新圣徒   5   2   7  两球/两球半   \n",
       "\n",
       "                  time  result  \n",
       "0  2019-07-21 20:45:00       0  \n",
       "1  2019-07-22 01:00:00       2  \n",
       "2  2019-07-22 01:00:00       2  \n",
       "3  2019-07-22 01:00:00       0  \n",
       "4  2019-07-22 01:15:00       2  "
      ]
     },
     "execution_count": 13,
     "metadata": {},
     "output_type": "execute_result"
    }
   ],
   "source": [
    "games = pd.read_csv('../data/breadt_football_game_list.csv')\n",
    "games.head()"
   ]
  },
  {
   "cell_type": "code",
   "execution_count": null,
   "metadata": {},
   "outputs": [],
   "source": []
  }
 ],
 "metadata": {
  "kernelspec": {
   "display_name": "Python 3",
   "language": "python",
   "name": "python3"
  },
  "language_info": {
   "codemirror_mode": {
    "name": "ipython",
    "version": 3
   },
   "file_extension": ".py",
   "mimetype": "text/x-python",
   "name": "python",
   "nbconvert_exporter": "python",
   "pygments_lexer": "ipython3",
   "version": "3.7.1"
  }
 },
 "nbformat": 4,
 "nbformat_minor": 2
}
