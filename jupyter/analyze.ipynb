{
 "cells": [
  {
   "cell_type": "code",
   "execution_count": 1,
   "metadata": {},
   "outputs": [],
   "source": [
    "import pandas as pd"
   ]
  },
  {
   "cell_type": "code",
   "execution_count": 7,
   "metadata": {},
   "outputs": [
    {
     "data": {
      "text/html": [
       "<div>\n",
       "<style scoped>\n",
       "    .dataframe tbody tr th:only-of-type {\n",
       "        vertical-align: middle;\n",
       "    }\n",
       "\n",
       "    .dataframe tbody tr th {\n",
       "        vertical-align: top;\n",
       "    }\n",
       "\n",
       "    .dataframe thead th {\n",
       "        text-align: right;\n",
       "    }\n",
       "</style>\n",
       "<table border=\"1\" class=\"dataframe\">\n",
       "  <thead>\n",
       "    <tr style=\"text-align: right;\">\n",
       "      <th></th>\n",
       "      <th>fid</th>\n",
       "      <th>game</th>\n",
       "      <th>gd</th>\n",
       "      <th>gn</th>\n",
       "      <th>gs</th>\n",
       "      <th>home_team</th>\n",
       "      <th>offset</th>\n",
       "      <th>status</th>\n",
       "      <th>time</th>\n",
       "      <th>turn</th>\n",
       "      <th>visit_team</th>\n",
       "    </tr>\n",
       "  </thead>\n",
       "  <tbody>\n",
       "    <tr>\n",
       "      <th>0</th>\n",
       "      <td>331954.0</td>\n",
       "      <td>球会友谊</td>\n",
       "      <td>1.0</td>\n",
       "      <td>1.0</td>\n",
       "      <td>0.0</td>\n",
       "      <td>马来西亚明星队</td>\n",
       "      <td>受三球半</td>\n",
       "      <td>完</td>\n",
       "      <td>07-21 20:45</td>\n",
       "      <td>7月赛程</td>\n",
       "      <td>切尔西</td>\n",
       "    </tr>\n",
       "    <tr>\n",
       "      <th>1</th>\n",
       "      <td>331955.0</td>\n",
       "      <td>欧　　联</td>\n",
       "      <td>0.0</td>\n",
       "      <td>2.0</td>\n",
       "      <td>2.0</td>\n",
       "      <td>萨拉热窝</td>\n",
       "      <td>平手/半球</td>\n",
       "      <td>完</td>\n",
       "      <td>07-22 01:00</td>\n",
       "      <td>资格赛4</td>\n",
       "      <td>奥雷布洛</td>\n",
       "    </tr>\n",
       "    <tr>\n",
       "      <th>2</th>\n",
       "      <td>331956.0</td>\n",
       "      <td>欧　　联</td>\n",
       "      <td>1.0</td>\n",
       "      <td>3.0</td>\n",
       "      <td>2.0</td>\n",
       "      <td>奥勒松</td>\n",
       "      <td>半球/一球</td>\n",
       "      <td>完</td>\n",
       "      <td>07-22 01:00</td>\n",
       "      <td>资格赛4</td>\n",
       "      <td>费伦茨瓦罗斯</td>\n",
       "    </tr>\n",
       "    <tr>\n",
       "      <th>3</th>\n",
       "      <td>321626.0</td>\n",
       "      <td>瑞 典 杯</td>\n",
       "      <td>3.0</td>\n",
       "      <td>5.0</td>\n",
       "      <td>2.0</td>\n",
       "      <td>法尔肯堡</td>\n",
       "      <td>受一球</td>\n",
       "      <td>完</td>\n",
       "      <td>07-22 01:00</td>\n",
       "      <td>半决赛</td>\n",
       "      <td>哥德堡</td>\n",
       "    </tr>\n",
       "    <tr>\n",
       "      <th>4</th>\n",
       "      <td>331957.0</td>\n",
       "      <td>欧　　联</td>\n",
       "      <td>2.0</td>\n",
       "      <td>7.0</td>\n",
       "      <td>5.0</td>\n",
       "      <td>米迪兰特</td>\n",
       "      <td>两球/两球半</td>\n",
       "      <td>完</td>\n",
       "      <td>07-22 01:15</td>\n",
       "      <td>资格赛4</td>\n",
       "      <td>新圣徒</td>\n",
       "    </tr>\n",
       "  </tbody>\n",
       "</table>\n",
       "</div>"
      ],
      "text/plain": [
       "        fid   game   gd   gn   gs home_team  offset status         time  turn  \\\n",
       "0  331954.0   球会友谊  1.0  1.0  0.0   马来西亚明星队    受三球半      完  07-21 20:45  7月赛程   \n",
       "1  331955.0   欧　　联  0.0  2.0  2.0      萨拉热窝   平手/半球      完  07-22 01:00  资格赛4   \n",
       "2  331956.0   欧　　联  1.0  3.0  2.0       奥勒松   半球/一球      完  07-22 01:00  资格赛4   \n",
       "3  321626.0  瑞 典 杯  3.0  5.0  2.0      法尔肯堡     受一球      完  07-22 01:00   半决赛   \n",
       "4  331957.0   欧　　联  2.0  7.0  5.0      米迪兰特  两球/两球半      完  07-22 01:15  资格赛4   \n",
       "\n",
       "  visit_team  \n",
       "0        切尔西  \n",
       "1       奥雷布洛  \n",
       "2     费伦茨瓦罗斯  \n",
       "3        哥德堡  \n",
       "4        新圣徒  "
      ]
     },
     "execution_count": 7,
     "metadata": {},
     "output_type": "execute_result"
    }
   ],
   "source": [
    "df = pd.read_pickle('../data/f.brief.pkl')\n",
    "df.head()"
   ]
  },
  {
   "cell_type": "code",
   "execution_count": 8,
   "metadata": {},
   "outputs": [
    {
     "data": {
      "text/plain": [
       "(79013, 11)"
      ]
     },
     "execution_count": 8,
     "metadata": {},
     "output_type": "execute_result"
    }
   ],
   "source": [
    "df.shape"
   ]
  },
  {
   "cell_type": "code",
   "execution_count": null,
   "metadata": {},
   "outputs": [],
   "source": []
  }
 ],
 "metadata": {
  "kernelspec": {
   "display_name": "Python 3",
   "language": "python",
   "name": "python3"
  },
  "language_info": {
   "codemirror_mode": {
    "name": "ipython",
    "version": 3
   },
   "file_extension": ".py",
   "mimetype": "text/x-python",
   "name": "python",
   "nbconvert_exporter": "python",
   "pygments_lexer": "ipython3",
   "version": "3.7.1"
  }
 },
 "nbformat": 4,
 "nbformat_minor": 2
}
