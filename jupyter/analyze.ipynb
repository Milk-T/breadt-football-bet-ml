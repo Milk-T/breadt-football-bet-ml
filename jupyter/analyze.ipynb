{
 "cells": [
  {
   "cell_type": "code",
   "execution_count": 1,
   "metadata": {},
   "outputs": [],
   "source": [
    "import pandas as pd"
   ]
  },
  {
   "cell_type": "code",
   "execution_count": 9,
   "metadata": {},
   "outputs": [
    {
     "data": {
      "text/html": [
       "<div>\n",
       "<style scoped>\n",
       "    .dataframe tbody tr th:only-of-type {\n",
       "        vertical-align: middle;\n",
       "    }\n",
       "\n",
       "    .dataframe tbody tr th {\n",
       "        vertical-align: top;\n",
       "    }\n",
       "\n",
       "    .dataframe thead th {\n",
       "        text-align: right;\n",
       "    }\n",
       "</style>\n",
       "<table border=\"1\" class=\"dataframe\">\n",
       "  <thead>\n",
       "    <tr style=\"text-align: right;\">\n",
       "      <th></th>\n",
       "      <th>fid</th>\n",
       "      <th>game</th>\n",
       "      <th>gd</th>\n",
       "      <th>gn</th>\n",
       "      <th>gs</th>\n",
       "      <th>home_team</th>\n",
       "      <th>offset</th>\n",
       "      <th>status</th>\n",
       "      <th>time</th>\n",
       "      <th>turn</th>\n",
       "      <th>visit_team</th>\n",
       "    </tr>\n",
       "  </thead>\n",
       "  <tbody>\n",
       "    <tr>\n",
       "      <th>0</th>\n",
       "      <td>783817.0</td>\n",
       "      <td>K1联赛</td>\n",
       "      <td>1.0</td>\n",
       "      <td>2.0</td>\n",
       "      <td>1.0</td>\n",
       "      <td>全北现代</td>\n",
       "      <td>半球/一球</td>\n",
       "      <td>完</td>\n",
       "      <td>03-01 13:00</td>\n",
       "      <td>第1轮</td>\n",
       "      <td>大邱FC</td>\n",
       "    </tr>\n",
       "    <tr>\n",
       "      <th>1</th>\n",
       "      <td>783821.0</td>\n",
       "      <td>K1联赛</td>\n",
       "      <td>1.0</td>\n",
       "      <td>3.0</td>\n",
       "      <td>2.0</td>\n",
       "      <td>蔚山现代</td>\n",
       "      <td>平手/半球</td>\n",
       "      <td>完</td>\n",
       "      <td>03-01 15:00</td>\n",
       "      <td>第1轮</td>\n",
       "      <td>水原三星</td>\n",
       "    </tr>\n",
       "    <tr>\n",
       "      <th>2</th>\n",
       "      <td>765041.0</td>\n",
       "      <td>澳超</td>\n",
       "      <td>0.0</td>\n",
       "      <td>2.0</td>\n",
       "      <td>2.0</td>\n",
       "      <td>悉尼FC</td>\n",
       "      <td>半球</td>\n",
       "      <td>完</td>\n",
       "      <td>03-01 16:50</td>\n",
       "      <td>第21轮</td>\n",
       "      <td>阿德莱德</td>\n",
       "    </tr>\n",
       "    <tr>\n",
       "      <th>3</th>\n",
       "      <td>779394.0</td>\n",
       "      <td>日职</td>\n",
       "      <td>1.0</td>\n",
       "      <td>2.0</td>\n",
       "      <td>1.0</td>\n",
       "      <td>川崎前锋</td>\n",
       "      <td>半球/一球</td>\n",
       "      <td>完</td>\n",
       "      <td>03-01 18:00</td>\n",
       "      <td>第2轮</td>\n",
       "      <td>鹿岛鹿角</td>\n",
       "    </tr>\n",
       "    <tr>\n",
       "      <th>4</th>\n",
       "      <td>779396.0</td>\n",
       "      <td>日职</td>\n",
       "      <td>0.0</td>\n",
       "      <td>0.0</td>\n",
       "      <td>0.0</td>\n",
       "      <td>广岛三箭</td>\n",
       "      <td>半球</td>\n",
       "      <td>完</td>\n",
       "      <td>03-01 18:00</td>\n",
       "      <td>第2轮</td>\n",
       "      <td>磐田喜悦</td>\n",
       "    </tr>\n",
       "  </tbody>\n",
       "</table>\n",
       "</div>"
      ],
      "text/plain": [
       "        fid  game   gd   gn   gs home_team offset status         time  turn  \\\n",
       "0  783817.0  K1联赛  1.0  2.0  1.0      全北现代  半球/一球      完  03-01 13:00   第1轮   \n",
       "1  783821.0  K1联赛  1.0  3.0  2.0      蔚山现代  平手/半球      完  03-01 15:00   第1轮   \n",
       "2  765041.0    澳超  0.0  2.0  2.0      悉尼FC     半球      完  03-01 16:50  第21轮   \n",
       "3  779394.0    日职  1.0  2.0  1.0      川崎前锋  半球/一球      完  03-01 18:00   第2轮   \n",
       "4  779396.0    日职  0.0  0.0  0.0      广岛三箭     半球      完  03-01 18:00   第2轮   \n",
       "\n",
       "  visit_team  \n",
       "0       大邱FC  \n",
       "1       水原三星  \n",
       "2       阿德莱德  \n",
       "3       鹿岛鹿角  \n",
       "4       磐田喜悦  "
      ]
     },
     "execution_count": 9,
     "metadata": {},
     "output_type": "execute_result"
    }
   ],
   "source": [
    "df = pd.read_pickle('../data/f.brief.test.pkl')\n",
    "df.head()"
   ]
  },
  {
   "cell_type": "code",
   "execution_count": 10,
   "metadata": {},
   "outputs": [
    {
     "data": {
      "text/plain": [
       "(304, 11)"
      ]
     },
     "execution_count": 10,
     "metadata": {},
     "output_type": "execute_result"
    }
   ],
   "source": [
    "df.shape"
   ]
  },
  {
   "cell_type": "code",
   "execution_count": 13,
   "metadata": {},
   "outputs": [
    {
     "data": {
      "text/plain": [
       "datetime.datetime(2018, 10, 2, 0, 0)"
      ]
     },
     "execution_count": 13,
     "metadata": {},
     "output_type": "execute_result"
    }
   ],
   "source": [
    "from datetime import datetime\n",
    "datetime_object = datetime.strptime('2018-10-2', \"%Y-%m-%d\")\n",
    "datetime_object"
   ]
  },
  {
   "cell_type": "code",
   "execution_count": null,
   "metadata": {},
   "outputs": [],
   "source": []
  }
 ],
 "metadata": {
  "kernelspec": {
   "display_name": "Python 3",
   "language": "python",
   "name": "python3"
  },
  "language_info": {
   "codemirror_mode": {
    "name": "ipython",
    "version": 3
   },
   "file_extension": ".py",
   "mimetype": "text/x-python",
   "name": "python",
   "nbconvert_exporter": "python",
   "pygments_lexer": "ipython3",
   "version": "3.7.1"
  }
 },
 "nbformat": 4,
 "nbformat_minor": 2
}
